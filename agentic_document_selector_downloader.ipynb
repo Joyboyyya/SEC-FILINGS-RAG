{
 "cells": [
  {
   "cell_type": "code",
   "execution_count": 1,
   "metadata": {},
   "outputs": [
    {
     "data": {
      "text/plain": [
       "True"
      ]
     },
     "execution_count": 1,
     "metadata": {},
     "output_type": "execute_result"
    }
   ],
   "source": [
    "import os\n",
    "import requests\n",
    "from pydantic import BaseModel, ValidationError\n",
    "from typing import Annotated, Literal, Optional\n",
    "from datetime import datetime\n",
    "from autogen import ConversableAgent, register_function\n",
    "from dotenv import load_dotenv\n",
    "from transformers import AutoTokenizer, AutoModel\n",
    "import torch\n",
    "from sklearn.metrics.pairwise import cosine_similarity\n",
    "from langchain_community.embeddings import HuggingFaceEmbeddings\n",
    "\n",
    "from langchain_openai import ChatOpenAI\n",
    "from langchain_core.prompts import ChatPromptTemplate\n",
    "from langchain.output_parsers import PydanticOutputParser\n",
    "from langchain.chains import LLMChain\n",
    "import numpy as np\n",
    "import pandas as pd\n",
    "from io import StringIO\n",
    "import spacy\n",
    "from bs4 import BeautifulSoup\n",
    "import time\n",
    "import json\n",
    "import re\n",
    "from typing import List, Dict, Annotated\n",
    "\n",
    "load_dotenv()\n"
   ]
  },
  {
   "cell_type": "code",
   "execution_count": 2,
   "metadata": {},
   "outputs": [],
   "source": [
    "from openai import OpenAI\n",
    "import os\n",
    "import json\n",
    "import re\n",
    "import pdfkit\n",
    "import logging\n",
    "from datetime import datetime\n",
    "\n",
    "try:\n",
    "    from urllib.request import urlopen\n",
    "except ImportError:\n",
    "    from urllib2 import urlopen\n",
    "\n",
    "import certifi\n",
    "\n",
    "# logging.basicConfig(level=logging.INFO)"
   ]
  },
  {
   "cell_type": "code",
   "execution_count": 3,
   "metadata": {},
   "outputs": [],
   "source": [
    "FMP_API_KEY = os.getenv(\"FMP_API_KEY\")\n",
    "OPENAI_API_KEY = os.getenv(\"OPENAI_API_KEY\")"
   ]
  },
  {
   "cell_type": "code",
   "execution_count": 4,
   "metadata": {},
   "outputs": [],
   "source": [
    "class PromptInput(BaseModel):\n",
    "    prompt: Annotated[str, \"Input query or prompt\"]\n",
    "\n",
    "class DocumentSelectorOutput(BaseModel):\n",
    "    ticker: Annotated[str, \"The ticker symbol related to user query (e.g., AAPL, MSFT, BTC-USD).\"] = \"AAPL\"\n",
    "    document_type: Annotated[str, \"The document type related to user query (e.g., Form 10-K, Form 10-Q, Form 8-K).\"] = \"Form 10-K\"\n",
    "    year: Annotated[str, \"The year(format: YYYY) or quarter of the year(format: YYYY QX) related to user query (e.g., 2015, 2001, 2017 Q3).\"] = \"2023\"\n"
   ]
  },
  {
   "cell_type": "code",
   "execution_count": 30,
   "metadata": {},
   "outputs": [],
   "source": [
    "def get_jsonparsed_data(url: str) -> dict:\n",
    "    \"\"\"\n",
    "    Fetches and parses JSON data from a given URL.\n",
    "\n",
    "    Args:\n",
    "        url (str): The URL to fetch data from.\n",
    "\n",
    "    Returns:\n",
    "        dict: The JSON data as a dictionary.\n",
    "    \"\"\"\n",
    "    response = urlopen(url, cafile=certifi.where())\n",
    "    data = response.read().decode(\"utf-8\")\n",
    "    return json.loads(data)\n",
    "\n",
    "def is_within_quarter(date_str: str, year: str, start_month: int, end_month: int) -> bool:\n",
    "    \"\"\"\n",
    "    Checks if the given date falls within the specified fiscal quarter.\n",
    "\n",
    "    Args:\n",
    "        date_str (str): The date in 'YYYY-MM' format.\n",
    "        year (str): The fiscal year to check.\n",
    "        start_month (int): The starting month of the quarter.\n",
    "        end_month (int): The ending month of the quarter.\n",
    "\n",
    "    Returns:\n",
    "        bool: True if the date is within the fiscal quarter, False otherwise.\n",
    "    \"\"\"\n",
    "    date_parts = date_str.split('-')\n",
    "    date_year = date_parts[0]\n",
    "    date_month = int(date_parts[1])\n",
    "    return date_year == year and start_month <= date_month <= end_month\n",
    "\n",
    "def which_fiscal_year(date_str: str, fiscal_year: str) -> str:\n",
    "    \"\"\"\n",
    "    Determines the fiscal year for a given date.\n",
    "\n",
    "    Args:\n",
    "        date_str (str): The filing date in 'YYYY-MM-DD' format.\n",
    "        fiscal_year (str): The initial fiscal year.\n",
    "\n",
    "    Returns:\n",
    "        str: The fiscal year adjusted for the filing date.\n",
    "    \"\"\"\n",
    "    filing_date = datetime.strptime(date_str.split()[0], \"%Y-%m-%d\")\n",
    "    filing_month = filing_date.month\n",
    "    fiscal_year = int(fiscal_year)\n",
    "\n",
    "    if filing_month <= 3:\n",
    "        fiscal_year += 1\n",
    "    \n",
    "    return str(fiscal_year)\n",
    "\n",
    "def document_selector_downloader(\n",
    "    ticker: Annotated[str, \"The ticker symbol related to user query (e.g., AAPL, MSFT, BTC-USD).\"] = \"AAPL\",\n",
    "    document_type: Annotated[str, \"The document type related to user query (e.g., Form 10-K, Form 10-Q, Form 8-K).\"] = \"Form 10-K\",\n",
    "    year: Annotated[str, \"The year(format: YYYY) or quarter of the year(format: YYYY QX) related to user query (e.g., 2015, 2001, 2017 Q3).\"] = \"2023\"\n",
    ") -> None:\n",
    "    \"\"\"\n",
    "    Downloads and saves a specific SEC document based on the provided parameters.\n",
    "\n",
    "    Args:\n",
    "        ticker (str): The ticker symbol of the company.\n",
    "        document_type (str): The type of document to download (e.g., Form 10-K, Form 10-Q).\n",
    "        year (str): The year or fiscal quarter to filter documents.\n",
    "    \n",
    "    Returns:\n",
    "        None\n",
    "    \"\"\"\n",
    "    pipeline_output = {'ticker': ticker, 'document_type': document_type, 'year': year}\n",
    "\n",
    "    api_key = os.getenv('FMP_API_KEY')\n",
    "    if api_key is None:\n",
    "        raise ValueError(\"No API key found. Please set the FMP_API_KEY environment variable.\")\n",
    "\n",
    "    document_type_mapping = {\n",
    "        \"Form 10-K\": \"10-k\",\n",
    "        \"Form 10-Q\": \"10-q\"\n",
    "    }\n",
    "\n",
    "    quarter_map = {\n",
    "        \"Q1\": (1, 3),\n",
    "        \"Q2\": (4, 6),\n",
    "        \"Q3\": (7, 9),\n",
    "        \"Q4\": (10, 12)\n",
    "    }\n",
    "\n",
    "    filing_type = document_type_mapping.get(pipeline_output.get('document_type'))\n",
    "    if not filing_type:\n",
    "        raise ValueError(f\"Unsupported document type: {pipeline_output.get('document_type')}\")\n",
    "\n",
    "    ticker = pipeline_output.get('ticker')\n",
    "    if not ticker:\n",
    "        raise ValueError(\"Ticker is required.\")\n",
    "\n",
    "    year_quarter = pipeline_output.get('year')\n",
    "    if not year_quarter:\n",
    "        raise ValueError(\"Year/Quarter is required.\")\n",
    "    \n",
    "    if filing_type == \"10-k\":\n",
    "        output_dir = os.path.join(\"data\", \"sec-edgar-filings\", ticker, filing_type, year_quarter)\n",
    "    elif filing_type == \"10-q\":\n",
    "        year, quarter = year_quarter.split()\n",
    "        start_month, end_month = quarter_map[quarter]\n",
    "        output_dir = os.path.join(\"data\", \"sec-edgar-filings\", ticker, filing_type, year, quarter)\n",
    "\n",
    "    pdf_path = os.path.join(output_dir, 'primary_document.pdf')\n",
    "\n",
    "    if os.path.exists(pdf_path):\n",
    "        logging.info(f\"PDF already exists at {pdf_path}. Skipping download.\")\n",
    "        return\n",
    "\n",
    "    url = f\"https://financialmodelingprep.com/api/v3/sec_filings/{ticker}?type={filing_type}&page=0&apikey={api_key}\"\n",
    "\n",
    "    try:\n",
    "        fmp_results = get_jsonparsed_data(url)\n",
    "    except Exception as e:\n",
    "        raise RuntimeError(f\"Failed to fetch data from FMP: {e}\")\n",
    "\n",
    "    if filing_type == \"10-k\":\n",
    "        year_quarter = which_fiscal_year(fmp_results[0]['fillingDate'], year_quarter)\n",
    "        filtered_fmp_results = [i for i in fmp_results if re.search(year_quarter, i['fillingDate'])]\n",
    "        print(filtered_fmp_results)\n",
    "        output_dir = os.path.join(\"data\", \"sec-edgar-filings\", ticker, filing_type, year)\n",
    "    elif filing_type == \"10-q\":\n",
    "        year, quarter = year_quarter.split()\n",
    "        start_month, end_month = quarter_map[quarter]\n",
    "        filtered_fmp_results = [i for i in fmp_results if is_within_quarter(i['fillingDate'], year, start_month, end_month)]\n",
    "        print(filtered_fmp_results)\n",
    "        output_dir = os.path.join(\"data\", \"sec-edgar-filings\", ticker, filing_type, year, quarter)\n",
    "\n",
    "    if not filtered_fmp_results:\n",
    "        raise ValueError(\"No matching SEC filings found.\")\n",
    "\n",
    "    os.makedirs(output_dir, exist_ok=True)\n",
    "\n",
    "    path_to_wkhtmltopdf = os.getenv('WKHTMLTOPDF_PATH', r'C:\\Program Files\\wkhtmltopdf\\bin\\wkhtmltopdf.exe')\n",
    "    if not os.path.exists(path_to_wkhtmltopdf):\n",
    "        raise FileNotFoundError(f\"wkhtmltopdf not found at {path_to_wkhtmltopdf}\")\n",
    "\n",
    "    url = filtered_fmp_results[0]['finalLink']\n",
    "    pdf_path = os.path.join(output_dir, 'primary_document.pdf')\n",
    "\n",
    "    config = pdfkit.configuration(wkhtmltopdf=path_to_wkhtmltopdf)\n",
    "\n",
    "    try:\n",
    "        pdfkit.from_url(url, pdf_path, configuration=config)\n",
    "        logging.info(f\"PDF generated and saved at {pdf_path}\")\n",
    "    except Exception as e:\n",
    "        logging.error(f\"PDF generation failed: {e}\")\n",
    "        raise\n"
   ]
  },
  {
   "cell_type": "code",
   "execution_count": 31,
   "metadata": {},
   "outputs": [],
   "source": [
    "from langchain.prompts import ChatPromptTemplate\n",
    "from langchain_core.output_parsers import StrOutputParser\n",
    "from langchain_openai import ChatOpenAI\n",
    "from typing import List, Annotated\n",
    "\n",
    "# Define the RAG-Fusion prompt template\n",
    "template = \"\"\"You are a helpful assistant that generates multiple search queries based on a single input query. \\n\n",
    "Generate multiple search queries related to: {question} \\n\n",
    "Output (4 queries):\"\"\"\n",
    "prompt_rag_fusion = ChatPromptTemplate.from_template(template)\n",
    "\n",
    "# Define the pipeline for generating queries\n",
    "generate_queries = (\n",
    "    prompt_rag_fusion \n",
    "    | ChatOpenAI(temperature=0) \n",
    "    | StrOutputParser() \n",
    "    | (lambda x: x.split(\"\\n\"))\n",
    ")\n",
    "\n",
    "def query_translation_rag_fusion(\n",
    "    input: Annotated[str, \"User input prompt or query related to qualitative data to undergo query translation\"]\n",
    ") -> List[str]:\n",
    "    \"\"\"\n",
    "    Generates multiple search queries based on a single input prompt using the RAG-Fusion approach.\n",
    "\n",
    "    Args:\n",
    "        input (str): The user's input prompt or query for generating related search queries.\n",
    "\n",
    "    Returns:\n",
    "        List[str]: A list of generated search queries.\n",
    "    \"\"\"\n",
    "    # Execute the generate_queries pipeline with the input\n",
    "    pipeline = generate_queries\n",
    "    queries = pipeline.invoke({\"question\": input})\n",
    "    return queries\n"
   ]
  },
  {
   "cell_type": "code",
   "execution_count": 32,
   "metadata": {},
   "outputs": [
    {
     "name": "stderr",
     "output_type": "stream",
     "text": [
      "INFO:httpx:HTTP Request: POST https://api.openai.com/v1/chat/completions \"HTTP/1.1 200 OK\"\n"
     ]
    },
    {
     "data": {
      "text/plain": [
       "['1. What are the biggest cybersecurity risks for Amazon.com Inc. (AMZN)?',\n",
       " '2. What are the biggest regulatory risks for Amazon.com Inc. (AMZN)?',\n",
       " '3. What are the biggest competition risks for Amazon.com Inc. (AMZN)?',\n",
       " '4. What are the biggest supply chain risks for Amazon.com Inc. (AMZN)?']"
      ]
     },
     "execution_count": 32,
     "metadata": {},
     "output_type": "execute_result"
    }
   ],
   "source": [
    "query_translation_rag_fusion(\"What are the biggest discussed risks for Amazon.com Inc. (AMZN)?\")"
   ]
  },
  {
   "cell_type": "code",
   "execution_count": 33,
   "metadata": {},
   "outputs": [],
   "source": [
    "system_message = \"\"\"You are an expert financial analyst that always answers questions with the most relevant information using the tools at your disposal.\n",
    "These tools have information regarding companies that the user has expressed interest in.\n",
    "Here are some guidelines that you must follow:\n",
    "* For financial questions, you must use the tools to find the answer and then write a response.\n",
    "* Even if it seems like your tools won't be able to answer the question, you must still use them to find the most relevant information and insights. Not using them will appear as if you are not doing your job.\n",
    "* You may assume that the users financial questions are related to the documents they've selected.\n",
    "* For any user message that isn't related to financial analysis, respectfully decline to respond and suggest that the user ask a relevant question.\n",
    "* If your tools are unable to find an answer, you should say that you haven't found an answer but still relay any useful information the tools found.\n",
    "\n",
    "Provide a comprehensive answer to the user's question using the retrieved data. Dont just list data. If possible try to analyze the data and give interesting insights.\n",
    "\n",
    "Return 'TERMINATE' when the task is completed.\n",
    "\"\"\"\n",
    "\n",
    "# Define the assistant agent\n",
    "assistant = ConversableAgent(\n",
    "    name=\"Assistant\",\n",
    "    system_message=system_message,\n",
    "    is_termination_msg=lambda msg: msg.get(\"content\") is not None and \"TERMINATE\" in msg[\"content\"],\n",
    "    max_consecutive_auto_reply=5,\n",
    "    llm_config={\"config_list\": [{\"model\": \"gpt-3.5-turbo-1106\", \"api_key\": OPENAI_API_KEY}]},\n",
    "    human_input_mode=\"NEVER\",\n",
    ")\n",
    "\n",
    "# Define the user proxy agent\n",
    "user_proxy = ConversableAgent(\n",
    "    name=\"User\",\n",
    "    llm_config=False,\n",
    "    is_termination_msg=lambda msg: msg.get(\"content\") is not None and \"TERMINATE\" in msg[\"content\"],\n",
    "    human_input_mode=\"NEVER\",\n",
    ")\n"
   ]
  },
  {
   "cell_type": "code",
   "execution_count": 36,
   "metadata": {},
   "outputs": [
    {
     "name": "stderr",
     "output_type": "stream",
     "text": [
      "WARNING:autogen.function_utils:The return type of the function 'document_selector_downloader' is not annotated. Although annotating it is optional, the function should return either a string, a subclass of 'pydantic.BaseModel'.\n"
     ]
    }
   ],
   "source": [
    "register_function(\n",
    "    query_translation_rag_fusion,\n",
    "    caller=assistant,\n",
    "    executor=user_proxy,\n",
    "    name=\"query_translation_rag_fusion\",\n",
    "    description=\"This function helps in query translation of a user prompt related to qualitative financial data. Run this tool before running 'document_selector_downloader' tool and this is the step 1 of rag pipeline for answering questions related to qualitative financial data.\"\n",
    ")\n",
    "\n",
    "register_function(\n",
    "    document_selector_downloader,\n",
    "    caller=assistant,\n",
    "    executor=user_proxy,\n",
    "    name=\"document_selector_downloader\",\n",
    "    description=\"This function downloads specific financial documents (e.g., Form 10-K, Form 10-Q) for a given company ticker symbol and year or quarter. It fetches the documents from the Financial Modeling Prep API, filters the results based on the user's query, and saves the primary document as a PDF. The function requires a valid FMP API key and the wkhtmltopdf tool. This is the step 2 of rag pipeline for answering questions related to qualitative financial data.\"\n",
    ")\n"
   ]
  },
  {
   "cell_type": "code",
   "execution_count": 37,
   "metadata": {},
   "outputs": [
    {
     "name": "stdout",
     "output_type": "stream",
     "text": [
      "\u001b[33mUser\u001b[0m (to Assistant):\n",
      "\n",
      "What are the biggest discussed risks for Amazon.com Inc. (AMZN)?\n",
      "\n",
      "--------------------------------------------------------------------------------\n"
     ]
    },
    {
     "name": "stderr",
     "output_type": "stream",
     "text": [
      "INFO:httpx:HTTP Request: POST https://api.openai.com/v1/chat/completions \"HTTP/1.1 200 OK\"\n"
     ]
    },
    {
     "name": "stdout",
     "output_type": "stream",
     "text": [
      "\u001b[33mAssistant\u001b[0m (to User):\n",
      "\n",
      "\u001b[32m***** Suggested tool call (call_FY7HTzZYHaJ5GCgwLUfk46bX): document_selector_downloader *****\u001b[0m\n",
      "Arguments: \n",
      "{\"ticker\":\"AMZN\",\"document_type\":\"Form 10-K\",\"year\":\"2022\"}\n",
      "\u001b[32m*********************************************************************************************\u001b[0m\n",
      "\n",
      "--------------------------------------------------------------------------------\n",
      "\u001b[35m\n",
      ">>>>>>>> EXECUTING FUNCTION document_selector_downloader...\u001b[0m\n"
     ]
    },
    {
     "name": "stderr",
     "output_type": "stream",
     "text": [
      "INFO:root:PDF already exists at data\\sec-edgar-filings\\AMZN\\10-k\\2022\\primary_document.pdf. Skipping download.\n"
     ]
    },
    {
     "name": "stdout",
     "output_type": "stream",
     "text": [
      "\u001b[33mUser\u001b[0m (to Assistant):\n",
      "\n",
      "\u001b[33mUser\u001b[0m (to Assistant):\n",
      "\n",
      "\u001b[32m***** Response from calling tool (call_FY7HTzZYHaJ5GCgwLUfk46bX) *****\u001b[0m\n",
      "null\n",
      "\u001b[32m**********************************************************************\u001b[0m\n",
      "\n",
      "--------------------------------------------------------------------------------\n"
     ]
    },
    {
     "name": "stderr",
     "output_type": "stream",
     "text": [
      "INFO:httpx:HTTP Request: POST https://api.openai.com/v1/chat/completions \"HTTP/1.1 200 OK\"\n"
     ]
    },
    {
     "name": "stdout",
     "output_type": "stream",
     "text": [
      "\u001b[33mAssistant\u001b[0m (to User):\n",
      "\n",
      "I'm currently unable to retrieve the specific risks discussed for Amazon.com Inc. in the latest Form 10-K document for the year 2022. However, based on historical data, some of the biggest risks discussed for Amazon.com Inc. include competition, legal and regulatory issues, cybersecurity threats, and market fluctuations.\n",
      "\n",
      "If you would like me to attempt to retrieve this information again or if you have any other questions, please let me know.\n",
      "\n",
      "--------------------------------------------------------------------------------\n",
      "\u001b[33mUser\u001b[0m (to Assistant):\n",
      "\n",
      "\n",
      "\n",
      "--------------------------------------------------------------------------------\n"
     ]
    },
    {
     "name": "stderr",
     "output_type": "stream",
     "text": [
      "INFO:httpx:HTTP Request: POST https://api.openai.com/v1/chat/completions \"HTTP/1.1 200 OK\"\n"
     ]
    },
    {
     "name": "stdout",
     "output_type": "stream",
     "text": [
      "\u001b[33mAssistant\u001b[0m (to User):\n",
      "\n",
      "It seems like your message was cut off. If you have a financial question or if there's anything specific you'd like to know, feel free to ask!\n",
      "\n",
      "--------------------------------------------------------------------------------\n",
      "\u001b[33mUser\u001b[0m (to Assistant):\n",
      "\n",
      "\n",
      "\n",
      "--------------------------------------------------------------------------------\n"
     ]
    },
    {
     "name": "stderr",
     "output_type": "stream",
     "text": [
      "INFO:httpx:HTTP Request: POST https://api.openai.com/v1/chat/completions \"HTTP/1.1 200 OK\"\n"
     ]
    },
    {
     "name": "stdout",
     "output_type": "stream",
     "text": [
      "\u001b[33mAssistant\u001b[0m (to User):\n",
      "\n",
      "It looks like the message was not completed. If you have a financial question or need assistance with anything else, please let me know how I can help!\n",
      "\n",
      "--------------------------------------------------------------------------------\n",
      "\u001b[33mUser\u001b[0m (to Assistant):\n",
      "\n",
      "\n",
      "\n",
      "--------------------------------------------------------------------------------\n"
     ]
    },
    {
     "name": "stderr",
     "output_type": "stream",
     "text": [
      "INFO:httpx:HTTP Request: POST https://api.openai.com/v1/chat/completions \"HTTP/1.1 200 OK\"\n"
     ]
    },
    {
     "name": "stdout",
     "output_type": "stream",
     "text": [
      "\u001b[33mAssistant\u001b[0m (to User):\n",
      "\n",
      "If you have any financial questions or need assistance with financial analysis, feel free to ask!\n",
      "\n",
      "--------------------------------------------------------------------------------\n",
      "\u001b[33mUser\u001b[0m (to Assistant):\n",
      "\n",
      "\n",
      "\n",
      "--------------------------------------------------------------------------------\n"
     ]
    }
   ],
   "source": [
    "chat_result = user_proxy.initiate_chat(\n",
    "    assistant,\n",
    "    message=\"What are the biggest discussed risks for Amazon.com Inc. (AMZN)?\"\n",
    ")"
   ]
  },
  {
   "cell_type": "code",
   "execution_count": 8,
   "metadata": {},
   "outputs": [
    {
     "name": "stdout",
     "output_type": "stream",
     "text": [
      "\u001b[33mUser\u001b[0m (to Assistant):\n",
      "\n",
      "What are the strengths and weakness of NVDA and AMD over the past two years?\n",
      "\n",
      "--------------------------------------------------------------------------------\n",
      "\u001b[33mAssistant\u001b[0m (to User):\n",
      "\n",
      "\u001b[32m***** Suggested tool call (call_UQkfsmWWIJ0AjnOOB3jIW9CP): document_selector_downloader *****\u001b[0m\n",
      "Arguments: \n",
      "{\"ticker\": \"NVDA\", \"document_type\": \"Form 10-K\", \"year\": \"2020\"}\n",
      "\u001b[32m*********************************************************************************************\u001b[0m\n",
      "\u001b[32m***** Suggested tool call (call_CK6YbEWLIgcapkAKa5zuCDIe): document_selector_downloader *****\u001b[0m\n",
      "Arguments: \n",
      "{\"ticker\": \"AMD\", \"document_type\": \"Form 10-K\", \"year\": \"2020\"}\n",
      "\u001b[32m*********************************************************************************************\u001b[0m\n",
      "\u001b[32m***** Suggested tool call (call_IAdWwBjLwICU0P5LFuwxf804): document_selector_downloader *****\u001b[0m\n",
      "Arguments: \n",
      "{\"ticker\": \"NVDA\", \"document_type\": \"Form 10-K\", \"year\": \"2019\"}\n",
      "\u001b[32m*********************************************************************************************\u001b[0m\n",
      "\u001b[32m***** Suggested tool call (call_1Nh4jn8w9XCvk8E4AdUZ3gLR): document_selector_downloader *****\u001b[0m\n",
      "Arguments: \n",
      "{\"ticker\": \"AMD\", \"document_type\": \"Form 10-K\", \"year\": \"2019\"}\n",
      "\u001b[32m*********************************************************************************************\u001b[0m\n",
      "\n",
      "--------------------------------------------------------------------------------\n",
      "\u001b[35m\n",
      ">>>>>>>> EXECUTING FUNCTION document_selector_downloader...\u001b[0m\n"
     ]
    },
    {
     "name": "stderr",
     "output_type": "stream",
     "text": [
      "INFO:root:PDF already exists at data\\sec-edgar-filings\\NVDA\\10-k\\2020\\primary_document.pdf. Skipping download.\n"
     ]
    },
    {
     "name": "stdout",
     "output_type": "stream",
     "text": [
      "\u001b[35m\n",
      ">>>>>>>> EXECUTING FUNCTION document_selector_downloader...\u001b[0m\n"
     ]
    },
    {
     "name": "stderr",
     "output_type": "stream",
     "text": [
      "INFO:root:PDF already exists at data\\sec-edgar-filings\\AMD\\10-k\\2020\\primary_document.pdf. Skipping download.\n"
     ]
    },
    {
     "name": "stdout",
     "output_type": "stream",
     "text": [
      "\u001b[35m\n",
      ">>>>>>>> EXECUTING FUNCTION document_selector_downloader...\u001b[0m\n"
     ]
    },
    {
     "name": "stderr",
     "output_type": "stream",
     "text": [
      "INFO:root:PDF already exists at data\\sec-edgar-filings\\NVDA\\10-k\\2019\\primary_document.pdf. Skipping download.\n"
     ]
    },
    {
     "name": "stdout",
     "output_type": "stream",
     "text": [
      "\u001b[35m\n",
      ">>>>>>>> EXECUTING FUNCTION document_selector_downloader...\u001b[0m\n"
     ]
    },
    {
     "name": "stderr",
     "output_type": "stream",
     "text": [
      "INFO:root:PDF already exists at data\\sec-edgar-filings\\AMD\\10-k\\2019\\primary_document.pdf. Skipping download.\n"
     ]
    },
    {
     "name": "stdout",
     "output_type": "stream",
     "text": [
      "\u001b[33mUser\u001b[0m (to Assistant):\n",
      "\n",
      "\u001b[33mUser\u001b[0m (to Assistant):\n",
      "\n",
      "\u001b[32m***** Response from calling tool (call_UQkfsmWWIJ0AjnOOB3jIW9CP) *****\u001b[0m\n",
      "null\n",
      "\u001b[32m**********************************************************************\u001b[0m\n",
      "\n",
      "--------------------------------------------------------------------------------\n",
      "\u001b[33mUser\u001b[0m (to Assistant):\n",
      "\n",
      "\u001b[32m***** Response from calling tool (call_CK6YbEWLIgcapkAKa5zuCDIe) *****\u001b[0m\n",
      "null\n",
      "\u001b[32m**********************************************************************\u001b[0m\n",
      "\n",
      "--------------------------------------------------------------------------------\n",
      "\u001b[33mUser\u001b[0m (to Assistant):\n",
      "\n",
      "\u001b[32m***** Response from calling tool (call_IAdWwBjLwICU0P5LFuwxf804) *****\u001b[0m\n",
      "null\n",
      "\u001b[32m**********************************************************************\u001b[0m\n",
      "\n",
      "--------------------------------------------------------------------------------\n",
      "\u001b[33mUser\u001b[0m (to Assistant):\n",
      "\n",
      "\u001b[32m***** Response from calling tool (call_1Nh4jn8w9XCvk8E4AdUZ3gLR) *****\u001b[0m\n",
      "null\n",
      "\u001b[32m**********************************************************************\u001b[0m\n",
      "\n",
      "--------------------------------------------------------------------------------\n",
      "\u001b[33mAssistant\u001b[0m (to User):\n",
      "\n",
      "I'm unable to retrieve the specific Form 10-K documents for NVDA and AMD over the past two years. However, I can provide some general insights based on publicly available data.\n",
      "\n",
      "Strengths of NVDA over the past two years:\n",
      "1. Strong Performance: NVDA has shown strong financial performance with consistent growth in revenue and profits.\n",
      "2. Dominant Position in GPUs: NVDA has a dominant position in the market for graphics processing units (GPUs), especially in the gaming and data center segments.\n",
      "3. Diversification: NVDA has diversified its product offerings beyond GPUs into areas such as artificial intelligence, autonomous vehicles, and cloud computing.\n",
      "\n",
      "Weaknesses of NVDA over the past two years:\n",
      "1. Market Competition: NVDA faces competition from other semiconductor companies and technology giants, which may impact its market share and pricing power.\n",
      "2. Global Economic Conditions: Economic fluctuations and geopolitical tensions can impact NVDA's sales and profitability.\n",
      "3. Technological Innovation: NVDA operates in a rapidly evolving industry, and staying ahead of technological advancements is crucial to maintain its competitive edge.\n",
      "\n",
      "Strengths of AMD over the past two years:\n",
      "1. Market Share Growth: AMD has gained market share in the CPU and GPU segments, challenging the dominance of its competitors.\n",
      "2. Product Innovation: AMD's product portfolio has seen significant improvements, leading to increased demand for its products in various market segments.\n",
      "3. Strategic Partnerships: AMD has formed strategic partnerships with technology companies, enhancing its market presence and product offerings.\n",
      "\n",
      "Weaknesses of AMD over the past two years:\n",
      "1. Profit Margins: AMD's profit margins are historically lower compared to some of its competitors, which may impact its overall financial performance.\n",
      "2. Competition from Intel and NVIDIA: AMD faces intense competition from industry giants like Intel and NVIDIA, which creates pricing pressure and challenges market share expansion.\n",
      "3. Supply Chain Vulnerabilities: AMD relies on complex global supply chains, and disruptions can impact its ability to deliver products to customers and meet demand.\n",
      "\n",
      "These insights are based on general trends and publicly available information about NVDA and AMD. For a more detailed analysis, specific financial documents would be required.\n",
      "\n",
      "\n",
      "--------------------------------------------------------------------------------\n",
      "\u001b[33mUser\u001b[0m (to Assistant):\n",
      "\n",
      "\n",
      "\n",
      "--------------------------------------------------------------------------------\n",
      "\u001b[33mAssistant\u001b[0m (to User):\n",
      "\n",
      "It seems like your message was cut off. If you have any other financial questions or if there's anything else I can assist you with, feel free to ask!\n",
      "\n",
      "--------------------------------------------------------------------------------\n",
      "\u001b[33mUser\u001b[0m (to Assistant):\n",
      "\n",
      "\n",
      "\n",
      "--------------------------------------------------------------------------------\n",
      "\u001b[33mAssistant\u001b[0m (to User):\n",
      "\n",
      "It seems like your last message was empty. If you have any financial questions or need assistance with anything else, please feel free to ask!\n",
      "\n",
      "--------------------------------------------------------------------------------\n",
      "\u001b[33mUser\u001b[0m (to Assistant):\n",
      "\n",
      "\n",
      "\n",
      "--------------------------------------------------------------------------------\n",
      "\u001b[33mAssistant\u001b[0m (to User):\n",
      "\n",
      "If you have any financial questions or need assistance with anything else, feel free to ask!\n",
      "\n",
      "--------------------------------------------------------------------------------\n",
      "\u001b[33mUser\u001b[0m (to Assistant):\n",
      "\n",
      "\n",
      "\n",
      "--------------------------------------------------------------------------------\n"
     ]
    }
   ],
   "source": [
    "chat_result = user_proxy.initiate_chat(\n",
    "    assistant,\n",
    "    message=\"What are the strengths and weakness of NVDA and AMD over the past two years?\"\n",
    ")"
   ]
  },
  {
   "cell_type": "code",
   "execution_count": 9,
   "metadata": {},
   "outputs": [
    {
     "name": "stdout",
     "output_type": "stream",
     "text": [
      "\u001b[33mUser\u001b[0m (to Assistant):\n",
      "\n",
      "How is microsoft performing for past three years?\n",
      "\n",
      "--------------------------------------------------------------------------------\n"
     ]
    },
    {
     "name": "stderr",
     "output_type": "stream",
     "text": [
      "INFO:httpx:HTTP Request: POST https://api.openai.com/v1/chat/completions \"HTTP/1.1 200 OK\"\n"
     ]
    },
    {
     "name": "stdout",
     "output_type": "stream",
     "text": [
      "\u001b[33mAssistant\u001b[0m (to User):\n",
      "\n",
      "\u001b[32m***** Suggested tool call (call_bSauheYVRfYiae7Lwfl1cacK): document_selector_downloader *****\u001b[0m\n",
      "Arguments: \n",
      "{\"ticker\":\"MSFT\",\"document_type\":\"Form 10-K\",\"year\":\"2019\"}\n",
      "\u001b[32m*********************************************************************************************\u001b[0m\n",
      "\n",
      "--------------------------------------------------------------------------------\n",
      "\u001b[35m\n",
      ">>>>>>>> EXECUTING FUNCTION document_selector_downloader...\u001b[0m\n"
     ]
    },
    {
     "name": "stderr",
     "output_type": "stream",
     "text": [
      "C:\\Users\\goldr\\AppData\\Local\\Temp\\ipykernel_17724\\3999682696.py:2: DeprecationWarning: cafile, capath and cadefault are deprecated, use a custom context instead.\n",
      "  response = urlopen(url, cafile=certifi.where())\n"
     ]
    },
    {
     "name": "stdout",
     "output_type": "stream",
     "text": [
      "[{'symbol': 'MSFT', 'fillingDate': '2019-08-01 00:00:00', 'acceptedDate': '2019-08-01 16:09:55', 'cik': '0000789019', 'type': '10-K', 'link': 'https://www.sec.gov/Archives/edgar/data/789019/000156459019027952/0001564590-19-027952-index.htm', 'finalLink': 'https://www.sec.gov/Archives/edgar/data/789019/000156459019027952/msft-10k_20190630.htm'}]\n"
     ]
    },
    {
     "name": "stderr",
     "output_type": "stream",
     "text": [
      "INFO:root:PDF generated and saved at data\\sec-edgar-filings\\MSFT\\10-k\\2019\\primary_document.pdf\n"
     ]
    },
    {
     "name": "stdout",
     "output_type": "stream",
     "text": [
      "\u001b[33mUser\u001b[0m (to Assistant):\n",
      "\n",
      "\u001b[33mUser\u001b[0m (to Assistant):\n",
      "\n",
      "\u001b[32m***** Response from calling tool (call_bSauheYVRfYiae7Lwfl1cacK) *****\u001b[0m\n",
      "null\n",
      "\u001b[32m**********************************************************************\u001b[0m\n",
      "\n",
      "--------------------------------------------------------------------------------\n"
     ]
    },
    {
     "name": "stderr",
     "output_type": "stream",
     "text": [
      "INFO:httpx:HTTP Request: POST https://api.openai.com/v1/chat/completions \"HTTP/1.1 200 OK\"\n"
     ]
    },
    {
     "name": "stdout",
     "output_type": "stream",
     "text": [
      "\u001b[33mAssistant\u001b[0m (to User):\n",
      "\n",
      "\u001b[32m***** Suggested tool call (call_JE03X08hXvnqptDkQM3W2gP8): document_selector_downloader *****\u001b[0m\n",
      "Arguments: \n",
      "{\"ticker\":\"MSFT\",\"document_type\":\"Form 10-K\",\"year\":\"2018\"}\n",
      "\u001b[32m*********************************************************************************************\u001b[0m\n",
      "\n",
      "--------------------------------------------------------------------------------\n",
      "\u001b[35m\n",
      ">>>>>>>> EXECUTING FUNCTION document_selector_downloader...\u001b[0m\n",
      "[{'symbol': 'MSFT', 'fillingDate': '2018-08-03 00:00:00', 'acceptedDate': '2018-08-03 11:03:33', 'cik': '0000789019', 'type': '10-K', 'link': 'https://www.sec.gov/Archives/edgar/data/789019/000156459018019062/0001564590-18-019062-index.htm', 'finalLink': 'https://www.sec.gov/Archives/edgar/data/789019/000156459018019062/msft-10k_20180630.htm'}]\n"
     ]
    },
    {
     "name": "stderr",
     "output_type": "stream",
     "text": [
      "INFO:root:PDF generated and saved at data\\sec-edgar-filings\\MSFT\\10-k\\2018\\primary_document.pdf\n"
     ]
    },
    {
     "name": "stdout",
     "output_type": "stream",
     "text": [
      "\u001b[33mUser\u001b[0m (to Assistant):\n",
      "\n",
      "\u001b[33mUser\u001b[0m (to Assistant):\n",
      "\n",
      "\u001b[32m***** Response from calling tool (call_JE03X08hXvnqptDkQM3W2gP8) *****\u001b[0m\n",
      "null\n",
      "\u001b[32m**********************************************************************\u001b[0m\n",
      "\n",
      "--------------------------------------------------------------------------------\n"
     ]
    },
    {
     "name": "stderr",
     "output_type": "stream",
     "text": [
      "INFO:httpx:HTTP Request: POST https://api.openai.com/v1/chat/completions \"HTTP/1.1 200 OK\"\n"
     ]
    },
    {
     "name": "stdout",
     "output_type": "stream",
     "text": [
      "\u001b[33mAssistant\u001b[0m (to User):\n",
      "\n",
      "\u001b[32m***** Suggested tool call (call_86OjskFMGIanGQ1MS6o5EQD3): document_selector_downloader *****\u001b[0m\n",
      "Arguments: \n",
      "{\"ticker\":\"MSFT\",\"document_type\":\"Form 10-K\",\"year\":\"2017\"}\n",
      "\u001b[32m*********************************************************************************************\u001b[0m\n",
      "\n",
      "--------------------------------------------------------------------------------\n",
      "\u001b[35m\n",
      ">>>>>>>> EXECUTING FUNCTION document_selector_downloader...\u001b[0m\n",
      "[{'symbol': 'MSFT', 'fillingDate': '2017-08-02 00:00:00', 'acceptedDate': '2017-08-02 16:15:01', 'cik': '0000789019', 'type': '10-K', 'link': 'https://www.sec.gov/Archives/edgar/data/789019/000156459017014900/0001564590-17-014900-index.htm', 'finalLink': 'https://www.sec.gov/Archives/edgar/data/789019/000156459017014900/msft-10k_20170630.htm'}]\n"
     ]
    },
    {
     "name": "stderr",
     "output_type": "stream",
     "text": [
      "INFO:root:PDF generated and saved at data\\sec-edgar-filings\\MSFT\\10-k\\2017\\primary_document.pdf\n"
     ]
    },
    {
     "name": "stdout",
     "output_type": "stream",
     "text": [
      "\u001b[33mUser\u001b[0m (to Assistant):\n",
      "\n",
      "\u001b[33mUser\u001b[0m (to Assistant):\n",
      "\n",
      "\u001b[32m***** Response from calling tool (call_86OjskFMGIanGQ1MS6o5EQD3) *****\u001b[0m\n",
      "null\n",
      "\u001b[32m**********************************************************************\u001b[0m\n",
      "\n",
      "--------------------------------------------------------------------------------\n"
     ]
    },
    {
     "name": "stderr",
     "output_type": "stream",
     "text": [
      "INFO:httpx:HTTP Request: POST https://api.openai.com/v1/chat/completions \"HTTP/1.1 200 OK\"\n"
     ]
    },
    {
     "name": "stdout",
     "output_type": "stream",
     "text": [
      "\u001b[33mAssistant\u001b[0m (to User):\n",
      "\n",
      "I'm currently unable to retrieve the Form 10-K documents for Microsoft for the past three years. Is there anything else I can assist you with?\n",
      "\n",
      "--------------------------------------------------------------------------------\n",
      "\u001b[33mUser\u001b[0m (to Assistant):\n",
      "\n",
      "\n",
      "\n",
      "--------------------------------------------------------------------------------\n"
     ]
    },
    {
     "name": "stderr",
     "output_type": "stream",
     "text": [
      "INFO:httpx:HTTP Request: POST https://api.openai.com/v1/chat/completions \"HTTP/1.1 200 OK\"\n"
     ]
    },
    {
     "name": "stdout",
     "output_type": "stream",
     "text": [
      "\u001b[33mAssistant\u001b[0m (to User):\n",
      "\n",
      "It seems like your message was cut off. If you have a financial question or need assistance with anything else, feel free to ask!\n",
      "\n",
      "--------------------------------------------------------------------------------\n",
      "\u001b[33mUser\u001b[0m (to Assistant):\n",
      "\n",
      "\n",
      "\n",
      "--------------------------------------------------------------------------------\n"
     ]
    }
   ],
   "source": [
    "chat_result = user_proxy.initiate_chat(\n",
    "    assistant,\n",
    "    message=\"How did microsoft performing for past three years?\"\n",
    ")"
   ]
  },
  {
   "cell_type": "code",
   "execution_count": 8,
   "metadata": {},
   "outputs": [
    {
     "name": "stdout",
     "output_type": "stream",
     "text": [
      "\u001b[33mUser\u001b[0m (to Assistant):\n",
      "\n",
      "How did microsoft perform for the year 2023?\n",
      "\n",
      "--------------------------------------------------------------------------------\n"
     ]
    },
    {
     "name": "stderr",
     "output_type": "stream",
     "text": [
      "INFO:httpx:HTTP Request: POST https://api.openai.com/v1/chat/completions \"HTTP/1.1 200 OK\"\n"
     ]
    },
    {
     "name": "stdout",
     "output_type": "stream",
     "text": [
      "\u001b[33mAssistant\u001b[0m (to User):\n",
      "\n",
      "\u001b[32m***** Suggested tool call (call_9h5q08dmJWWvoQ642qWDP45I): document_selector_downloader *****\u001b[0m\n",
      "Arguments: \n",
      "{\"ticker\":\"MSFT\",\"document_type\":\"Form 10-K\",\"year\":\"2023\"}\n",
      "\u001b[32m*********************************************************************************************\u001b[0m\n",
      "\n",
      "--------------------------------------------------------------------------------\n",
      "\u001b[35m\n",
      ">>>>>>>> EXECUTING FUNCTION document_selector_downloader...\u001b[0m\n"
     ]
    },
    {
     "name": "stderr",
     "output_type": "stream",
     "text": [
      "C:\\Users\\goldr\\AppData\\Local\\Temp\\ipykernel_20364\\1706336277.py:2: DeprecationWarning: cafile, capath and cadefault are deprecated, use a custom context instead.\n",
      "  response = urlopen(url, cafile=certifi.where())\n"
     ]
    },
    {
     "name": "stdout",
     "output_type": "stream",
     "text": [
      "[{'symbol': 'MSFT', 'fillingDate': '2023-07-27 00:00:00', 'acceptedDate': '2023-07-27 16:01:56', 'cik': '0000789019', 'type': '10-K', 'link': 'https://www.sec.gov/Archives/edgar/data/789019/000095017023035122/0000950170-23-035122-index.htm', 'finalLink': 'https://www.sec.gov/Archives/edgar/data/789019/000095017023035122/msft-20230630.htm'}]\n"
     ]
    },
    {
     "name": "stderr",
     "output_type": "stream",
     "text": [
      "INFO:root:PDF generated and saved at data\\sec-edgar-filings\\MSFT\\10-k\\2023\\primary_document.pdf\n"
     ]
    },
    {
     "name": "stdout",
     "output_type": "stream",
     "text": [
      "\u001b[33mUser\u001b[0m (to Assistant):\n",
      "\n",
      "\u001b[33mUser\u001b[0m (to Assistant):\n",
      "\n",
      "\u001b[32m***** Response from calling tool (call_9h5q08dmJWWvoQ642qWDP45I) *****\u001b[0m\n",
      "null\n",
      "\u001b[32m**********************************************************************\u001b[0m\n",
      "\n",
      "--------------------------------------------------------------------------------\n"
     ]
    },
    {
     "name": "stderr",
     "output_type": "stream",
     "text": [
      "INFO:httpx:HTTP Request: POST https://api.openai.com/v1/chat/completions \"HTTP/1.1 200 OK\"\n"
     ]
    },
    {
     "name": "stdout",
     "output_type": "stream",
     "text": [
      "\u001b[33mAssistant\u001b[0m (to User):\n",
      "\n",
      "I couldn't find the specific financial document for Microsoft's performance in 2023. However, based on the latest available information, Microsoft has been performing strongly, with consistent growth across its various business segments. The company has been focusing on cloud computing, artificial intelligence, and gaming, and these areas have been key drivers of its success. I can retrieve the latest financial data and news to provide you with a comprehensive analysis. Would you like me to do that?\n",
      "\n",
      "--------------------------------------------------------------------------------\n",
      "\u001b[33mUser\u001b[0m (to Assistant):\n",
      "\n",
      "\n",
      "\n",
      "--------------------------------------------------------------------------------\n"
     ]
    },
    {
     "name": "stderr",
     "output_type": "stream",
     "text": [
      "INFO:httpx:HTTP Request: POST https://api.openai.com/v1/chat/completions \"HTTP/1.1 200 OK\"\n"
     ]
    },
    {
     "name": "stdout",
     "output_type": "stream",
     "text": [
      "\u001b[33mAssistant\u001b[0m (to User):\n",
      "\n",
      "It seems like your message was cut off. If you have a financial question or if there's anything else I can assist you with, feel free to ask!\n",
      "\n",
      "--------------------------------------------------------------------------------\n",
      "\u001b[33mUser\u001b[0m (to Assistant):\n",
      "\n",
      "\n",
      "\n",
      "--------------------------------------------------------------------------------\n"
     ]
    },
    {
     "name": "stderr",
     "output_type": "stream",
     "text": [
      "INFO:httpx:HTTP Request: POST https://api.openai.com/v1/chat/completions \"HTTP/1.1 200 OK\"\n"
     ]
    },
    {
     "name": "stdout",
     "output_type": "stream",
     "text": [
      "\u001b[33mAssistant\u001b[0m (to User):\n",
      "\n",
      "It seems like your message was cut off. If you have a financial question or if there's anything else I can assist you with, feel free to ask! If you'd like to know more about Microsoft's financial performance or any other financial analysis, please let me know and I'll be happy to help.\n",
      "\n",
      "--------------------------------------------------------------------------------\n",
      "\u001b[33mUser\u001b[0m (to Assistant):\n",
      "\n",
      "\n",
      "\n",
      "--------------------------------------------------------------------------------\n"
     ]
    },
    {
     "name": "stderr",
     "output_type": "stream",
     "text": [
      "INFO:httpx:HTTP Request: POST https://api.openai.com/v1/chat/completions \"HTTP/1.1 200 OK\"\n"
     ]
    },
    {
     "name": "stdout",
     "output_type": "stream",
     "text": [
      "\u001b[33mAssistant\u001b[0m (to User):\n",
      "\n",
      "It seems like your message was not completed. If you have a financial question or need assistance with anything else, feel free to ask and I'll be happy to help!\n",
      "\n",
      "--------------------------------------------------------------------------------\n",
      "\u001b[33mUser\u001b[0m (to Assistant):\n",
      "\n",
      "\n",
      "\n",
      "--------------------------------------------------------------------------------\n"
     ]
    }
   ],
   "source": [
    "chat_result = user_proxy.initiate_chat(\n",
    "    assistant,\n",
    "    message=\"How did microsoft perform for the year 2023?\"\n",
    ")"
   ]
  },
  {
   "cell_type": "code",
   "execution_count": 9,
   "metadata": {},
   "outputs": [
    {
     "name": "stdout",
     "output_type": "stream",
     "text": [
      "\u001b[33mUser\u001b[0m (to Assistant):\n",
      "\n",
      "Which is the latest financial year?\n",
      "\n",
      "--------------------------------------------------------------------------------\n"
     ]
    },
    {
     "name": "stderr",
     "output_type": "stream",
     "text": [
      "INFO:httpx:HTTP Request: POST https://api.openai.com/v1/chat/completions \"HTTP/1.1 200 OK\"\n"
     ]
    },
    {
     "name": "stdout",
     "output_type": "stream",
     "text": [
      "\u001b[33mAssistant\u001b[0m (to User):\n",
      "\n",
      "\u001b[32m***** Suggested tool call (call_s7UOMqzLOij4hjMzLOPu8VLL): document_selector_downloader *****\u001b[0m\n",
      "Arguments: \n",
      "{\"ticker\":\"AAPL\"}\n",
      "\u001b[32m*********************************************************************************************\u001b[0m\n",
      "\n",
      "--------------------------------------------------------------------------------\n",
      "\u001b[35m\n",
      ">>>>>>>> EXECUTING FUNCTION document_selector_downloader...\u001b[0m\n"
     ]
    },
    {
     "name": "stderr",
     "output_type": "stream",
     "text": [
      "C:\\Users\\goldr\\AppData\\Local\\Temp\\ipykernel_20364\\1706336277.py:2: DeprecationWarning: cafile, capath and cadefault are deprecated, use a custom context instead.\n",
      "  response = urlopen(url, cafile=certifi.where())\n"
     ]
    },
    {
     "name": "stdout",
     "output_type": "stream",
     "text": [
      "[{'symbol': 'AAPL', 'fillingDate': '2023-11-03 00:00:00', 'acceptedDate': '2023-11-02 18:08:27', 'cik': '0000320193', 'type': '10-K', 'link': 'https://www.sec.gov/Archives/edgar/data/320193/000032019323000106/0000320193-23-000106-index.htm', 'finalLink': 'https://www.sec.gov/Archives/edgar/data/320193/000032019323000106/aapl-20230930.htm'}]\n"
     ]
    },
    {
     "name": "stderr",
     "output_type": "stream",
     "text": [
      "INFO:root:PDF generated and saved at data\\sec-edgar-filings\\AAPL\\10-k\\2023\\primary_document.pdf\n"
     ]
    },
    {
     "name": "stdout",
     "output_type": "stream",
     "text": [
      "\u001b[33mUser\u001b[0m (to Assistant):\n",
      "\n",
      "\u001b[33mUser\u001b[0m (to Assistant):\n",
      "\n",
      "\u001b[32m***** Response from calling tool (call_s7UOMqzLOij4hjMzLOPu8VLL) *****\u001b[0m\n",
      "null\n",
      "\u001b[32m**********************************************************************\u001b[0m\n",
      "\n",
      "--------------------------------------------------------------------------------\n"
     ]
    },
    {
     "name": "stderr",
     "output_type": "stream",
     "text": [
      "INFO:httpx:HTTP Request: POST https://api.openai.com/v1/chat/completions \"HTTP/1.1 200 OK\"\n"
     ]
    },
    {
     "name": "stdout",
     "output_type": "stream",
     "text": [
      "\u001b[33mAssistant\u001b[0m (to User):\n",
      "\n",
      "I haven't found specific information about the latest financial year for AAPL, but based on historical data, the latest financial year for AAPL can be obtained from their latest Form 10-K filing with the SEC. I can retrieve the latest Form 10-K for AAPL to find the information you're looking for.\n",
      "\n",
      "--------------------------------------------------------------------------------\n",
      "\u001b[33mUser\u001b[0m (to Assistant):\n",
      "\n",
      "\n",
      "\n",
      "--------------------------------------------------------------------------------\n"
     ]
    },
    {
     "name": "stderr",
     "output_type": "stream",
     "text": [
      "INFO:httpx:HTTP Request: POST https://api.openai.com/v1/chat/completions \"HTTP/1.1 200 OK\"\n"
     ]
    },
    {
     "name": "stdout",
     "output_type": "stream",
     "text": [
      "\u001b[33mAssistant\u001b[0m (to User):\n",
      "\n",
      "\u001b[32m***** Suggested tool call (call_zfhmohDEe7HZZbhFZnKLi4Xf): document_selector_downloader *****\u001b[0m\n",
      "Arguments: \n",
      "{\"ticker\":\"AAPL\",\"document_type\":\"Form 10-K\"}\n",
      "\u001b[32m*********************************************************************************************\u001b[0m\n",
      "\n",
      "--------------------------------------------------------------------------------\n",
      "\u001b[35m\n",
      ">>>>>>>> EXECUTING FUNCTION document_selector_downloader...\u001b[0m\n"
     ]
    },
    {
     "name": "stderr",
     "output_type": "stream",
     "text": [
      "INFO:root:PDF already exists at data\\sec-edgar-filings\\AAPL\\10-k\\2023\\primary_document.pdf. Skipping download.\n"
     ]
    },
    {
     "name": "stdout",
     "output_type": "stream",
     "text": [
      "\u001b[33mUser\u001b[0m (to Assistant):\n",
      "\n",
      "\u001b[33mUser\u001b[0m (to Assistant):\n",
      "\n",
      "\u001b[32m***** Response from calling tool (call_zfhmohDEe7HZZbhFZnKLi4Xf) *****\u001b[0m\n",
      "null\n",
      "\u001b[32m**********************************************************************\u001b[0m\n",
      "\n",
      "--------------------------------------------------------------------------------\n"
     ]
    },
    {
     "name": "stderr",
     "output_type": "stream",
     "text": [
      "INFO:httpx:HTTP Request: POST https://api.openai.com/v1/chat/completions \"HTTP/1.1 200 OK\"\n"
     ]
    },
    {
     "name": "stdout",
     "output_type": "stream",
     "text": [
      "\u001b[33mAssistant\u001b[0m (to User):\n",
      "\n",
      "I was unable to retrieve the latest Form 10-K for AAPL at this time. It's possible that the latest filing is not available yet, or there may be some technical difficulties in accessing the document. I would recommend checking the SEC's EDGAR database directly to access the latest Form 10-K filing for AAPL.\n",
      "\n",
      "--------------------------------------------------------------------------------\n",
      "\u001b[33mUser\u001b[0m (to Assistant):\n",
      "\n",
      "\n",
      "\n",
      "--------------------------------------------------------------------------------\n"
     ]
    },
    {
     "name": "stderr",
     "output_type": "stream",
     "text": [
      "INFO:httpx:HTTP Request: POST https://api.openai.com/v1/chat/completions \"HTTP/1.1 200 OK\"\n"
     ]
    },
    {
     "name": "stdout",
     "output_type": "stream",
     "text": [
      "\u001b[33mAssistant\u001b[0m (to User):\n",
      "\n",
      "It seems like your query is not related to financial analysis. If you have any financial questions or need assistance with data analysis, feel free to ask!\n",
      "\n",
      "--------------------------------------------------------------------------------\n",
      "\u001b[33mUser\u001b[0m (to Assistant):\n",
      "\n",
      "\n",
      "\n",
      "--------------------------------------------------------------------------------\n"
     ]
    }
   ],
   "source": [
    "chat_result = user_proxy.initiate_chat(\n",
    "    assistant,\n",
    "    message=\"Which is the latest financial year?\"\n",
    ")"
   ]
  },
  {
   "cell_type": "code",
   "execution_count": 3,
   "metadata": {},
   "outputs": [
    {
     "data": {
      "text/plain": [
       "'800'"
      ]
     },
     "execution_count": 3,
     "metadata": {},
     "output_type": "execute_result"
    }
   ],
   "source": [
    "import re\n",
    "re.match(r\"\\d+\", '800')[0]"
   ]
  },
  {
   "cell_type": "code",
   "execution_count": null,
   "metadata": {},
   "outputs": [],
   "source": []
  }
 ],
 "metadata": {
  "kernelspec": {
   "display_name": "myenv",
   "language": "python",
   "name": "python3"
  },
  "language_info": {
   "codemirror_mode": {
    "name": "ipython",
    "version": 3
   },
   "file_extension": ".py",
   "mimetype": "text/x-python",
   "name": "python",
   "nbconvert_exporter": "python",
   "pygments_lexer": "ipython3",
   "version": "3.10.14"
  }
 },
 "nbformat": 4,
 "nbformat_minor": 2
}
