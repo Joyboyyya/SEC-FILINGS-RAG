{
 "cells": [
  {
   "cell_type": "code",
   "execution_count": null,
   "metadata": {},
   "outputs": [],
   "source": [
    "# !pip install sec_edgar_downloader"
   ]
  },
  {
   "cell_type": "code",
   "execution_count": 1,
   "metadata": {},
   "outputs": [
    {
     "data": {
      "text/plain": [
       "True"
      ]
     },
     "execution_count": 1,
     "metadata": {},
     "output_type": "execute_result"
    }
   ],
   "source": [
    "import os\n",
    "import requests\n",
    "from dotenv import load_dotenv\n",
    "\n",
    "load_dotenv()"
   ]
  },
  {
   "cell_type": "code",
   "execution_count": 2,
   "metadata": {},
   "outputs": [],
   "source": [
    "FMP_API_KEY = os.getenv(\"FMP_API_KEY\")"
   ]
  },
  {
   "cell_type": "code",
   "execution_count": null,
   "metadata": {},
   "outputs": [],
   "source": [
    "FMP_API_KEY"
   ]
  },
  {
   "cell_type": "code",
   "execution_count": 40,
   "metadata": {},
   "outputs": [
    {
     "name": "stdout",
     "output_type": "stream",
     "text": [
      "PDF generated and saved at data/sec_filing.pdf\n"
     ]
    }
   ],
   "source": [
    "\n",
    "import pdfkit\n",
    "# Ensure the directory exists\n",
    "os.makedirs('data', exist_ok=True)\n",
    "\n",
    "# Path to the wkhtmltopdf executable\n",
    "path_to_wkhtmltopdf = r'C:\\Program Files\\wkhtmltopdf\\bin\\wkhtmltopdf.exe'\n",
    "\n",
    "# URL of the SEC filing\n",
    "url = 'https://www.sec.gov/Archives/edgar/data/1018724/000095010901500823/d10q.htm'\n",
    "\n",
    "# Path to save the PDF\n",
    "pdf_path = 'data/sec_filing.pdf'\n",
    "\n",
    "# Configuration\n",
    "config = pdfkit.configuration(wkhtmltopdf=path_to_wkhtmltopdf)\n",
    "\n",
    "# Convert the URL to PDF\n",
    "try:\n",
    "    pdfkit.from_url(url, pdf_path, configuration=config)\n",
    "    print(f\"PDF generated and saved at {pdf_path}\")\n",
    "except Exception as e:\n",
    "    print(f\"PDF generation failed: {e}\")\n"
   ]
  },
  {
   "cell_type": "code",
   "execution_count": 9,
   "metadata": {},
   "outputs": [],
   "source": [
    "#!/usr/bin/env python\n",
    "import os\n",
    "import json\n",
    "import re\n",
    "import pdfkit\n",
    "import logging\n",
    "from datetime import datetime\n",
    "\n",
    "try:\n",
    "    from urllib.request import urlopen\n",
    "except ImportError:\n",
    "    from urllib2 import urlopen\n",
    "\n",
    "import certifi\n",
    "\n",
    "logging.basicConfig(level=logging.INFO)\n",
    "\n",
    "def get_jsonparsed_data(url):\n",
    "    response = urlopen(url, cafile=certifi.where())\n",
    "    data = response.read().decode(\"utf-8\")\n",
    "    return json.loads(data)\n",
    "\n",
    "def is_within_quarter(date_str, year, start_month, end_month):\n",
    "    date_parts = date_str.split('-')\n",
    "    date_year = date_parts[0]\n",
    "    date_month = int(date_parts[1])\n",
    "    return date_year == year and start_month <= date_month <= end_month\n",
    "\n",
    "def which_fiscal_year(date_str, fiscal_year):\n",
    "    filing_date = datetime.strptime(date_str.split()[0], \"%Y-%m-%d\")\n",
    "    filing_month = filing_date.month\n",
    "    fiscal_year = int(fiscal_year)\n",
    "\n",
    "    if (filing_month <= 3):\n",
    "        fiscal_year += 1\n",
    "    \n",
    "    return str(fiscal_year)\n",
    "\n",
    "\n",
    "def document_downloader(pipeline_output):\n",
    "    api_key = os.getenv('FMP_API_KEY')\n",
    "    \n",
    "    if api_key is None:\n",
    "        raise ValueError(\"No API key found. Please set the FMP_API_KEY environment variable.\")\n",
    "\n",
    "    document_type_mapping = {\n",
    "        \"Form 10K\": \"10-k\",\n",
    "        \"Form 10Q\": \"10-q\"\n",
    "    }\n",
    "\n",
    "    quarter_map = {\n",
    "        \"Q1\": (1, 3),\n",
    "        \"Q2\": (4, 6),\n",
    "        \"Q3\": (7, 9),\n",
    "        \"Q4\": (10, 12)\n",
    "    }\n",
    "\n",
    "    filing_type = document_type_mapping.get(pipeline_output.get('document_type'))\n",
    "    if not filing_type:\n",
    "        raise ValueError(f\"Unsupported document type: {pipeline_output.get('document_type')}\")\n",
    "\n",
    "    ticker = pipeline_output.get('ticker')\n",
    "    if not ticker:\n",
    "        raise ValueError(\"Ticker is required.\")\n",
    "\n",
    "    year_quarter = pipeline_output.get('year')\n",
    "    year_star = pipeline_output.get('year')\n",
    "    if not year_quarter:\n",
    "        raise ValueError(\"Year/Quarter is required.\")\n",
    "\n",
    "    url = f\"https://financialmodelingprep.com/api/v3/sec_filings/{ticker}?type={filing_type}&page=0&apikey={api_key}\"\n",
    "\n",
    "    try:\n",
    "        fmp_results = get_jsonparsed_data(url)\n",
    "    except Exception as e:\n",
    "        raise RuntimeError(f\"Failed to fetch data from FMP: {e}\")\n",
    "\n",
    "    if filing_type == \"10-k\":\n",
    "        year_quarter = which_fiscal_year(fmp_results[0]['fillingDate'],year_quarter)\n",
    "        filtered_fmp_results = [i for i in fmp_results if re.search(year_quarter, i['fillingDate'])]\n",
    "        print(filtered_fmp_results)\n",
    "        year = year_star\n",
    "        output_dir = os.path.join(\"data\", \"sec-edgar-filings\", ticker, filing_type, year)\n",
    "    elif filing_type == \"10-q\":\n",
    "        year, quarter = year_quarter.split()\n",
    "        start_month, end_month = quarter_map[quarter]\n",
    "        filtered_fmp_results = [i for i in fmp_results if is_within_quarter(i['fillingDate'], year, start_month, end_month)]\n",
    "        print(filtered_fmp_results)\n",
    "        output_dir = os.path.join(\"data\", \"sec-edgar-filings\", ticker, filing_type, year, quarter)\n",
    "\n",
    "    if not filtered_fmp_results:\n",
    "        raise ValueError(\"No matching SEC filings found.\")\n",
    "\n",
    "    os.makedirs(output_dir, exist_ok=True)\n",
    "\n",
    "    path_to_wkhtmltopdf = os.getenv('WKHTMLTOPDF_PATH', r'C:\\Program Files\\wkhtmltopdf\\bin\\wkhtmltopdf.exe')\n",
    "    if not os.path.exists(path_to_wkhtmltopdf):\n",
    "        raise FileNotFoundError(f\"wkhtmltopdf not found at {path_to_wkhtmltopdf}\")\n",
    "\n",
    "    url = filtered_fmp_results[0]['finalLink']\n",
    "    pdf_path = os.path.join(output_dir, 'primary_document.pdf')\n",
    "\n",
    "    config = pdfkit.configuration(wkhtmltopdf=path_to_wkhtmltopdf)\n",
    "\n",
    "    try:\n",
    "        pdfkit.from_url(url, pdf_path, configuration=config)\n",
    "        logging.info(f\"PDF generated and saved at {pdf_path}\")\n",
    "    except Exception as e:\n",
    "        logging.error(f\"PDF generation failed: {e}\")\n",
    "        raise\n",
    "\n",
    "\n"
   ]
  },
  {
   "cell_type": "code",
   "execution_count": 70,
   "metadata": {},
   "outputs": [],
   "source": [
    "# #!/usr/bin/env python\n",
    "# import os\n",
    "# import json\n",
    "# import re\n",
    "# import pdfkit\n",
    "# import logging\n",
    "# from datetime import datetime\n",
    "\n",
    "# try:\n",
    "#     from urllib.request import urlopen\n",
    "# except ImportError:\n",
    "#     from urllib2 import urlopen\n",
    "\n",
    "# import certifi\n",
    "\n",
    "# # Set up logging\n",
    "# logging.basicConfig(level=logging.INFO)\n",
    "\n",
    "# def get_jsonparsed_data(url):\n",
    "#     response = urlopen(url, cafile=certifi.where())\n",
    "#     data = response.read().decode(\"utf-8\")\n",
    "#     return json.loads(data)\n",
    "\n",
    "# def is_within_quarter(date_str, year, start_month, end_month):\n",
    "#     date_parts = date_str.split('-')\n",
    "#     date_year = date_parts[0]\n",
    "#     date_month = int(date_parts[1])\n",
    "#     return date_year == year and start_month <= date_month <= end_month\n",
    "\n",
    "# def which_fiscal_year(date_str, fiscal_year):\n",
    "#     filing_date = datetime.strptime(date_str.split()[0], \"%Y-%m-%d\")\n",
    "#     filing_month = filing_date.month\n",
    "#     fiscal_year = int(fiscal_year)\n",
    "\n",
    "#     if filing_month <= 3:\n",
    "#         fiscal_year += 1\n",
    "    \n",
    "#     return str(fiscal_year)\n",
    "\n",
    "# def document_downloader(pipeline_output):\n",
    "#     api_key = os.getenv('FMP_API_KEY')\n",
    "    \n",
    "#     if api_key is None:\n",
    "#         raise ValueError(\"No API key found. Please set the FMP_API_KEY environment variable.\")\n",
    "\n",
    "#     document_type_mapping = {\n",
    "#         \"Form 10K\": \"10-k\",\n",
    "#         \"Form 10Q\": \"10-q\"\n",
    "#     }\n",
    "\n",
    "#     quarter_map = {\n",
    "#         \"Q1\": (1, 3),\n",
    "#         \"Q2\": (4, 6),\n",
    "#         \"Q3\": (7, 9),\n",
    "#         \"Q4\": (10, 12)\n",
    "#     }\n",
    "\n",
    "#     filing_type = document_type_mapping.get(pipeline_output.get('document_type'))\n",
    "#     if not filing_type:\n",
    "#         raise ValueError(f\"Unsupported document type: {pipeline_output.get('document_type')}\")\n",
    "\n",
    "#     ticker = pipeline_output.get('ticker')\n",
    "#     if not ticker:\n",
    "#         raise ValueError(\"Ticker is required.\")\n",
    "\n",
    "#     year_quarter = pipeline_output.get('year')\n",
    "#     if not year_quarter:\n",
    "#         raise ValueError(\"Year/Quarter is required.\")\n",
    "\n",
    "#     url = f\"https://financialmodelingprep.com/api/v3/sec_filings/{ticker}?type={filing_type}&page=0&apikey={api_key}\"\n",
    "\n",
    "#     try:\n",
    "#         fmp_results = get_jsonparsed_data(url)\n",
    "#     except Exception as e:\n",
    "#         raise RuntimeError(f\"Failed to fetch data from FMP: {e}\")\n",
    "\n",
    "#     if filing_type == \"10-k\":\n",
    "#         year_quarter = which_fiscal_year(fmp_results[0]['fillingDate'], year_quarter)\n",
    "#         filtered_fmp_results = [i for i in fmp_results if re.search(year_quarter, i['fillingDate'])]\n",
    "#         year = year_quarter\n",
    "#         output_dir = os.path.join(\"data\", \"sec-edgar-filings\", filtered_fmp_results[0]['cik'], filing_type, year)\n",
    "#     elif filing_type == \"10-q\":\n",
    "#         year, quarter = year_quarter.split()\n",
    "#         start_month, end_month = quarter_map[quarter]\n",
    "#         filtered_fmp_results = [i for i in fmp_results if is_within_quarter(i['fillingDate'], year, start_month, end_month)]\n",
    "#         output_dir = os.path.join(\"data\", \"sec-edgar-filings\", filtered_fmp_results[0]['cik'], filing_type, year, quarter)\n",
    "\n",
    "#     if not filtered_fmp_results:\n",
    "#         raise ValueError(\"No matching SEC filings found.\")\n",
    "\n",
    "#     os.makedirs(output_dir, exist_ok=True)\n",
    "\n",
    "#     path_to_wkhtmltopdf = os.getenv('WKHTMLTOPDF_PATH', r'C:\\Program Files\\wkhtmltopdf\\bin\\wkhtmltopdf.exe')\n",
    "#     if not os.path.exists(path_to_wkhtmltopdf):\n",
    "#         raise FileNotFoundError(f\"wkhtmltopdf not found at {path_to_wkhtmltopdf}\")\n",
    "\n",
    "#     url = filtered_fmp_results[0]['finalLink']\n",
    "#     pdf_path = os.path.join(output_dir, 'primary_document.pdf')\n",
    "\n",
    "#     config = pdfkit.configuration(wkhtmltopdf=path_to_wkhtmltopdf)\n",
    "\n",
    "#     try:\n",
    "#         pdfkit.from_url(url, pdf_path, configuration=config)\n",
    "#         logging.info(f\"PDF generated and saved at {pdf_path}\")\n",
    "#     except Exception as e:\n",
    "#         logging.error(f\"PDF generation failed: {e}\")\n",
    "#         raise\n",
    "\n",
    "\n"
   ]
  },
  {
   "cell_type": "code",
   "execution_count": 5,
   "metadata": {},
   "outputs": [
    {
     "data": {
      "text/plain": [
       "'2023'"
      ]
     },
     "execution_count": 5,
     "metadata": {},
     "output_type": "execute_result"
    }
   ],
   "source": [
    "which_fiscal_year(\"2023-10-03 00:00:00\",\"2023\")"
   ]
  },
  {
   "cell_type": "code",
   "execution_count": 13,
   "metadata": {},
   "outputs": [],
   "source": [
    "def check_document_exists(pipeline_output):\n",
    "    document_type_mapping = {\n",
    "        \"Form 10K\": \"10-k\",\n",
    "        \"Form 10Q\": \"10-q\"\n",
    "    }\n",
    "\n",
    "    quarter_map = {\n",
    "        \"Q1\": (1, 3),\n",
    "        \"Q2\": (4, 6),\n",
    "        \"Q3\": (7, 9),\n",
    "        \"Q4\": (10, 12)\n",
    "    }\n",
    "\n",
    "    filing_type = document_type_mapping.get(pipeline_output.get('document_type'))\n",
    "    if not filing_type:\n",
    "        raise ValueError(f\"Unsupported document type: {pipeline_output.get('document_type')}\")\n",
    "\n",
    "    ticker = pipeline_output.get('ticker')\n",
    "    if not ticker:\n",
    "        raise ValueError(\"Ticker is required.\")\n",
    "\n",
    "    year_quarter = pipeline_output.get('year')\n",
    "    if not year_quarter:\n",
    "        raise ValueError(\"Year/Quarter is required.\")\n",
    "    \n",
    "    if filing_type == \"10-k\":\n",
    "        output_dir = os.path.join(\"data\", \"sec-edgar-filings\", ticker, filing_type, year_quarter)\n",
    "    elif filing_type == \"10-q\":\n",
    "        year, quarter = year_quarter.split()\n",
    "        start_month, end_month = quarter_map[quarter]\n",
    "        output_dir = os.path.join(\"data\", \"sec-edgar-filings\", ticker, filing_type, year, quarter)\n",
    "\n",
    "    pdf_path = os.path.join(output_dir, 'primary_document.pdf')\n",
    "\n",
    "    if os.path.exists(pdf_path):\n",
    "        logging.info(f\"PDF already exists at {pdf_path}. Skipping download.\")\n",
    "        return True\n",
    "    \n",
    "    return False"
   ]
  },
  {
   "cell_type": "code",
   "execution_count": 16,
   "metadata": {},
   "outputs": [
    {
     "name": "stderr",
     "output_type": "stream",
     "text": [
      "C:\\Users\\goldr\\AppData\\Local\\Temp\\ipykernel_16660\\2779484452.py:19: DeprecationWarning: cafile, capath and cadefault are deprecated, use a custom context instead.\n",
      "  response = urlopen(url, cafile=certifi.where())\n"
     ]
    },
    {
     "name": "stdout",
     "output_type": "stream",
     "text": [
      "[{'symbol': 'AAPL', 'fillingDate': '2003-12-19 00:00:00', 'acceptedDate': '2003-12-19 17:25:45', 'cik': '0000320193', 'type': '10-K', 'link': 'https://www.sec.gov/Archives/edgar/data/320193/000104746903041604/0001047469-03-041604-index.htm', 'finalLink': 'https://www.sec.gov/Archives/edgar/data/320193/000104746903041604/a2124888z10-k.htm'}]\n"
     ]
    },
    {
     "name": "stderr",
     "output_type": "stream",
     "text": [
      "INFO:root:PDF generated and saved at data\\sec-edgar-filings\\AAPL\\10-k\\2003\\primary_document.pdf\n"
     ]
    }
   ],
   "source": [
    "# Example usage\n",
    "pipeline_output = {'ticker': 'AAPL', 'document_type': 'Form 10K', 'year': '2003'}\n",
    "if not check_document_exists(pipeline_output):\n",
    "    document_downloader(pipeline_output)"
   ]
  },
  {
   "cell_type": "code",
   "execution_count": 37,
   "metadata": {},
   "outputs": [
    {
     "name": "stdout",
     "output_type": "stream",
     "text": [
      "[{'symbol': 'AMZN', 'fillingDate': '2023-10-27 00:00:00', 'acceptedDate': '2023-10-26 18:36:51', 'cik': '0001018724', 'type': '10-Q', 'link': 'https://www.sec.gov/Archives/edgar/data/1018724/000101872423000018/0001018724-23-000018-index.htm', 'finalLink': 'https://www.sec.gov/Archives/edgar/data/1018724/000101872423000018/amzn-20230930.htm'}, {'symbol': 'AMZN', 'fillingDate': '2023-08-04 00:00:00', 'acceptedDate': '2023-08-03 18:24:35', 'cik': '0001018724', 'type': '10-Q', 'link': 'https://www.sec.gov/Archives/edgar/data/1018724/000101872423000012/0001018724-23-000012-index.htm', 'finalLink': 'https://www.sec.gov/Archives/edgar/data/1018724/000101872423000012/amzn-20230630.htm'}, {'symbol': 'AMZN', 'fillingDate': '2023-04-28 00:00:00', 'acceptedDate': '2023-04-27 18:24:51', 'cik': '0001018724', 'type': '10-Q', 'link': 'https://www.sec.gov/Archives/edgar/data/1018724/000101872423000008/0001018724-23-000008-index.htm', 'finalLink': 'https://www.sec.gov/Archives/edgar/data/1018724/000101872423000008/amzn-20230331.htm'}]\n"
     ]
    }
   ],
   "source": [
    "import re\n",
    "pipeline_output = {'ticker': 'AMZN', 'document_type': 'Form 10K', 'year': '2023'}\n",
    "filter_fmp_results = [i for i in fmp_results if re.search(pipeline_output['year'], i['fillingDate'])]\n",
    "print(filter_fmp_results)"
   ]
  },
  {
   "cell_type": "code",
   "execution_count": 73,
   "metadata": {},
   "outputs": [
    {
     "name": "stdout",
     "output_type": "stream",
     "text": [
      "API key is working.\n",
      "[{'symbol': 'AAPL', 'name': 'Apple Inc.', 'price': 228.88, 'changesPercentage': -2.5296, 'change': -5.94, 'dayLow': 226.64, 'dayHigh': 231.4599, 'yearHigh': 237.23, 'yearLow': 164.08, 'marketCap': 3509668808000, 'priceAvg50': 203.5336, 'priceAvg200': 186.58105, 'exchange': 'NASDAQ', 'volume': 55692237, 'avgVolume': 68137873, 'open': 229.45, 'previousClose': 234.82, 'eps': 6.43, 'pe': 35.6, 'earningsAnnouncement': '2024-08-01T20:00:00.000+0000', 'sharesOutstanding': 15334100000, 'timestamp': 1721246401}]\n"
     ]
    }
   ],
   "source": [
    "import requests\n",
    "\n",
    "api_key = ''\n",
    "url = f'https://financialmodelingprep.com/api/v3/quote/AAPL?apikey={api_key}'\n",
    "\n",
    "response = requests.get(url)\n",
    "\n",
    "if response.status_code == 200:\n",
    "    print(\"API key is working.\")\n",
    "    print(response.json())\n",
    "else:\n",
    "    print(\"Failed to retrieve data. Check your API key and try again.\")\n",
    "    print(response.text)\n"
   ]
  }
 ],
 "metadata": {
  "kernelspec": {
   "display_name": "myenv",
   "language": "python",
   "name": "python3"
  },
  "language_info": {
   "codemirror_mode": {
    "name": "ipython",
    "version": 3
   },
   "file_extension": ".py",
   "mimetype": "text/x-python",
   "name": "python",
   "nbconvert_exporter": "python",
   "pygments_lexer": "ipython3",
   "version": "3.10.14"
  }
 },
 "nbformat": 4,
 "nbformat_minor": 2
}
