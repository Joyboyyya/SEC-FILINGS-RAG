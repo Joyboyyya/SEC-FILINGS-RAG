{
 "cells": [
  {
   "cell_type": "code",
   "execution_count": 2,
   "metadata": {},
   "outputs": [],
   "source": [
    "# ! pip install langchain_community tiktoken langchain-openai langchainhub chromadb langchain"
   ]
  },
  {
   "cell_type": "code",
   "execution_count": 3,
   "metadata": {},
   "outputs": [
    {
     "data": {
      "text/plain": [
       "'sk-proj-iXDvNFgNThedT3VorkIfT3BlbkFJkCBkiTpSBlaj3GBnm5v1'"
      ]
     },
     "execution_count": 3,
     "metadata": {},
     "output_type": "execute_result"
    }
   ],
   "source": [
    "import os\n",
    "os.environ['LANGCHAIN_TRACING_V2'] = 'true'\n",
    "os.environ['LANGCHAIN_ENDPOINT'] = 'https://api.smith.langchain.com'\n",
    "os.environ['LANGCHAIN_API_KEY'] = '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'\n",
    "\n",
    "os.getenv('LANGCHAIN_TRACING_V2')\n",
    "os.getenv('LANGCHAIN_ENDPOINT')\n",
    "os.getenv('LANGCHAIN_API_KEY')\n",
    "os.getenv('OPENAI_API_KEY')"
   ]
  },
  {
   "cell_type": "code",
   "execution_count": 4,
   "metadata": {},
   "outputs": [],
   "source": [
    "# !pip install pymupdf"
   ]
  },
  {
   "cell_type": "code",
   "execution_count": 5,
   "metadata": {},
   "outputs": [
    {
     "name": "stdout",
     "output_type": "stream",
     "text": [
      "AddAutogenTools.ipynb\n",
      "QueryTranslation.ipynb\n",
      "QueryTranslationAndDocumentSelector.ipynb\n",
      "README.md\n",
      "SecInsights.ipynb\n",
      "SecInsights.py\n",
      "cfs.json\n",
      "data\n",
      "rag_from_scratch_5_to_9.ipynb\n",
      "some.html\n",
      "test.json\n"
     ]
    }
   ],
   "source": [
    "!ls"
   ]
  },
  {
   "cell_type": "code",
   "execution_count": 6,
   "metadata": {},
   "outputs": [],
   "source": [
    "# from langchain.document_loaders import PyMuPDFLoader\n",
    "# # loader = WebBaseLoader(\n",
    "# #     web_paths=(\"https://d18rn0p25nwr6d.cloudfront.net/CIK-0001018724/c7c14359-36fa-40c3-b3ca-5bf7f3fa0b96.pdf\",),\n",
    "# #     bs_kwargs=dict(\n",
    "# #         parse_only=bs4.SoupStrainer(\n",
    "# #             class_=(\"post-content\", \"post-title\", \"post-header\")\n",
    "# #         )\n",
    "# #     ),\n",
    "# # )\n",
    "# # blog_docs = loader.load()\n",
    "\n",
    "\n",
    "\n",
    "# # Load PDF\n",
    "# loader = PyMuPDFLoader(\"data/amazon_form_10k_2023.pdf\")\n",
    "# pdf_docs = loader.load()\n",
    "\n",
    "# # You can now use pdf_docs for further processing\n",
    "# for doc in pdf_docs:\n",
    "#     print(doc.page_content)"
   ]
  },
  {
   "cell_type": "code",
   "execution_count": 7,
   "metadata": {},
   "outputs": [],
   "source": [
    "#### INDEXING ####\n",
    "\n",
    "# Load blog\n",
    "import bs4\n",
    "from langchain_community.document_loaders import WebBaseLoader\n",
    "from langchain.document_loaders import PyMuPDFLoader\n",
    "# loader = WebBaseLoader(\n",
    "#     web_paths=(\"https://d18rn0p25nwr6d.cloudfront.net/CIK-0001018724/c7c14359-36fa-40c3-b3ca-5bf7f3fa0b96.pdf\",),\n",
    "#     bs_kwargs=dict(\n",
    "#         parse_only=bs4.SoupStrainer(\n",
    "#             class_=(\"post-content\", \"post-title\", \"post-header\")\n",
    "#         )\n",
    "#     ),\n",
    "# )\n",
    "# blog_docs = loader.load()\n",
    "\n",
    "\n",
    "\n",
    "# Load PDF\n",
    "loader = PyMuPDFLoader(\"data/amazon_form_10k_2023.pdf\")\n",
    "pdf_docs = loader.load()\n",
    "\n",
    "# # You can now use pdf_docs for further processing\n",
    "# for doc in pdf_docs:\n",
    "#     print(doc.page_content)\n",
    "\n",
    "\n",
    "# Split\n",
    "from langchain.text_splitter import RecursiveCharacterTextSplitter\n",
    "text_splitter = RecursiveCharacterTextSplitter.from_tiktoken_encoder(\n",
    "    chunk_size=300, \n",
    "    chunk_overlap=50)\n",
    "\n",
    "# Make splits\n",
    "splits = text_splitter.split_documents(pdf_docs)\n",
    "\n",
    "# Index\n",
    "from langchain_openai import OpenAIEmbeddings\n",
    "from langchain_community.vectorstores import Chroma\n",
    "vectorstore = Chroma.from_documents(documents=splits, \n",
    "                                    embedding=OpenAIEmbeddings())\n",
    "\n",
    "retriever = vectorstore.as_retriever()"
   ]
  },
  {
   "cell_type": "markdown",
   "metadata": {},
   "source": [
    "# MultiQuery"
   ]
  },
  {
   "cell_type": "code",
   "execution_count": 8,
   "metadata": {},
   "outputs": [],
   "source": [
    "from langchain.prompts import ChatPromptTemplate\n",
    "\n",
    "# Multi Query: Different Perspectives\n",
    "template = \"\"\"You are an AI language model assistant. Your task is to generate five \n",
    "different versions of the given user question to retrieve relevant documents from a vector \n",
    "database. By generating multiple perspectives on the user question, your goal is to help\n",
    "the user overcome some of the limitations of the distance-based similarity search. \n",
    "Provide these alternative questions separated by newlines. Original question: {question}\"\"\"\n",
    "prompt_perspectives = ChatPromptTemplate.from_template(template)\n",
    "\n",
    "from langchain_core.output_parsers import StrOutputParser\n",
    "from langchain_openai import ChatOpenAI\n",
    "\n",
    "generate_queries = (\n",
    "    prompt_perspectives \n",
    "    | ChatOpenAI(temperature=0) \n",
    "    | StrOutputParser() \n",
    "    | (lambda x: x.split(\"\\n\"))\n",
    ")"
   ]
  },
  {
   "cell_type": "code",
   "execution_count": 9,
   "metadata": {},
   "outputs": [
    {
     "name": "stderr",
     "output_type": "stream",
     "text": [
      "c:\\Users\\goldr\\anaconda3\\envs\\myenv\\lib\\site-packages\\langchain_core\\_api\\beta_decorator.py:87: LangChainBetaWarning: The function `loads` is in beta. It is actively being worked on, so the API may change.\n",
      "  warn_beta(\n"
     ]
    },
    {
     "data": {
      "text/plain": [
       "6"
      ]
     },
     "execution_count": 9,
     "metadata": {},
     "output_type": "execute_result"
    }
   ],
   "source": [
    "from langchain.load import dumps, loads\n",
    "\n",
    "def get_unique_union(documents: list[list]):\n",
    "    \"\"\" Unique union of retrieved docs \"\"\"\n",
    "    # Flatten list of lists, and convert each Document to string\n",
    "    flattened_docs = [dumps(doc) for sublist in documents for doc in sublist]\n",
    "    # Get unique documents\n",
    "    unique_docs = list(set(flattened_docs))\n",
    "    # Return\n",
    "    return [loads(doc) for doc in unique_docs]\n",
    "\n",
    "# Retrieve\n",
    "question = \"What are the biggest discussed risks for Amazon.com Inc. (AMZN)?\"\n",
    "retrieval_chain = generate_queries | retriever.map() | get_unique_union\n",
    "docs = retrieval_chain.invoke({\"question\":question})\n",
    "len(docs)"
   ]
  },
  {
   "cell_type": "code",
   "execution_count": 10,
   "metadata": {},
   "outputs": [
    {
     "data": {
      "text/plain": [
       "'Some of the biggest discussed risks for Amazon.com Inc. (AMZN) include legal and regulatory risks related to government regulations, evolving laws, and potential lawsuits, as well as risks related to intense competition in the rapidly evolving and competitive business environment. Additionally, risks related to maintaining a unique culture of innovation, disruptions from natural disasters or geopolitical events, and potential negative impacts of climate change are also highlighted as significant risks for the company.'"
      ]
     },
     "execution_count": 10,
     "metadata": {},
     "output_type": "execute_result"
    }
   ],
   "source": [
    "from operator import itemgetter\n",
    "from langchain_openai import ChatOpenAI\n",
    "from langchain_core.runnables import RunnablePassthrough\n",
    "\n",
    "# RAG\n",
    "template = \"\"\"Answer the following question based on this context:\n",
    "\n",
    "{context}\n",
    "\n",
    "Question: {question}\n",
    "\"\"\"\n",
    "\n",
    "prompt = ChatPromptTemplate.from_template(template)\n",
    "\n",
    "llm = ChatOpenAI(temperature=0)\n",
    "\n",
    "final_rag_chain = (\n",
    "    {\"context\": retrieval_chain, \n",
    "     \"question\": itemgetter(\"question\")} \n",
    "    | prompt\n",
    "    | llm\n",
    "    | StrOutputParser()\n",
    ")\n",
    "\n",
    "final_rag_chain.invoke({\"question\":question})"
   ]
  },
  {
   "cell_type": "markdown",
   "metadata": {},
   "source": [
    "# Rag Fusion"
   ]
  },
  {
   "cell_type": "code",
   "execution_count": 11,
   "metadata": {},
   "outputs": [],
   "source": [
    "from langchain.prompts import ChatPromptTemplate\n",
    "\n",
    "# RAG-Fusion: Related\n",
    "template = \"\"\"You are a helpful assistant that generates multiple search queries based on a single input query. \\n\n",
    "Generate multiple search queries related to: {question} \\n\n",
    "Output (4 queries):\"\"\"\n",
    "prompt_rag_fusion = ChatPromptTemplate.from_template(template)"
   ]
  },
  {
   "cell_type": "code",
   "execution_count": 12,
   "metadata": {},
   "outputs": [],
   "source": [
    "from langchain_core.output_parsers import StrOutputParser\n",
    "from langchain_openai import ChatOpenAI\n",
    "\n",
    "generate_queries = (\n",
    "    prompt_rag_fusion \n",
    "    | ChatOpenAI(temperature=0)\n",
    "    | StrOutputParser() \n",
    "    | (lambda x: x.split(\"\\n\"))\n",
    ")"
   ]
  },
  {
   "cell_type": "code",
   "execution_count": null,
   "metadata": {},
   "outputs": [],
   "source": []
  },
  {
   "cell_type": "code",
   "execution_count": null,
   "metadata": {},
   "outputs": [],
   "source": []
  },
  {
   "cell_type": "code",
   "execution_count": 13,
   "metadata": {},
   "outputs": [
    {
     "data": {
      "text/plain": [
       "12"
      ]
     },
     "execution_count": 13,
     "metadata": {},
     "output_type": "execute_result"
    }
   ],
   "source": [
    "from langchain.load import dumps, loads\n",
    "\n",
    "def reciprocal_rank_fusion(results: list[list], k=60):\n",
    "    \"\"\" Reciprocal_rank_fusion that takes multiple lists of ranked documents \n",
    "        and an optional parameter k used in the RRF formula \"\"\"\n",
    "    \n",
    "    # Initialize a dictionary to hold fused scores for each unique document\n",
    "    fused_scores = {}\n",
    "\n",
    "    # Iterate through each list of ranked documents\n",
    "    for docs in results:\n",
    "        # Iterate through each document in the list, with its rank (position in the list)\n",
    "        for rank, doc in enumerate(docs):\n",
    "            # Convert the document to a string format to use as a key (assumes documents can be serialized to JSON)\n",
    "            doc_str = dumps(doc)\n",
    "            # If the document is not yet in the fused_scores dictionary, add it with an initial score of 0\n",
    "            if doc_str not in fused_scores:\n",
    "                fused_scores[doc_str] = 0\n",
    "            # Retrieve the current score of the document, if any\n",
    "            previous_score = fused_scores[doc_str]\n",
    "            # Update the score of the document using the RRF formula: 1 / (rank + k)\n",
    "            fused_scores[doc_str] += 1 / (rank + k)\n",
    "\n",
    "    # Sort the documents based on their fused scores in descending order to get the final reranked results\n",
    "    reranked_results = [\n",
    "        (loads(doc), score)\n",
    "        for doc, score in sorted(fused_scores.items(), key=lambda x: x[1], reverse=True)\n",
    "    ]\n",
    "\n",
    "    # Return the reranked results as a list of tuples, each containing the document and its fused score\n",
    "    return reranked_results\n",
    "\n",
    "retrieval_chain_rag_fusion = generate_queries | retriever.map() | reciprocal_rank_fusion\n",
    "docs = retrieval_chain_rag_fusion.invoke({\"question\": question})\n",
    "len(docs)"
   ]
  },
  {
   "cell_type": "code",
   "execution_count": 14,
   "metadata": {},
   "outputs": [
    {
     "data": {
      "text/plain": [
       "'The biggest discussed risks for Amazon.com Inc. (AMZN) include maintaining their unique culture of innovation, customer obsession, and long-term thinking, disruptions from natural or human-caused disasters, geopolitical events, security issues, labor or trade disputes, potential negative impacts of climate change, challenges in staffing, developing, and managing foreign operations, compliance with various laws and regulations, cybersecurity risks, legal and regulatory risks, and variability in their retail business placing strain on operations.'"
      ]
     },
     "execution_count": 14,
     "metadata": {},
     "output_type": "execute_result"
    }
   ],
   "source": [
    "from langchain_core.runnables import RunnablePassthrough\n",
    "\n",
    "# RAG\n",
    "template = \"\"\"Answer the following question based on this context:\n",
    "\n",
    "{context}\n",
    "\n",
    "Question: {question}\n",
    "\"\"\"\n",
    "\n",
    "prompt = ChatPromptTemplate.from_template(template)\n",
    "\n",
    "final_rag_chain = (\n",
    "    {\"context\": retrieval_chain_rag_fusion, \n",
    "     \"question\": itemgetter(\"question\")} \n",
    "    | prompt\n",
    "    | llm\n",
    "    | StrOutputParser()\n",
    ")\n",
    "\n",
    "final_rag_chain.invoke({\"question\":question})"
   ]
  },
  {
   "cell_type": "markdown",
   "metadata": {},
   "source": [
    "# Decomposition"
   ]
  },
  {
   "cell_type": "code",
   "execution_count": 15,
   "metadata": {},
   "outputs": [],
   "source": [
    "from langchain.prompts import ChatPromptTemplate\n",
    "\n",
    "# Decomposition\n",
    "template = \"\"\"You are a helpful assistant that generates multiple sub-questions related to an input question. \\n\n",
    "The goal is to break down the input into a set of sub-problems / sub-questions that can be answers in isolation. \\n\n",
    "Generate multiple search queries related to: {question} \\n\n",
    "Output (3 queries):\"\"\"\n",
    "prompt_decomposition = ChatPromptTemplate.from_template(template)"
   ]
  },
  {
   "cell_type": "code",
   "execution_count": 16,
   "metadata": {},
   "outputs": [],
   "source": [
    "from langchain_openai import ChatOpenAI\n",
    "from langchain_core.output_parsers import StrOutputParser\n",
    "\n",
    "# LLM\n",
    "llm = ChatOpenAI(temperature=0)\n",
    "\n",
    "# Chain\n",
    "generate_queries_decomposition = ( prompt_decomposition | llm | StrOutputParser() | (lambda x: x.split(\"\\n\")))\n",
    "\n",
    "# Run\n",
    "question = \"What are the biggest discussed risks for Amazon.com Inc. (AMZN)?\"\n",
    "questions = generate_queries_decomposition.invoke({\"question\":question})"
   ]
  },
  {
   "cell_type": "code",
   "execution_count": 17,
   "metadata": {},
   "outputs": [
    {
     "data": {
      "text/plain": [
       "['1. What are the current regulatory risks facing Amazon.com Inc. (AMZN)?',\n",
       " '2. How does competition from other e-commerce giants impact the risk profile of Amazon.com Inc. (AMZN)?',\n",
       " \"3. What are the potential cybersecurity threats that pose risks to Amazon.com Inc. (AMZN)'s operations and data security?\"]"
      ]
     },
     "execution_count": 17,
     "metadata": {},
     "output_type": "execute_result"
    }
   ],
   "source": [
    "questions"
   ]
  },
  {
   "cell_type": "markdown",
   "metadata": {},
   "source": [
    "## sequential decomposition"
   ]
  },
  {
   "cell_type": "code",
   "execution_count": 18,
   "metadata": {},
   "outputs": [],
   "source": [
    "# Prompt\n",
    "template = \"\"\"Here is the question you need to answer:\n",
    "\n",
    "\\n --- \\n {question} \\n --- \\n\n",
    "\n",
    "Here is any available background question + answer pairs:\n",
    "\n",
    "\\n --- \\n {q_a_pairs} \\n --- \\n\n",
    "\n",
    "Here is additional context relevant to the question: \n",
    "\n",
    "\\n --- \\n {context} \\n --- \\n\n",
    "\n",
    "Use the above context and any background question + answer pairs to answer the question: \\n {question}\n",
    "\"\"\"\n",
    "\n",
    "decomposition_prompt = ChatPromptTemplate.from_template(template)"
   ]
  },
  {
   "cell_type": "code",
   "execution_count": 19,
   "metadata": {},
   "outputs": [],
   "source": [
    "from operator import itemgetter\n",
    "from langchain_core.output_parsers import StrOutputParser\n",
    "\n",
    "def format_qa_pair(question, answer):\n",
    "    \"\"\"Format Q and A pair\"\"\"\n",
    "    \n",
    "    formatted_string = \"\"\n",
    "    formatted_string += f\"Question: {question}\\nAnswer: {answer}\\n\\n\"\n",
    "    return formatted_string.strip()\n",
    "\n",
    "# llm\n",
    "llm = ChatOpenAI(model_name=\"gpt-3.5-turbo\", temperature=0)\n",
    "\n",
    "q_a_pairs = \"\"\n",
    "for q in questions:\n",
    "    \n",
    "    rag_chain = (\n",
    "    {\"context\": itemgetter(\"question\") | retriever, \n",
    "     \"question\": itemgetter(\"question\"),\n",
    "     \"q_a_pairs\": itemgetter(\"q_a_pairs\")} \n",
    "    | decomposition_prompt\n",
    "    | llm\n",
    "    | StrOutputParser())\n",
    "\n",
    "    answer = rag_chain.invoke({\"question\":q,\"q_a_pairs\":q_a_pairs})\n",
    "    q_a_pair = format_qa_pair(q,answer)\n",
    "    q_a_pairs = q_a_pairs + \"\\n---\\n\"+  q_a_pair"
   ]
  },
  {
   "cell_type": "code",
   "execution_count": 20,
   "metadata": {},
   "outputs": [
    {
     "data": {
      "text/plain": [
       "\"Potential cybersecurity threats that pose risks to Amazon.com Inc. (AMZN)'s operations and data security include data loss, theft, misuse, unauthorized access, security breaches, and vulnerabilities affecting their technology, products, and systems. These threats could expose Amazon and its customers to the risk of loss, disclosure, or misuse of confidential, sensitive, proprietary, and personal information. Additionally, such cybersecurity incidents could adversely affect Amazon's operating results, lead to litigation, liability, regulatory actions, deter customers or sellers from using their services, and harm their business reputation. Amazon uses third-party technology and systems for various functions, including encryption and authentication, which could introduce additional risks if not properly secured. The company conducts application security assessments, vulnerability management, penetration testing, security audits, and ongoing risk assessments to mitigate these cybersecurity risks. Amazon also maintains incident response plans, provides cybersecurity training to employees, and has a dedicated team led by a chief security officer overseeing cybersecurity and data protection practices. The Security Committee of Amazon's Board of Directors oversees policies and procedures for protecting their cybersecurity infrastructure and compliance with data protection regulations to address these potential threats.\""
      ]
     },
     "execution_count": 20,
     "metadata": {},
     "output_type": "execute_result"
    }
   ],
   "source": [
    "answer"
   ]
  },
  {
   "cell_type": "code",
   "execution_count": 21,
   "metadata": {},
   "outputs": [
    {
     "name": "stderr",
     "output_type": "stream",
     "text": [
      "c:\\Users\\goldr\\anaconda3\\envs\\myenv\\lib\\site-packages\\langchain_core\\_api\\deprecation.py:139: LangChainDeprecationWarning: The method `BaseRetriever.get_relevant_documents` was deprecated in langchain-core 0.1.46 and will be removed in 0.3.0. Use invoke instead.\n",
      "  warn_deprecated(\n"
     ]
    }
   ],
   "source": [
    "# Answer each sub-question individually \n",
    "\n",
    "from langchain import hub\n",
    "from langchain_core.prompts import ChatPromptTemplate\n",
    "from langchain_core.runnables import RunnablePassthrough, RunnableLambda\n",
    "from langchain_core.output_parsers import StrOutputParser\n",
    "from langchain_openai import ChatOpenAI\n",
    "\n",
    "# RAG prompt\n",
    "prompt_rag = hub.pull(\"rlm/rag-prompt\")\n",
    "\n",
    "def retrieve_and_rag(question,prompt_rag,sub_question_generator_chain):\n",
    "    \"\"\"RAG on each sub-question\"\"\"\n",
    "    \n",
    "    # Use our decomposition / \n",
    "    sub_questions = sub_question_generator_chain.invoke({\"question\":question})\n",
    "    \n",
    "    # Initialize a list to hold RAG chain results\n",
    "    rag_results = []\n",
    "    \n",
    "    for sub_question in sub_questions:\n",
    "        \n",
    "        # Retrieve documents for each sub-question\n",
    "        retrieved_docs = retriever.get_relevant_documents(sub_question)\n",
    "        \n",
    "        # Use retrieved documents and sub-question in RAG chain\n",
    "        answer = (prompt_rag | llm | StrOutputParser()).invoke({\"context\": retrieved_docs, \n",
    "                                                                \"question\": sub_question})\n",
    "        rag_results.append(answer)\n",
    "    \n",
    "    return rag_results,sub_questions\n",
    "\n",
    "# Wrap the retrieval and RAG process in a RunnableLambda for integration into a chain\n",
    "answers, questions = retrieve_and_rag(question, prompt_rag, generate_queries_decomposition)"
   ]
  },
  {
   "cell_type": "code",
   "execution_count": 22,
   "metadata": {},
   "outputs": [
    {
     "data": {
      "text/plain": [
       "'The biggest discussed risks for Amazon.com Inc. (AMZN) include financial risks such as fluctuations in foreign exchange rates, changes in global economic conditions, and competition. Regulatory risks are also a significant concern, with evolving government regulations around taxation, privacy, data protection, and consumer protection posing potential threats to the company. Additionally, cybersecurity risks related to data loss, security breaches, and unauthorized access are key areas of focus for Amazon to manage and mitigate.'"
      ]
     },
     "execution_count": 22,
     "metadata": {},
     "output_type": "execute_result"
    }
   ],
   "source": [
    "def format_qa_pairs(questions, answers):\n",
    "    \"\"\"Format Q and A pairs\"\"\"\n",
    "    \n",
    "    formatted_string = \"\"\n",
    "    for i, (question, answer) in enumerate(zip(questions, answers), start=1):\n",
    "        formatted_string += f\"Question {i}: {question}\\nAnswer {i}: {answer}\\n\\n\"\n",
    "    return formatted_string.strip()\n",
    "\n",
    "context = format_qa_pairs(questions, answers)\n",
    "\n",
    "# Prompt\n",
    "template = \"\"\"Here is a set of Q+A pairs:\n",
    "\n",
    "{context}\n",
    "\n",
    "Use these to synthesize an answer to the question: {question}\n",
    "\"\"\"\n",
    "\n",
    "prompt = ChatPromptTemplate.from_template(template)\n",
    "\n",
    "final_rag_chain = (\n",
    "    prompt\n",
    "    | llm\n",
    "    | StrOutputParser()\n",
    ")\n",
    "\n",
    "final_rag_chain.invoke({\"context\":context,\"question\":question})"
   ]
  },
  {
   "cell_type": "markdown",
   "metadata": {},
   "source": [
    "# StepBack "
   ]
  },
  {
   "cell_type": "code",
   "execution_count": null,
   "metadata": {},
   "outputs": [],
   "source": [
    "# # Few Shot Examples\n",
    "# from langchain_core.prompts import ChatPromptTemplate, FewShotChatMessagePromptTemplate\n",
    "# examples = [\n",
    "#     {\n",
    "#         \"input\": \"Could the members of The Police perform lawful arrests?\",\n",
    "#         \"output\": \"what can the members of The Police do?\",\n",
    "#     },\n",
    "#     {\n",
    "#         \"input\": \"Jan Sindel’s was born in what country?\",\n",
    "#         \"output\": \"what is Jan Sindel’s personal history?\",\n",
    "#     },\n",
    "# ]\n",
    "# # We now transform these to example messages\n",
    "# example_prompt = ChatPromptTemplate.from_messages(\n",
    "#     [\n",
    "#         (\"human\", \"input\"),\n",
    "#         (\"ai\", \"output\"),\n",
    "#     ]\n",
    "# )\n",
    "# few_shot_prompt = FewShotChatMessagePromptTemplate(\n",
    "#     example_prompt=example_prompt,\n",
    "#     examples=examples,\n",
    "# )\n",
    "# prompt = ChatPromptTemplate.from_messages(\n",
    "#     [\n",
    "#         (\n",
    "#             \"system\",\n",
    "#             \"\"\"You are an expert at world knowledge. Your task is to step back and paraphrase a question to a more generic step-back question, which is easier to answer. Here are a few examples:\"\"\",\n",
    "#         ),\n",
    "#         # Few shot examples\n",
    "#         few_shot_prompt,\n",
    "#         # New question\n",
    "#         (\"user\", \"{question}\"),\n",
    "#     ]\n",
    "# )"
   ]
  },
  {
   "cell_type": "code",
   "execution_count": 27,
   "metadata": {},
   "outputs": [],
   "source": [
    "prompt = ChatPromptTemplate.from_messages(\n",
    "    [\n",
    "        (\"system\", \n",
    "         \"\"\"You are an expert in world knowledge. Your task is to paraphrase a specific question into a more generic and broader question, making it easier to answer. Here are a few examples:\"\"\"\n",
    "        ),\n",
    "        # Few-shot examples\n",
    "        (\"user\", \n",
    "            \"Could the members of The Police perform lawful arrests?\"\n",
    "        ),\n",
    "        (\"assistant\", \n",
    "            \"What can the members of The Police do?\"\n",
    "        ),\n",
    "        (\"user\", \n",
    "            \"Jan Sindel was born in what country?\"\n",
    "        ),\n",
    "        (\"assistant\", \n",
    "            \"What is Jan Sindel’s personal history?\"\n",
    "        ),\n",
    "        # New question\n",
    "        (\"user\", \"{question}\"),\n",
    "        (\"assistant\", \"\")\n",
    "    ]\n",
    ")\n"
   ]
  },
  {
   "cell_type": "code",
   "execution_count": 28,
   "metadata": {},
   "outputs": [
    {
     "data": {
      "text/plain": [
       "'What are some of the key risks associated with investing in Amazon.com Inc. (AMZN)?'"
      ]
     },
     "execution_count": 28,
     "metadata": {},
     "output_type": "execute_result"
    }
   ],
   "source": [
    "generate_queries_step_back = prompt | ChatOpenAI(temperature=0) | StrOutputParser()\n",
    "question = \"What are the biggest discussed risks for Amazon.com Inc. (AMZN)?\"\n",
    "generate_queries_step_back.invoke({\"question\": question})"
   ]
  },
  {
   "cell_type": "code",
   "execution_count": null,
   "metadata": {},
   "outputs": [
    {
     "data": {
      "text/plain": [
       "\"Some of the biggest discussed risks for Amazon.com Inc. (AMZN) include:\\n\\n1. Maintaining a culture of innovation, customer obsession, and long-term thinking: Amazon's growth and success are heavily reliant on its unique culture, and any failure to maintain this culture could hinder its performance.\\n\\n2. Disruptions from natural or human-caused disasters: Events such as public health crises, extreme weather, geopolitical issues, and labor disputes can disrupt Amazon's operations and impact its financial performance.\\n\\n3. Negative impacts of climate change: Climate change can lead to increased operating costs, changes in customer behavior, compliance costs, and reputational damage for Amazon, affecting its bottom line and public perception.\\n\\n4. Optimizing and operating fulfillment network and data centers: Failures in predicting customer demand, consumer spending patterns, or optimizing operations can result in inefficiencies and impact Amazon's ability to meet customer expectations.\\n\\n5. Fraudulent or unlawful activities of sellers: Amazon faces risks related to sellers engaging in fraudulent activities, selling counterfeit or stolen goods, or violating intellectual property rights. This can harm Amazon's reputation and lead to legal liabilities.\\n\\n6. Protecting intellectual property rights and infringement accusations: Amazon must adequately protect its own intellectual property rights while also ensuring that it does not infringe on the rights of third parties. Accusations of infringement can result in legal challenges and financial consequences for the company.\""
      ]
     },
     "execution_count": 32,
     "metadata": {},
     "output_type": "execute_result"
    }
   ],
   "source": [
    "# Response prompt \n",
    "response_prompt_template = \"\"\"You are an expert of world knowledge. I am going to ask you a question. Your response should be comprehensive and not contradicted with the following context if they are relevant. Otherwise, ignore them if they are not relevant.\n",
    "\n",
    "# {normal_context}\n",
    "# {step_back_context}\n",
    "\n",
    "# Original Question: {question}\n",
    "# Answer:\"\"\"\n",
    "response_prompt = ChatPromptTemplate.from_template(response_prompt_template)\n",
    "\n",
    "chain = (\n",
    "    {\n",
    "        # Retrieve context using the normal question\n",
    "        \"normal_context\": RunnableLambda(lambda x: x[\"question\"]) | retriever,\n",
    "        # Retrieve context using the step-back question\n",
    "        \"step_back_context\": generate_queries_step_back | retriever,\n",
    "        # Pass on the question\n",
    "        \"question\": lambda x: x[\"question\"],\n",
    "    }\n",
    "    | response_prompt\n",
    "    | ChatOpenAI(temperature=0)\n",
    "    | StrOutputParser()\n",
    ")\n",
    "\n",
    "chain.invoke({\"question\": question})"
   ]
  },
  {
   "cell_type": "markdown",
   "metadata": {},
   "source": [
    "# HyDE"
   ]
  },
  {
   "cell_type": "code",
   "execution_count": null,
   "metadata": {},
   "outputs": [
    {
     "data": {
      "text/plain": [
       "'One of the biggest discussed risks for Amazon.com Inc. (AMZN) is its heavy reliance on third-party sellers for a significant portion of its revenue. This dependence exposes the company to potential risks such as counterfeit products, regulatory issues, and reputational damage. Another major risk for Amazon is its vulnerability to changes in consumer preferences and technological advancements, which could impact its competitive position in the e-commerce market. Additionally, the company faces regulatory scrutiny and antitrust concerns due to its dominant market position and potential anti-competitive practices. Overall, these risks highlight the need for Amazon to continuously monitor and address potential threats to its business operations and financial performance.'"
      ]
     },
     "execution_count": 36,
     "metadata": {},
     "output_type": "execute_result"
    }
   ],
   "source": [
    "from langchain.prompts import ChatPromptTemplate\n",
    "\n",
    "# HyDE document genration\n",
    "template = \"\"\"Please write a scientific paper passage to answer the question\n",
    "Question: {question}\n",
    "Passage:\"\"\"\n",
    "prompt_hyde = ChatPromptTemplate.from_template(template)\n",
    "\n",
    "from langchain_core.output_parsers import StrOutputParser\n",
    "from langchain_openai import ChatOpenAI\n",
    "\n",
    "generate_docs_for_retrieval = (\n",
    "    prompt_hyde | ChatOpenAI(temperature=0) | StrOutputParser() \n",
    ")\n",
    "\n",
    "# Run\n",
    "question = \"What are the biggest discussed risks for Amazon.com Inc. (AMZN)?\"\n",
    "generate_docs_for_retrieval.invoke({\"question\":question})"
   ]
  },
  {
   "cell_type": "code",
   "execution_count": null,
   "metadata": {},
   "outputs": [
    {
     "data": {
      "text/plain": [
       "[Document(metadata={'author': 'EDGAR® Online LLC, a subsidiary of OTC Markets Group', 'creationDate': \"D:20240202060436-05'00'\", 'creator': 'EDGAR Filing HTML Converter', 'encryption': 'Standard V2 R3 128-bit RC4', 'file_path': 'data/amazon_form_10k_2023.pdf', 'format': 'PDF 1.4', 'keywords': '0001018724-24-000008; ; 10-K', 'modDate': \"D:20240202060451-05'00'\", 'page': 5, 'producer': 'EDGRpdf Service w/ EO.Pdf 22.0.40.0', 'source': 'data/amazon_form_10k_2023.pdf', 'subject': 'Form 10-K filed on 2024-02-02 for the period ending 2023-12-31', 'title': '0001018724-24-000008', 'total_pages': 94, 'trapped': ''}, page_content='events and consequences discussed in these risk factors could, in circumstances we may or may not be able to accurately predict, recognize, or control, have a\\nmaterial adverse effect on our business, growth, reputation, prospects, financial condition, operating results (including components of our financial results),\\ncash flows, liquidity, and stock price. These risk factors do not identify all risks that we face; our operations could also be affected by factors, events, or\\nuncertainties that are not presently known to us or that we currently do not consider to present significant risks to our operations. In addition to the factors\\ndiscussed in Item 7 of Part II, “Management’s Discussion and Analysis of Financial Condition and Results of Operations,” and in the risk factors below, global\\neconomic and geopolitical conditions and additional or unforeseen circumstances, developments, or events may give rise to or amplify many of the risks\\ndiscussed below. Many of the risks discussed below also impact our customers, including third-party sellers, which could indirectly have a material adverse\\neffect on us.\\nBusiness and Industry Risks\\nWe Face Intense Competition\\nOur businesses are rapidly evolving and intensely competitive, and we have many competitors across geographies, including cross-border competition,\\nand in different industries, including physical, e-commerce, and omnichannel retail, e-commerce services, web and infrastructure computing services,'),\n",
       " Document(metadata={'author': 'EDGAR® Online LLC, a subsidiary of OTC Markets Group', 'creationDate': \"D:20240202060436-05'00'\", 'creator': 'EDGAR Filing HTML Converter', 'encryption': 'Standard V2 R3 128-bit RC4', 'file_path': 'data/amazon_form_10k_2023.pdf', 'format': 'PDF 1.4', 'keywords': '0001018724-24-000008; ; 10-K', 'modDate': \"D:20240202060451-05'00'\", 'page': 5, 'producer': 'EDGRpdf Service w/ EO.Pdf 22.0.40.0', 'source': 'data/amazon_form_10k_2023.pdf', 'subject': 'Form 10-K filed on 2024-02-02 for the period ending 2023-12-31', 'title': '0001018724-24-000008', 'total_pages': 94, 'trapped': ''}, page_content='events and consequences discussed in these risk factors could, in circumstances we may or may not be able to accurately predict, recognize, or control, have a\\nmaterial adverse effect on our business, growth, reputation, prospects, financial condition, operating results (including components of our financial results),\\ncash flows, liquidity, and stock price. These risk factors do not identify all risks that we face; our operations could also be affected by factors, events, or\\nuncertainties that are not presently known to us or that we currently do not consider to present significant risks to our operations. In addition to the factors\\ndiscussed in Item 7 of Part II, “Management’s Discussion and Analysis of Financial Condition and Results of Operations,” and in the risk factors below, global\\neconomic and geopolitical conditions and additional or unforeseen circumstances, developments, or events may give rise to or amplify many of the risks\\ndiscussed below. Many of the risks discussed below also impact our customers, including third-party sellers, which could indirectly have a material adverse\\neffect on us.\\nBusiness and Industry Risks\\nWe Face Intense Competition\\nOur businesses are rapidly evolving and intensely competitive, and we have many competitors across geographies, including cross-border competition,\\nand in different industries, including physical, e-commerce, and omnichannel retail, e-commerce services, web and infrastructure computing services,'),\n",
       " Document(metadata={'author': 'EDGAR® Online LLC, a subsidiary of OTC Markets Group', 'creationDate': \"D:20240202060436-05'00'\", 'creator': 'EDGAR Filing HTML Converter', 'encryption': 'Standard V2 R3 128-bit RC4', 'file_path': 'data/amazon_form_10k_2023.pdf', 'format': 'PDF 1.4', 'keywords': '0001018724-24-000008; ; 10-K', 'modDate': \"D:20240202060451-05'00'\", 'page': 9, 'producer': 'EDGRpdf Service w/ EO.Pdf 22.0.40.0', 'source': 'data/amazon_form_10k_2023.pdf', 'subject': 'Form 10-K filed on 2024-02-02 for the period ending 2023-12-31', 'title': '0001018724-24-000008', 'total_pages': 94, 'trapped': ''}, page_content='•\\nthe extent to which we fail to maintain our unique culture of innovation, customer obsession, and long-term thinking, which has been critical to our\\ngrowth and success;\\n•\\ndisruptions from natural or human-caused disasters (including public health crises) or extreme weather (including as a result of climate change),\\ngeopolitical events and security issues (including terrorist attacks, armed hostilities, and political conflicts, including those involving China), labor or\\ntrade disputes (including restrictive governmental actions impacting us, our customers, and our third-party sellers and suppliers in China or other\\nforeign countries), and similar events; and\\n•\\npotential negative impacts of climate change, including: increased operating costs due to more frequent extreme weather events or climate-related\\nchanges, such as rising temperatures and water scarcity; increased investment requirements associated with the transition to a low-carbon economy;\\ndecreased demand for our products and services as a result of changes in customer behavior; increased compliance costs due to more extensive and\\nglobal regulations and third-party requirements; and reputational damage resulting from perceptions of our environmental impact.\\nWe Face Risks Related to Successfully Optimizing and Operating Our Fulfillment Network and Data Centers\\nFailures to adequately predict customer demand and consumer spending patterns or otherwise optimize and operate our fulfillment network and data'),\n",
       " Document(metadata={'author': 'EDGAR® Online LLC, a subsidiary of OTC Markets Group', 'creationDate': \"D:20240202060436-05'00'\", 'creator': 'EDGAR Filing HTML Converter', 'encryption': 'Standard V2 R3 128-bit RC4', 'file_path': 'data/amazon_form_10k_2023.pdf', 'format': 'PDF 1.4', 'keywords': '0001018724-24-000008; ; 10-K', 'modDate': \"D:20240202060451-05'00'\", 'page': 9, 'producer': 'EDGRpdf Service w/ EO.Pdf 22.0.40.0', 'source': 'data/amazon_form_10k_2023.pdf', 'subject': 'Form 10-K filed on 2024-02-02 for the period ending 2023-12-31', 'title': '0001018724-24-000008', 'total_pages': 94, 'trapped': ''}, page_content='•\\nthe extent to which we fail to maintain our unique culture of innovation, customer obsession, and long-term thinking, which has been critical to our\\ngrowth and success;\\n•\\ndisruptions from natural or human-caused disasters (including public health crises) or extreme weather (including as a result of climate change),\\ngeopolitical events and security issues (including terrorist attacks, armed hostilities, and political conflicts, including those involving China), labor or\\ntrade disputes (including restrictive governmental actions impacting us, our customers, and our third-party sellers and suppliers in China or other\\nforeign countries), and similar events; and\\n•\\npotential negative impacts of climate change, including: increased operating costs due to more frequent extreme weather events or climate-related\\nchanges, such as rising temperatures and water scarcity; increased investment requirements associated with the transition to a low-carbon economy;\\ndecreased demand for our products and services as a result of changes in customer behavior; increased compliance costs due to more extensive and\\nglobal regulations and third-party requirements; and reputational damage resulting from perceptions of our environmental impact.\\nWe Face Risks Related to Successfully Optimizing and Operating Our Fulfillment Network and Data Centers\\nFailures to adequately predict customer demand and consumer spending patterns or otherwise optimize and operate our fulfillment network and data')]"
      ]
     },
     "execution_count": 37,
     "metadata": {},
     "output_type": "execute_result"
    }
   ],
   "source": [
    "# Retrieve\n",
    "retrieval_chain = generate_docs_for_retrieval | retriever \n",
    "retireved_docs = retrieval_chain.invoke({\"question\":question})\n",
    "retireved_docs"
   ]
  },
  {
   "cell_type": "code",
   "execution_count": null,
   "metadata": {},
   "outputs": [
    {
     "data": {
      "text/plain": [
       "'The biggest discussed risks for Amazon.com Inc. (AMZN) include intense competition in rapidly evolving industries, potential negative impacts of climate change, disruptions from natural or human-caused disasters, geopolitical events and security issues, and risks related to optimizing and operating their fulfillment network and data centers.'"
      ]
     },
     "execution_count": 38,
     "metadata": {},
     "output_type": "execute_result"
    }
   ],
   "source": [
    "# RAG\n",
    "template = \"\"\"Answer the following question based on this context:\n",
    "\n",
    "{context}\n",
    "\n",
    "Question: {question}\n",
    "\"\"\"\n",
    "\n",
    "prompt = ChatPromptTemplate.from_template(template)\n",
    "\n",
    "final_rag_chain = (\n",
    "    prompt\n",
    "    | llm\n",
    "    | StrOutputParser()\n",
    ")\n",
    "\n",
    "final_rag_chain.invoke({\"context\":retireved_docs,\"question\":question})"
   ]
  },
  {
   "cell_type": "code",
   "execution_count": 1,
   "metadata": {},
   "outputs": [
    {
     "name": "stdout",
     "output_type": "stream",
     "text": [
      "Collecting datasets\n",
      "  Downloading datasets-2.20.0-py3-none-any.whl.metadata (19 kB)\n",
      "Requirement already satisfied: filelock in c:\\users\\goldr\\anaconda3\\envs\\myenv\\lib\\site-packages (from datasets) (3.14.0)\n",
      "Requirement already satisfied: numpy>=1.17 in c:\\users\\goldr\\anaconda3\\envs\\myenv\\lib\\site-packages (from datasets) (1.26.4)\n",
      "Collecting pyarrow>=15.0.0 (from datasets)\n",
      "  Downloading pyarrow-17.0.0-cp310-cp310-win_amd64.whl.metadata (3.4 kB)\n",
      "Collecting pyarrow-hotfix (from datasets)\n",
      "  Using cached pyarrow_hotfix-0.6-py3-none-any.whl.metadata (3.6 kB)\n",
      "Collecting dill<0.3.9,>=0.3.0 (from datasets)\n",
      "  Using cached dill-0.3.8-py3-none-any.whl.metadata (10 kB)\n",
      "Requirement already satisfied: pandas in c:\\users\\goldr\\anaconda3\\envs\\myenv\\lib\\site-packages (from datasets) (2.2.2)\n",
      "Requirement already satisfied: requests>=2.32.2 in c:\\users\\goldr\\anaconda3\\envs\\myenv\\lib\\site-packages (from datasets) (2.32.2)\n",
      "Requirement already satisfied: tqdm>=4.66.3 in c:\\users\\goldr\\anaconda3\\envs\\myenv\\lib\\site-packages (from datasets) (4.66.4)\n",
      "Collecting xxhash (from datasets)\n",
      "  Downloading xxhash-3.4.1-cp310-cp310-win_amd64.whl.metadata (12 kB)\n",
      "Collecting multiprocess (from datasets)\n",
      "  Downloading multiprocess-0.70.16-py310-none-any.whl.metadata (7.2 kB)\n",
      "Requirement already satisfied: fsspec<=2024.5.0,>=2023.1.0 in c:\\users\\goldr\\anaconda3\\envs\\myenv\\lib\\site-packages (from fsspec[http]<=2024.5.0,>=2023.1.0->datasets) (2024.5.0)\n",
      "Requirement already satisfied: aiohttp in c:\\users\\goldr\\anaconda3\\envs\\myenv\\lib\\site-packages (from datasets) (3.9.5)\n",
      "Requirement already satisfied: huggingface-hub>=0.21.2 in c:\\users\\goldr\\anaconda3\\envs\\myenv\\lib\\site-packages (from datasets) (0.23.2)\n",
      "Requirement already satisfied: packaging in c:\\users\\goldr\\anaconda3\\envs\\myenv\\lib\\site-packages (from datasets) (23.2)\n",
      "Requirement already satisfied: pyyaml>=5.1 in c:\\users\\goldr\\anaconda3\\envs\\myenv\\lib\\site-packages (from datasets) (6.0.1)\n",
      "Requirement already satisfied: aiosignal>=1.1.2 in c:\\users\\goldr\\anaconda3\\envs\\myenv\\lib\\site-packages (from aiohttp->datasets) (1.3.1)\n",
      "Requirement already satisfied: attrs>=17.3.0 in c:\\users\\goldr\\anaconda3\\envs\\myenv\\lib\\site-packages (from aiohttp->datasets) (23.2.0)\n",
      "Requirement already satisfied: frozenlist>=1.1.1 in c:\\users\\goldr\\anaconda3\\envs\\myenv\\lib\\site-packages (from aiohttp->datasets) (1.4.1)\n",
      "Requirement already satisfied: multidict<7.0,>=4.5 in c:\\users\\goldr\\anaconda3\\envs\\myenv\\lib\\site-packages (from aiohttp->datasets) (6.0.5)\n",
      "Requirement already satisfied: yarl<2.0,>=1.0 in c:\\users\\goldr\\anaconda3\\envs\\myenv\\lib\\site-packages (from aiohttp->datasets) (1.9.4)\n",
      "Requirement already satisfied: async-timeout<5.0,>=4.0 in c:\\users\\goldr\\anaconda3\\envs\\myenv\\lib\\site-packages (from aiohttp->datasets) (4.0.3)\n",
      "Requirement already satisfied: typing-extensions>=3.7.4.3 in c:\\users\\goldr\\anaconda3\\envs\\myenv\\lib\\site-packages (from huggingface-hub>=0.21.2->datasets) (4.12.0)\n",
      "Requirement already satisfied: charset-normalizer<4,>=2 in c:\\users\\goldr\\anaconda3\\envs\\myenv\\lib\\site-packages (from requests>=2.32.2->datasets) (3.3.2)\n",
      "Requirement already satisfied: idna<4,>=2.5 in c:\\users\\goldr\\anaconda3\\envs\\myenv\\lib\\site-packages (from requests>=2.32.2->datasets) (3.7)\n",
      "Requirement already satisfied: urllib3<3,>=1.21.1 in c:\\users\\goldr\\anaconda3\\envs\\myenv\\lib\\site-packages (from requests>=2.32.2->datasets) (2.2.1)\n",
      "Requirement already satisfied: certifi>=2017.4.17 in c:\\users\\goldr\\anaconda3\\envs\\myenv\\lib\\site-packages (from requests>=2.32.2->datasets) (2024.2.2)\n",
      "Requirement already satisfied: colorama in c:\\users\\goldr\\appdata\\roaming\\python\\python310\\site-packages (from tqdm>=4.66.3->datasets) (0.4.6)\n",
      "Requirement already satisfied: python-dateutil>=2.8.2 in c:\\users\\goldr\\appdata\\roaming\\python\\python310\\site-packages (from pandas->datasets) (2.9.0.post0)\n",
      "Requirement already satisfied: pytz>=2020.1 in c:\\users\\goldr\\anaconda3\\envs\\myenv\\lib\\site-packages (from pandas->datasets) (2024.1)\n",
      "Requirement already satisfied: tzdata>=2022.7 in c:\\users\\goldr\\anaconda3\\envs\\myenv\\lib\\site-packages (from pandas->datasets) (2024.1)\n",
      "Requirement already satisfied: six>=1.5 in c:\\users\\goldr\\appdata\\roaming\\python\\python310\\site-packages (from python-dateutil>=2.8.2->pandas->datasets) (1.16.0)\n",
      "Downloading datasets-2.20.0-py3-none-any.whl (547 kB)\n",
      "   ---------------------------------------- 0.0/547.8 kB ? eta -:--:--\n",
      "   -------- ------------------------------- 112.6/547.8 kB 2.2 MB/s eta 0:00:01\n",
      "   ----------------------------------- ---- 481.3/547.8 kB 5.0 MB/s eta 0:00:01\n",
      "   ---------------------------------------- 547.8/547.8 kB 4.9 MB/s eta 0:00:00\n",
      "Using cached dill-0.3.8-py3-none-any.whl (116 kB)\n",
      "Downloading pyarrow-17.0.0-cp310-cp310-win_amd64.whl (25.1 MB)\n",
      "   ---------------------------------------- 0.0/25.1 MB ? eta -:--:--\n",
      "   ---------------------------------------- 0.3/25.1 MB 9.6 MB/s eta 0:00:03\n",
      "   - -------------------------------------- 0.9/25.1 MB 10.9 MB/s eta 0:00:03\n",
      "   - -------------------------------------- 1.2/25.1 MB 11.2 MB/s eta 0:00:03\n",
      "   --- ------------------------------------ 2.0/25.1 MB 11.4 MB/s eta 0:00:03\n",
      "   ---- ----------------------------------- 2.6/25.1 MB 11.7 MB/s eta 0:00:02\n",
      "   ---- ----------------------------------- 2.9/25.1 MB 11.6 MB/s eta 0:00:02\n",
      "   ----- ---------------------------------- 3.6/25.1 MB 11.5 MB/s eta 0:00:02\n",
      "   ------ --------------------------------- 4.3/25.1 MB 12.0 MB/s eta 0:00:02\n",
      "   ------- -------------------------------- 5.0/25.1 MB 12.2 MB/s eta 0:00:02\n",
      "   -------- ------------------------------- 5.6/25.1 MB 12.8 MB/s eta 0:00:02\n",
      "   ---------- ----------------------------- 6.4/25.1 MB 12.8 MB/s eta 0:00:02\n",
      "   ----------- ---------------------------- 7.2/25.1 MB 13.1 MB/s eta 0:00:02\n",
      "   ------------ --------------------------- 7.8/25.1 MB 13.1 MB/s eta 0:00:02\n",
      "   ------------- -------------------------- 8.5/25.1 MB 13.3 MB/s eta 0:00:02\n",
      "   -------------- ------------------------- 9.4/25.1 MB 13.6 MB/s eta 0:00:02\n",
      "   --------------- ------------------------ 10.0/25.1 MB 13.6 MB/s eta 0:00:02\n",
      "   ----------------- ---------------------- 10.7/25.1 MB 13.9 MB/s eta 0:00:02\n",
      "   ------------------ --------------------- 11.5/25.1 MB 14.6 MB/s eta 0:00:01\n",
      "   ------------------- -------------------- 12.4/25.1 MB 14.9 MB/s eta 0:00:01\n",
      "   -------------------- ------------------- 13.0/25.1 MB 15.6 MB/s eta 0:00:01\n",
      "   ---------------------- ----------------- 13.9/25.1 MB 15.6 MB/s eta 0:00:01\n",
      "   ----------------------- ---------------- 14.6/25.1 MB 15.6 MB/s eta 0:00:01\n",
      "   ------------------------ --------------- 15.4/25.1 MB 16.0 MB/s eta 0:00:01\n",
      "   ------------------------- -------------- 16.1/25.1 MB 16.0 MB/s eta 0:00:01\n",
      "   -------------------------- ------------- 16.9/25.1 MB 16.0 MB/s eta 0:00:01\n",
      "   ---------------------------- ----------- 17.7/25.1 MB 16.0 MB/s eta 0:00:01\n",
      "   ----------------------------- ---------- 18.5/25.1 MB 16.4 MB/s eta 0:00:01\n",
      "   ------------------------------ --------- 19.2/25.1 MB 16.4 MB/s eta 0:00:01\n",
      "   ------------------------------- -------- 20.0/25.1 MB 16.8 MB/s eta 0:00:01\n",
      "   --------------------------------- ------ 20.9/25.1 MB 16.8 MB/s eta 0:00:01\n",
      "   ---------------------------------- ----- 21.8/25.1 MB 16.4 MB/s eta 0:00:01\n",
      "   ----------------------------------- ---- 22.5/25.1 MB 16.8 MB/s eta 0:00:01\n",
      "   ------------------------------------- -- 23.3/25.1 MB 16.8 MB/s eta 0:00:01\n",
      "   -------------------------------------- - 24.1/25.1 MB 16.4 MB/s eta 0:00:01\n",
      "   ---------------------------------------  24.9/25.1 MB 16.4 MB/s eta 0:00:01\n",
      "   ---------------------------------------  25.1/25.1 MB 16.4 MB/s eta 0:00:01\n",
      "   ---------------------------------------- 25.1/25.1 MB 15.6 MB/s eta 0:00:00\n",
      "Downloading multiprocess-0.70.16-py310-none-any.whl (134 kB)\n",
      "   ---------------------------------------- 0.0/134.8 kB ? eta -:--:--\n",
      "   ---------------------------------------- 134.8/134.8 kB ? eta 0:00:00\n",
      "Using cached pyarrow_hotfix-0.6-py3-none-any.whl (7.9 kB)\n",
      "Downloading xxhash-3.4.1-cp310-cp310-win_amd64.whl (29 kB)\n",
      "Installing collected packages: xxhash, pyarrow-hotfix, pyarrow, dill, multiprocess, datasets\n",
      "Successfully installed datasets-2.20.0 dill-0.3.8 multiprocess-0.70.16 pyarrow-17.0.0 pyarrow-hotfix-0.6 xxhash-3.4.1\n"
     ]
    }
   ],
   "source": [
    "!pip install datasets\n"
   ]
  }
 ],
 "metadata": {
  "kernelspec": {
   "display_name": "myenv",
   "language": "python",
   "name": "python3"
  },
  "language_info": {
   "codemirror_mode": {
    "name": "ipython",
    "version": 3
   },
   "file_extension": ".py",
   "mimetype": "text/x-python",
   "name": "python",
   "nbconvert_exporter": "python",
   "pygments_lexer": "ipython3",
   "version": "3.10.14"
  }
 },
 "nbformat": 4,
 "nbformat_minor": 2
}
