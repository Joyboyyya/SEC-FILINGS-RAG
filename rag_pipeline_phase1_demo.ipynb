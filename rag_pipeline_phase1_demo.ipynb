{
 "cells": [
  {
   "cell_type": "code",
   "execution_count": 1,
   "metadata": {},
   "outputs": [
    {
     "data": {
      "text/plain": [
       "True"
      ]
     },
     "execution_count": 1,
     "metadata": {},
     "output_type": "execute_result"
    }
   ],
   "source": [
    "import os\n",
    "import requests\n",
    "from pydantic import BaseModel, ValidationError\n",
    "from typing import Annotated, Literal, Optional\n",
    "from datetime import datetime\n",
    "from autogen import ConversableAgent, register_function\n",
    "from dotenv import load_dotenv\n",
    "from transformers import AutoTokenizer, AutoModel\n",
    "import torch\n",
    "from sklearn.metrics.pairwise import cosine_similarity\n",
    "from langchain_community.embeddings import HuggingFaceEmbeddings\n",
    "from langchain_openai import ChatOpenAI\n",
    "from langchain_core.prompts import ChatPromptTemplate\n",
    "from langchain.output_parsers import PydanticOutputParser\n",
    "from langchain.chains import LLMChain\n",
    "import numpy as np\n",
    "import pandas as pd\n",
    "from io import StringIO\n",
    "import spacy\n",
    "from bs4 import BeautifulSoup\n",
    "import time\n",
    "import json\n",
    "import re\n",
    "from typing import List, Dict, Annotated\n",
    "\n",
    "load_dotenv()"
   ]
  },
  {
   "cell_type": "code",
   "execution_count": 2,
   "metadata": {},
   "outputs": [],
   "source": [
    "FMP_API_KEY = os.getenv(\"FMP_API_KEY\")\n",
    "OPENAI_API_KEY = os.getenv(\"OPENAI_API_KEY\")\n",
    "LANGCHAIN_ENDPOINT = os.getenv('LANGCHAIN_ENDPOINT')\n",
    "LANGCHAIN_API_KEY = os.getenv('LANGCHAIN_API_KEY')\n",
    "os.environ['LANGCHAIN_TRACING_V2'] = 'true'\n"
   ]
  },
  {
   "cell_type": "code",
   "execution_count": 3,
   "metadata": {},
   "outputs": [],
   "source": [
    "def documents_selector(input: Annotated[str, \"Qualitative data input prompt\"]) -> List[Dict[str, str]]:\n",
    "\n",
    "    llm = ChatOpenAI(\n",
    "        model=\"gpt-4\",\n",
    "        temperature=0.3\n",
    "    )\n",
    "    \n",
    "\n",
    "    # need to come up with idea to remove this line in the prompt: Also make a note that the current financial year is 2024.\n",
    "    prompt = ChatPromptTemplate.from_messages(\n",
    "        [\n",
    "            (\"system\", '''\n",
    "                Your task is to identify and fill the following entities from the user's prompt:\n",
    "\n",
    "                1. **ticker**: The abbreviation of the company's name.\n",
    "                2. **document_type**: 'Form 10K' (for annual financial details), 'Form 10Q' (for quarterly financial details), etc.\n",
    "                3. **year**: \n",
    "                   - If 'Form 10K' is chosen, the year should be in the format 'YYYY' (e.g., 2021, 2019).\n",
    "                   - If 'Form 10Q' is chosen, the year should be in the format 'YYYY QX' (e.g., 2023 Q3, 2022 Q2).\n",
    "\n",
    "                User prompts may be explicit or implicit and may not specify all required entities. Use context to infer missing details.\n",
    "\n",
    "                If a user prompt is complex, you may break it into simpler, atomic prompts and provide separate outputs for each.\n",
    "             \n",
    "                Make a note that there is no fourth quarter Q4, companies file for Form 10K instead of filing Form 10Q. So you can only choose Q1, Q2 or Q3.\n",
    "             \n",
    "                Also make a note that the current financial year is 2024.\n",
    "\n",
    "                ### Guidelines for Handling Qualitative Financial Questions:\n",
    "\n",
    "                1. **Map to Relevant Documents**: Use the most relevant financial documents (annual or quarterly reports) that are likely to contain information on market trends, growth prospects, or other qualitative aspects.\n",
    "\n",
    "                2. **Use Representative Entities**: When the user question is about a sector or general trends, use representative entities such as sector ETFs (e.g., XLK for technology) to provide the context.\n",
    "\n",
    "                3. **Infer Contextual Details**: Use the context provided in the user's question to infer missing details and make reasonable assumptions about the tickers, document types and years.\n",
    "\n",
    "                4. **Use top companies tickers**: If you are stuck which company's ticker to choose then use one or more top performing company's ticker in the respective field.\n",
    "             \n",
    "                5. **Use recent years**: If you are stuck with which year to choose then choose the latest year or years or latest quarter based on the context of the user prompt.\n",
    "\n",
    "                ### Examples:\n",
    "                1. **Prompt**: 'Please provide the report on recent developments at Apple.'\n",
    "                   **Output**: \n",
    "                     ticker: AAPL\n",
    "                     document_type: Form 10K\n",
    "                     year: 2023\n",
    "                     \n",
    "                     ticker: AAPL\n",
    "                     document_type: Form 10Q\n",
    "                     year: 2023 Q3\n",
    "\n",
    "                2. **Prompt**: 'Please provide the report on third quarter for Apple for the years 2021 and 2022.'\n",
    "                   **Output**: \n",
    "                     ticker: AAPL\n",
    "                     document_type: Form 10Q\n",
    "                     year: 2021 Q3\n",
    "                     \n",
    "                     ticker: AAPL\n",
    "                     document_type: Form 10Q\n",
    "                     year: 2022 Q3\n",
    "\n",
    "                3. **Prompt**: 'What are the prevailing market trends in the technology sector?'\n",
    "                   **Output**: \n",
    "                     ticker: XLK\n",
    "                     document_type: Form 10K\n",
    "                     year: 2023\n",
    "                     \n",
    "                     ticker: XLK\n",
    "                     document_type: Form 10Q\n",
    "                     year: 2023 Q3\n",
    "\n",
    "                4. **Prompt**: 'What are the growth prospects of Tesla in the next five years?'\n",
    "                   **Output**: \n",
    "                     ticker: TSLA\n",
    "                     document_type: Form 10K\n",
    "                     year: 2023\n",
    "                     \n",
    "                     ticker: TSLA\n",
    "                     document_type: Form 10Q\n",
    "                     year: 2023 Q3\n",
    "\n",
    "                Return 'TERMINATE' when the task is completed.\n",
    "            '''),\n",
    "            (\"user\", \"{input}\")\n",
    "        ]\n",
    "    )\n",
    "    \n",
    "    chain = prompt | llm\n",
    "    \n",
    "    output = chain.invoke({\"input\": input})\n",
    "\n",
    "    try:\n",
    "        documents = output.content.split('\\n')\n",
    "        result = []\n",
    "        current_doc = {}\n",
    "\n",
    "        for line in documents:\n",
    "            if 'ticker:' in line:\n",
    "                if current_doc:\n",
    "                    result.append(current_doc)\n",
    "                    current_doc = {}\n",
    "                current_doc['ticker'] = line.split('ticker:')[1].strip()\n",
    "            elif 'document_type:' in line:\n",
    "                current_doc['document_type'] = line.split('document_type:')[1].strip()\n",
    "            elif 'year:' in line:\n",
    "                current_doc['year'] = line.split('year:')[1].strip()\n",
    "        \n",
    "        if current_doc:  # Add the last document\n",
    "            result.append(current_doc)\n",
    "\n",
    "        return result\n",
    "\n",
    "    except Exception as e:\n",
    "        raise ValueError(f\"Failed to parse output: {output.content}. Error: {e}\")"
   ]
  },
  {
   "cell_type": "code",
   "execution_count": 4,
   "metadata": {},
   "outputs": [
    {
     "data": {
      "text/plain": [
       "[{'ticker': 'PLTR', 'document_type': 'Form 10K', 'year': '2022'},\n",
       " {'ticker': 'PLTR', 'document_type': 'Form 10K', 'year': '2023'},\n",
       " {'ticker': 'PLTR', 'document_type': 'Form 10Q', 'year': '2022 Q1'},\n",
       " {'ticker': 'PLTR', 'document_type': 'Form 10Q', 'year': '2022 Q2'},\n",
       " {'ticker': 'PLTR', 'document_type': 'Form 10Q', 'year': '2022 Q3'},\n",
       " {'ticker': 'PLTR', 'document_type': 'Form 10Q', 'year': '2023 Q1'},\n",
       " {'ticker': 'PLTR', 'document_type': 'Form 10Q', 'year': '2023 Q2'},\n",
       " {'ticker': 'PLTR', 'document_type': 'Form 10Q', 'year': '2023 Q3'}]"
      ]
     },
     "execution_count": 4,
     "metadata": {},
     "output_type": "execute_result"
    }
   ],
   "source": [
    "documents_selector('Analyse the performance of PLTR for past two years')"
   ]
  },
  {
   "cell_type": "code",
   "execution_count": 5,
   "metadata": {},
   "outputs": [
    {
     "data": {
      "text/plain": [
       "[{'ticker': 'PLTR', 'document_type': 'Form 10K', 'year': '2022'},\n",
       " {'ticker': 'PLTR', 'document_type': 'Form 10K', 'year': '2023'},\n",
       " {'ticker': 'AMZN', 'document_type': 'Form 10K', 'year': '2022'},\n",
       " {'ticker': 'AMZN', 'document_type': 'Form 10K', 'year': '2023'},\n",
       " {'ticker': 'PLTR', 'document_type': 'Form 10Q', 'year': '2022 Q3'},\n",
       " {'ticker': 'PLTR', 'document_type': 'Form 10Q', 'year': '2023 Q3'},\n",
       " {'ticker': 'AMZN', 'document_type': 'Form 10Q', 'year': '2022 Q3'},\n",
       " {'ticker': 'AMZN', 'document_type': 'Form 10Q', 'year': '2023 Q3'}]"
      ]
     },
     "execution_count": 5,
     "metadata": {},
     "output_type": "execute_result"
    }
   ],
   "source": [
    "documents_selector('Analyse the performance of PLTR and AMZN for past two years')"
   ]
  },
  {
   "cell_type": "code",
   "execution_count": 6,
   "metadata": {},
   "outputs": [
    {
     "data": {
      "text/plain": [
       "[{'ticker': 'NVDA', 'document_type': 'Form 10K', 'year': '2022'},\n",
       " {'ticker': 'NVDA', 'document_type': 'Form 10Q', 'year': '2022 Q3'},\n",
       " {'ticker': 'AMD', 'document_type': 'Form 10K', 'year': '2022'},\n",
       " {'ticker': 'AMD', 'document_type': 'Form 10Q', 'year': '2022 Q3'},\n",
       " {'ticker': 'NVDA', 'document_type': 'Form 10K', 'year': '2023'},\n",
       " {'ticker': 'NVDA', 'document_type': 'Form 10Q', 'year': '2023 Q3'},\n",
       " {'ticker': 'AMD', 'document_type': 'Form 10K', 'year': '2023'},\n",
       " {'ticker': 'AMD', 'document_type': 'Form 10Q', 'year': '2023 Q3'}]"
      ]
     },
     "execution_count": 6,
     "metadata": {},
     "output_type": "execute_result"
    }
   ],
   "source": [
    "documents_selector(\"What are the strengths and weakness of NVDA and AMD over the past two years?\")"
   ]
  },
  {
   "cell_type": "code",
   "execution_count": 7,
   "metadata": {},
   "outputs": [
    {
     "name": "stdout",
     "output_type": "stream",
     "text": [
      "Query: 1. What are the biggest cybersecurity risks for Amazon.com Inc. (AMZN)?\n",
      "{'ticker': 'AMZN', 'document_type': 'Form 10K', 'year': '2023'}\n",
      "{'ticker': 'AMZN', 'document_type': 'Form 10Q', 'year': '2023 Q3'}\n",
      "------------------------------------------------------------------------------------------\n",
      "Query: 2. What are the biggest regulatory risks for Amazon.com Inc. (AMZN)?\n",
      "{'ticker': 'AMZN', 'document_type': 'Form 10K', 'year': '2023'}\n",
      "{'ticker': 'AMZN', 'document_type': 'Form 10Q', 'year': '2023 Q3'}\n",
      "------------------------------------------------------------------------------------------\n",
      "Query: 3. What are the biggest competition risks for Amazon.com Inc. (AMZN)?\n",
      "{'ticker': 'AMZN', 'document_type': 'Form 10K', 'year': '2023'}\n",
      "{'ticker': 'AMZN', 'document_type': 'Form 10Q', 'year': '2023 Q3'}\n",
      "------------------------------------------------------------------------------------------\n",
      "Query: 4. What are the biggest supply chain risks for Amazon.com Inc. (AMZN)?\n",
      "{'ticker': 'AMZN', 'document_type': 'Form 10K', 'year': '2023'}\n",
      "{'ticker': 'AMZN', 'document_type': 'Form 10Q', 'year': '2023 Q3'}\n",
      "------------------------------------------------------------------------------------------\n"
     ]
    }
   ],
   "source": [
    "from langchain.prompts import ChatPromptTemplate\n",
    "from langchain_core.output_parsers import StrOutputParser\n",
    "from langchain_openai import ChatOpenAI\n",
    "\n",
    "# RAG-Fusion: Related\n",
    "template = \"\"\"You are a helpful assistant that generates multiple search queries based on a single input query. \\n\n",
    "Generate multiple search queries related to: {question} \\n\n",
    "Output (4 queries):\"\"\"\n",
    "prompt_rag_fusion = ChatPromptTemplate.from_template(template)\n",
    "\n",
    "generate_queries = (\n",
    "prompt_rag_fusion \n",
    "| ChatOpenAI(temperature=0) \n",
    "| StrOutputParser() \n",
    "| (lambda x: x.split(\"\\n\"))\n",
    ")\n",
    "\n",
    "# Define the pipeline using LangChain expression language\n",
    "pipeline = generate_queries | (lambda queries: [{\"query\": query, \"documents\": documents_selector(query)} for query in queries])\n",
    "\n",
    "# Function to run the entire pipeline\n",
    "def run_pipeline(user_input: str) -> List[Dict[str, List[Dict[str, str]]]]:\n",
    "    result_documents = pipeline.invoke({\"question\": user_input})\n",
    "    return result_documents\n",
    "\n",
    "# Example usage\n",
    "user_input = \"What are the biggest discussed risks for Amazon.com Inc. (AMZN)?\"\n",
    "result_documents = run_pipeline(user_input)\n",
    "\n",
    "# Output the results\n",
    "for result in result_documents:\n",
    "    print(f\"Query: {result['query']}\")\n",
    "    for doc in result['documents']:\n",
    "        print(doc)\n",
    "    print(\"---\"*30)"
   ]
  },
  {
   "cell_type": "code",
   "execution_count": 8,
   "metadata": {},
   "outputs": [],
   "source": [
    "#!/usr/bin/env python\n",
    "import os\n",
    "import json\n",
    "import re\n",
    "import pdfkit\n",
    "import logging\n",
    "from datetime import datetime\n",
    "\n",
    "try:\n",
    "    from urllib.request import urlopen\n",
    "except ImportError:\n",
    "    from urllib2 import urlopen\n",
    "\n",
    "import certifi\n",
    "\n",
    "logging.basicConfig(level=logging.INFO)\n",
    "\n",
    "def get_jsonparsed_data(url):\n",
    "    response = urlopen(url, cafile=certifi.where())\n",
    "    data = response.read().decode(\"utf-8\")\n",
    "    return json.loads(data)\n",
    "\n",
    "def is_within_quarter(date_str, year, start_month, end_month):\n",
    "    date_parts = date_str.split('-')\n",
    "    date_year = date_parts[0]\n",
    "    date_month = int(date_parts[1])\n",
    "    return date_year == year and start_month <= date_month <= end_month\n",
    "\n",
    "def which_fiscal_year(date_str, fiscal_year):\n",
    "    filing_date = datetime.strptime(date_str.split()[0], \"%Y-%m-%d\")\n",
    "    filing_month = filing_date.month\n",
    "    fiscal_year = int(fiscal_year)\n",
    "\n",
    "    if (filing_month <= 3):\n",
    "        fiscal_year += 1\n",
    "    \n",
    "    return str(fiscal_year)\n",
    "\n",
    "\n",
    "def document_downloader(pipeline_output):\n",
    "    api_key = os.getenv('FMP_API_KEY')\n",
    "    \n",
    "    if api_key is None:\n",
    "        raise ValueError(\"No API key found. Please set the FMP_API_KEY environment variable.\")\n",
    "\n",
    "    document_type_mapping = {\n",
    "        \"Form 10K\": \"10-k\",\n",
    "        \"Form 10Q\": \"10-q\"\n",
    "    }\n",
    "\n",
    "    quarter_map = {\n",
    "        \"Q1\": (1, 3),\n",
    "        \"Q2\": (4, 6),\n",
    "        \"Q3\": (7, 9),\n",
    "        \"Q4\": (10, 12)\n",
    "    }\n",
    "\n",
    "    filing_type = document_type_mapping.get(pipeline_output.get('document_type'))\n",
    "    if not filing_type:\n",
    "        raise ValueError(f\"Unsupported document type: {pipeline_output.get('document_type')}\")\n",
    "\n",
    "    ticker = pipeline_output.get('ticker')\n",
    "    if not ticker:\n",
    "        raise ValueError(\"Ticker is required.\")\n",
    "\n",
    "    year_quarter = pipeline_output.get('year')\n",
    "    year_star = pipeline_output.get('year')\n",
    "    if not year_quarter:\n",
    "        raise ValueError(\"Year/Quarter is required.\")\n",
    "\n",
    "    url = f\"https://financialmodelingprep.com/api/v3/sec_filings/{ticker}?type={filing_type}&page=0&apikey={api_key}\"\n",
    "\n",
    "    try:\n",
    "        fmp_results = get_jsonparsed_data(url)\n",
    "    except Exception as e:\n",
    "        raise RuntimeError(f\"Failed to fetch data from FMP: {e}\")\n",
    "\n",
    "    if filing_type == \"10-k\":\n",
    "        year_quarter = which_fiscal_year(fmp_results[0]['fillingDate'],year_quarter)\n",
    "        filtered_fmp_results = [i for i in fmp_results if re.search(year_quarter, i['fillingDate'])]\n",
    "        print(filtered_fmp_results)\n",
    "        year = year_star\n",
    "        output_dir = os.path.join(\"data\", \"sec-edgar-filings\", ticker, filing_type, year)\n",
    "    elif filing_type == \"10-q\":\n",
    "        year, quarter = year_quarter.split()\n",
    "        start_month, end_month = quarter_map[quarter]\n",
    "        filtered_fmp_results = [i for i in fmp_results if is_within_quarter(i['fillingDate'], year, start_month, end_month)]\n",
    "        print(filtered_fmp_results)\n",
    "        output_dir = os.path.join(\"data\", \"sec-edgar-filings\", ticker, filing_type, year, quarter)\n",
    "\n",
    "    if not filtered_fmp_results:\n",
    "        raise ValueError(\"No matching SEC filings found.\")\n",
    "\n",
    "    os.makedirs(output_dir, exist_ok=True)\n",
    "\n",
    "    path_to_wkhtmltopdf = os.getenv('WKHTMLTOPDF_PATH', r'C:\\Program Files\\wkhtmltopdf\\bin\\wkhtmltopdf.exe')\n",
    "    if not os.path.exists(path_to_wkhtmltopdf):\n",
    "        raise FileNotFoundError(f\"wkhtmltopdf not found at {path_to_wkhtmltopdf}\")\n",
    "\n",
    "    url = filtered_fmp_results[0]['finalLink']\n",
    "    pdf_path = os.path.join(output_dir, 'primary_document.pdf')\n",
    "\n",
    "    config = pdfkit.configuration(wkhtmltopdf=path_to_wkhtmltopdf)\n",
    "\n",
    "    try:\n",
    "        pdfkit.from_url(url, pdf_path, configuration=config)\n",
    "        logging.info(f\"PDF generated and saved at {pdf_path}\")\n",
    "    except Exception as e:\n",
    "        logging.error(f\"PDF generation failed: {e}\")\n",
    "        raise\n",
    "\n",
    "\n"
   ]
  },
  {
   "cell_type": "code",
   "execution_count": 9,
   "metadata": {},
   "outputs": [],
   "source": [
    "def check_document_exists(pipeline_output):\n",
    "    document_type_mapping = {\n",
    "        \"Form 10K\": \"10-k\",\n",
    "        \"Form 10Q\": \"10-q\"\n",
    "    }\n",
    "\n",
    "    quarter_map = {\n",
    "        \"Q1\": (1, 3),\n",
    "        \"Q2\": (4, 6),\n",
    "        \"Q3\": (7, 9),\n",
    "        \"Q4\": (10, 12)\n",
    "    }\n",
    "\n",
    "    filing_type = document_type_mapping.get(pipeline_output.get('document_type'))\n",
    "    if not filing_type:\n",
    "        raise ValueError(f\"Unsupported document type: {pipeline_output.get('document_type')}\")\n",
    "\n",
    "    ticker = pipeline_output.get('ticker')\n",
    "    if not ticker:\n",
    "        raise ValueError(\"Ticker is required.\")\n",
    "\n",
    "    year_quarter = pipeline_output.get('year')\n",
    "    if not year_quarter:\n",
    "        raise ValueError(\"Year/Quarter is required.\")\n",
    "    \n",
    "    if filing_type == \"10-k\":\n",
    "        output_dir = os.path.join(\"data\", \"sec-edgar-filings\", ticker, filing_type, year_quarter)\n",
    "    elif filing_type == \"10-q\":\n",
    "        year, quarter = year_quarter.split()\n",
    "        start_month, end_month = quarter_map[quarter]\n",
    "        output_dir = os.path.join(\"data\", \"sec-edgar-filings\", ticker, filing_type, year, quarter)\n",
    "\n",
    "    pdf_path = os.path.join(output_dir, 'primary_document.pdf')\n",
    "\n",
    "    if os.path.exists(pdf_path):\n",
    "        logging.info(f\"PDF already exists at {pdf_path}. Skipping download.\")\n",
    "        return True\n",
    "    \n",
    "    return False"
   ]
  },
  {
   "cell_type": "code",
   "execution_count": 10,
   "metadata": {},
   "outputs": [
    {
     "name": "stderr",
     "output_type": "stream",
     "text": [
      "INFO:root:HTML generated and saved at data/sec_filing_test.html\n"
     ]
    }
   ],
   "source": [
    "import requests\n",
    "import logging\n",
    "\n",
    "# Define the URL and file path\n",
    "url = 'https://www.sec.gov/Archives/edgar/data/1018724/000101872424000008/amzn-20231231.htm'\n",
    "html_path = 'data/sec_filing_test.html'\n",
    "\n",
    "# Define headers\n",
    "headers = {\n",
    "    'User-Agent': 'Traderware/x.tan@traderverse.io'\n",
    "}\n",
    "\n",
    "try:\n",
    "    # Send GET request to the URL with headers\n",
    "    response = requests.get(url, headers=headers)\n",
    "    response.raise_for_status()\n",
    "    \n",
    "    # Save HTML content to file\n",
    "    with open(html_path, 'w', encoding='utf-8') as f:\n",
    "        f.write(response.text)\n",
    "    \n",
    "    logging.info(f\"HTML generated and saved at {html_path}\")\n",
    "\n",
    "except requests.RequestException as e:\n",
    "    logging.error(f\"Error occurred while downloading the filing: {e}\")\n"
   ]
  },
  {
   "cell_type": "code",
   "execution_count": 11,
   "metadata": {},
   "outputs": [
    {
     "name": "stderr",
     "output_type": "stream",
     "text": [
      "C:\\Users\\goldr\\AppData\\Local\\Temp\\ipykernel_21508\\2779484452.py:19: DeprecationWarning: cafile, capath and cadefault are deprecated, use a custom context instead.\n",
      "  response = urlopen(url, cafile=certifi.where())\n"
     ]
    },
    {
     "name": "stdout",
     "output_type": "stream",
     "text": [
      "Query: 1. What are the biggest cybersecurity risks for Amazon.com Inc. (AMZN)?\n",
      "{'ticker': 'AMZN', 'document_type': 'Form 10K', 'year': '2023'}\n",
      "[{'symbol': 'AMZN', 'fillingDate': '2024-02-02 00:00:00', 'acceptedDate': '2024-02-01 18:48:30', 'cik': '0001018724', 'type': '10-K', 'link': 'https://www.sec.gov/Archives/edgar/data/1018724/000101872424000008/0001018724-24-000008-index.htm', 'finalLink': 'https://www.sec.gov/Archives/edgar/data/1018724/000101872424000008/amzn-20231231.htm'}]\n"
     ]
    },
    {
     "name": "stderr",
     "output_type": "stream",
     "text": [
      "INFO:root:PDF generated and saved at data\\sec-edgar-filings\\AMZN\\10-k\\2023\\primary_document.pdf\n"
     ]
    },
    {
     "name": "stdout",
     "output_type": "stream",
     "text": [
      "{'ticker': 'AMZN', 'document_type': 'Form 10Q', 'year': '2023 Q3'}\n",
      "[{'symbol': 'AMZN', 'fillingDate': '2023-08-04 00:00:00', 'acceptedDate': '2023-08-03 18:24:35', 'cik': '0001018724', 'type': '10-Q', 'link': 'https://www.sec.gov/Archives/edgar/data/1018724/000101872423000012/0001018724-23-000012-index.htm', 'finalLink': 'https://www.sec.gov/Archives/edgar/data/1018724/000101872423000012/amzn-20230630.htm'}]\n"
     ]
    },
    {
     "name": "stderr",
     "output_type": "stream",
     "text": [
      "INFO:root:PDF generated and saved at data\\sec-edgar-filings\\AMZN\\10-q\\2023\\Q3\\primary_document.pdf\n",
      "INFO:root:PDF already exists at data\\sec-edgar-filings\\AMZN\\10-k\\2023\\primary_document.pdf. Skipping download.\n",
      "INFO:root:PDF already exists at data\\sec-edgar-filings\\AMZN\\10-q\\2023\\Q3\\primary_document.pdf. Skipping download.\n",
      "INFO:root:PDF already exists at data\\sec-edgar-filings\\AMZN\\10-k\\2023\\primary_document.pdf. Skipping download.\n",
      "INFO:root:PDF already exists at data\\sec-edgar-filings\\AMZN\\10-q\\2023\\Q3\\primary_document.pdf. Skipping download.\n",
      "INFO:root:PDF already exists at data\\sec-edgar-filings\\AMZN\\10-k\\2023\\primary_document.pdf. Skipping download.\n",
      "INFO:root:PDF already exists at data\\sec-edgar-filings\\AMZN\\10-q\\2023\\Q3\\primary_document.pdf. Skipping download.\n"
     ]
    },
    {
     "name": "stdout",
     "output_type": "stream",
     "text": [
      "------------------------------------------------------------------------------------------\n",
      "Query: 2. What are the biggest regulatory risks for Amazon.com Inc. (AMZN)?\n",
      "{'ticker': 'AMZN', 'document_type': 'Form 10K', 'year': '2023'}\n",
      "{'ticker': 'AMZN', 'document_type': 'Form 10Q', 'year': '2023 Q3'}\n",
      "------------------------------------------------------------------------------------------\n",
      "Query: 3. What are the biggest competition risks for Amazon.com Inc. (AMZN)?\n",
      "{'ticker': 'AMZN', 'document_type': 'Form 10K', 'year': '2023'}\n",
      "{'ticker': 'AMZN', 'document_type': 'Form 10Q', 'year': '2023 Q3'}\n",
      "------------------------------------------------------------------------------------------\n",
      "Query: 4. What are the biggest supply chain risks for Amazon.com Inc. (AMZN)?\n",
      "{'ticker': 'AMZN', 'document_type': 'Form 10K', 'year': '2023'}\n",
      "{'ticker': 'AMZN', 'document_type': 'Form 10Q', 'year': '2023 Q3'}\n",
      "------------------------------------------------------------------------------------------\n"
     ]
    }
   ],
   "source": [
    "for result in result_documents:\n",
    "    print(f\"Query: {result['query']}\")\n",
    "    for doc in result['documents']:\n",
    "        print(doc)\n",
    "        if not check_document_exists(doc):\n",
    "            document_downloader(doc)\n",
    "    print(\"---\"*30)"
   ]
  },
  {
   "cell_type": "code",
   "execution_count": 12,
   "metadata": {},
   "outputs": [
    {
     "name": "stderr",
     "output_type": "stream",
     "text": [
      "INFO:httpx:HTTP Request: POST https://api.openai.com/v1/chat/completions \"HTTP/1.1 200 OK\"\n",
      "INFO:httpx:HTTP Request: POST https://api.openai.com/v1/chat/completions \"HTTP/1.1 200 OK\"\n",
      "INFO:httpx:HTTP Request: POST https://api.openai.com/v1/chat/completions \"HTTP/1.1 200 OK\"\n",
      "INFO:httpx:HTTP Request: POST https://api.openai.com/v1/chat/completions \"HTTP/1.1 200 OK\"\n",
      "INFO:httpx:HTTP Request: POST https://api.openai.com/v1/chat/completions \"HTTP/1.1 200 OK\"\n",
      "C:\\Users\\goldr\\AppData\\Local\\Temp\\ipykernel_21508\\2779484452.py:19: DeprecationWarning: cafile, capath and cadefault are deprecated, use a custom context instead.\n",
      "  response = urlopen(url, cafile=certifi.where())\n"
     ]
    },
    {
     "name": "stdout",
     "output_type": "stream",
     "text": [
      "Query: 1. \"NVDA strengths and weaknesses 2022\"\n",
      "{'ticker': 'NVDA', 'document_type': 'Form 10K', 'year': '2022'}\n",
      "[{'symbol': 'NVDA', 'fillingDate': '2023-02-24 00:00:00', 'acceptedDate': '2023-02-24 17:23:43', 'cik': '0001045810', 'type': '10-K', 'link': 'https://www.sec.gov/Archives/edgar/data/1045810/000104581023000017/0001045810-23-000017-index.htm', 'finalLink': 'https://www.sec.gov/Archives/edgar/data/1045810/000104581023000017/nvda-20230129.htm'}]\n"
     ]
    },
    {
     "name": "stderr",
     "output_type": "stream",
     "text": [
      "INFO:root:PDF generated and saved at data\\sec-edgar-filings\\NVDA\\10-k\\2022\\primary_document.pdf\n"
     ]
    },
    {
     "name": "stdout",
     "output_type": "stream",
     "text": [
      "{'ticker': 'NVDA', 'document_type': 'Form 10Q', 'year': '2022 Q3'}\n",
      "[{'symbol': 'NVDA', 'fillingDate': '2022-08-31 00:00:00', 'acceptedDate': '2022-08-31 17:01:35', 'cik': '0001045810', 'type': '10-Q', 'link': 'https://www.sec.gov/Archives/edgar/data/1045810/000104581022000147/0001045810-22-000147-index.htm', 'finalLink': 'https://www.sec.gov/Archives/edgar/data/1045810/000104581022000147/nvda-20220731.htm'}]\n"
     ]
    },
    {
     "name": "stderr",
     "output_type": "stream",
     "text": [
      "INFO:root:PDF generated and saved at data\\sec-edgar-filings\\NVDA\\10-q\\2022\\Q3\\primary_document.pdf\n"
     ]
    },
    {
     "name": "stdout",
     "output_type": "stream",
     "text": [
      "------------------------------------------------------------------------------------------\n",
      "Query: 2. \"NVDA strengths and weaknesses 2023\"\n",
      "{'ticker': 'NVDA', 'document_type': 'Form 10K', 'year': '2023'}\n",
      "[{'symbol': 'NVDA', 'fillingDate': '2024-02-21 00:00:00', 'acceptedDate': '2024-02-21 16:36:57', 'cik': '0001045810', 'type': '10-K', 'link': 'https://www.sec.gov/Archives/edgar/data/1045810/000104581024000029/0001045810-24-000029-index.htm', 'finalLink': 'https://www.sec.gov/Archives/edgar/data/1045810/000104581024000029/nvda-20240128.htm'}]\n"
     ]
    },
    {
     "name": "stderr",
     "output_type": "stream",
     "text": [
      "INFO:root:PDF generated and saved at data\\sec-edgar-filings\\NVDA\\10-k\\2023\\primary_document.pdf\n"
     ]
    },
    {
     "name": "stdout",
     "output_type": "stream",
     "text": [
      "{'ticker': 'NVDA', 'document_type': 'Form 10Q', 'year': '2023 Q3'}\n",
      "[{'symbol': 'NVDA', 'fillingDate': '2023-08-28 00:00:00', 'acceptedDate': '2023-08-25 19:36:34', 'cik': '0001045810', 'type': '10-Q', 'link': 'https://www.sec.gov/Archives/edgar/data/1045810/000104581023000175/0001045810-23-000175-index.htm', 'finalLink': 'https://www.sec.gov/Archives/edgar/data/1045810/000104581023000175/nvda-20230730.htm'}]\n"
     ]
    },
    {
     "name": "stderr",
     "output_type": "stream",
     "text": [
      "INFO:root:PDF generated and saved at data\\sec-edgar-filings\\NVDA\\10-q\\2023\\Q3\\primary_document.pdf\n"
     ]
    },
    {
     "name": "stdout",
     "output_type": "stream",
     "text": [
      "------------------------------------------------------------------------------------------\n",
      "Query: 3. \"AMD strengths and weaknesses 2022\"\n",
      "{'ticker': 'AMD', 'document_type': 'Form 10K', 'year': '2022'}\n",
      "[{'symbol': 'AMD', 'fillingDate': '2023-02-27 00:00:00', 'acceptedDate': '2023-02-27 16:20:39', 'cik': '0000002488', 'type': '10-K', 'link': 'https://www.sec.gov/Archives/edgar/data/2488/000000248823000047/0000002488-23-000047-index.htm', 'finalLink': 'https://www.sec.gov/Archives/edgar/data/2488/000000248823000047/amd-20221231.htm'}]\n"
     ]
    },
    {
     "name": "stderr",
     "output_type": "stream",
     "text": [
      "INFO:root:PDF generated and saved at data\\sec-edgar-filings\\AMD\\10-k\\2022\\primary_document.pdf\n"
     ]
    },
    {
     "name": "stdout",
     "output_type": "stream",
     "text": [
      "------------------------------------------------------------------------------------------\n",
      "Query: 4. \"AMD strengths and weaknesses 2023\"\n",
      "{'ticker': 'AMD', 'document_type': 'Form 10K', 'year': '2023'}\n",
      "[{'symbol': 'AMD', 'fillingDate': '2024-01-31 00:00:00', 'acceptedDate': '2024-01-31 17:16:39', 'cik': '0000002488', 'type': '10-K', 'link': 'https://www.sec.gov/Archives/edgar/data/2488/000000248824000012/0000002488-24-000012-index.htm', 'finalLink': 'https://www.sec.gov/Archives/edgar/data/2488/000000248824000012/amd-20231230.htm'}]\n"
     ]
    },
    {
     "name": "stderr",
     "output_type": "stream",
     "text": [
      "INFO:root:PDF generated and saved at data\\sec-edgar-filings\\AMD\\10-k\\2023\\primary_document.pdf\n"
     ]
    },
    {
     "name": "stdout",
     "output_type": "stream",
     "text": [
      "{'ticker': 'AMD', 'document_type': 'Form 10Q', 'year': '2023 Q3'}\n",
      "[{'symbol': 'AMD', 'fillingDate': '2023-08-02 00:00:00', 'acceptedDate': '2023-08-02 17:12:01', 'cik': '0000002488', 'type': '10-Q', 'link': 'https://www.sec.gov/Archives/edgar/data/2488/000000248823000139/0000002488-23-000139-index.htm', 'finalLink': 'https://www.sec.gov/Archives/edgar/data/2488/000000248823000139/amd-20230701.htm'}]\n"
     ]
    },
    {
     "name": "stderr",
     "output_type": "stream",
     "text": [
      "INFO:root:PDF generated and saved at data\\sec-edgar-filings\\AMD\\10-q\\2023\\Q3\\primary_document.pdf\n"
     ]
    },
    {
     "name": "stdout",
     "output_type": "stream",
     "text": [
      "------------------------------------------------------------------------------------------\n"
     ]
    }
   ],
   "source": [
    "# Example usage\n",
    "user_input = \"What are the strengths and weakness of NVDA and AMD for the years 2022 and 2023?\"\n",
    "result_documents = run_pipeline(user_input)\n",
    "\n",
    "for result in result_documents:\n",
    "    print(f\"Query: {result['query']}\")\n",
    "    for doc in result['documents']:\n",
    "        print(doc)\n",
    "        if not check_document_exists(doc):\n",
    "            document_downloader(doc)\n",
    "    print(\"---\"*30)"
   ]
  },
  {
   "cell_type": "code",
   "execution_count": 15,
   "metadata": {},
   "outputs": [
    {
     "name": "stderr",
     "output_type": "stream",
     "text": [
      "C:\\Users\\goldr\\AppData\\Local\\Temp\\ipykernel_21508\\2779484452.py:19: DeprecationWarning: cafile, capath and cadefault are deprecated, use a custom context instead.\n",
      "  response = urlopen(url, cafile=certifi.where())\n"
     ]
    },
    {
     "name": "stdout",
     "output_type": "stream",
     "text": [
      "[{'symbol': 'NVDA', 'fillingDate': '2006-05-31 00:00:00', 'acceptedDate': '2006-05-31 17:01:49', 'cik': '0001045810', 'type': '10-Q', 'link': 'https://www.sec.gov/Archives/edgar/data/1045810/000104581006000023/0001045810-06-000023-index.htm', 'finalLink': 'https://www.sec.gov/Archives/edgar/data/1045810/000104581006000023/q107form10q.htm'}]\n"
     ]
    },
    {
     "name": "stderr",
     "output_type": "stream",
     "text": [
      "INFO:root:PDF generated and saved at data\\sec-edgar-filings\\NVDA\\10-q\\2006\\Q2\\primary_document.pdf\n"
     ]
    }
   ],
   "source": [
    "document_downloader({'ticker': 'NVDA', 'document_type': 'Form 10Q', 'year': '2006 Q2'})"
   ]
  },
  {
   "cell_type": "code",
   "execution_count": null,
   "metadata": {},
   "outputs": [],
   "source": []
  }
 ],
 "metadata": {
  "kernelspec": {
   "display_name": "myenv",
   "language": "python",
   "name": "python3"
  },
  "language_info": {
   "codemirror_mode": {
    "name": "ipython",
    "version": 3
   },
   "file_extension": ".py",
   "mimetype": "text/x-python",
   "name": "python",
   "nbconvert_exporter": "python",
   "pygments_lexer": "ipython3",
   "version": "3.10.14"
  }
 },
 "nbformat": 4,
 "nbformat_minor": 2
}
