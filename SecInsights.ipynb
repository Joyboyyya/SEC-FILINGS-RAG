{
 "cells": [
  {
   "cell_type": "code",
   "execution_count": 1,
   "metadata": {},
   "outputs": [
    {
     "data": {
      "text/plain": [
       "True"
      ]
     },
     "execution_count": 1,
     "metadata": {},
     "output_type": "execute_result"
    }
   ],
   "source": [
    "import os\n",
    "import requests\n",
    "from pydantic import BaseModel, ValidationError\n",
    "from typing import Annotated, Literal, Optional\n",
    "from datetime import datetime\n",
    "from autogen import ConversableAgent, register_function\n",
    "from dotenv import load_dotenv\n",
    "from transformers import AutoTokenizer, AutoModel\n",
    "import torch\n",
    "from sklearn.metrics.pairwise import cosine_similarity\n",
    "from langchain_community.embeddings import HuggingFaceEmbeddings\n",
    "\n",
    "load_dotenv()"
   ]
  },
  {
   "cell_type": "code",
   "execution_count": 2,
   "metadata": {},
   "outputs": [],
   "source": [
    "from langchain_openai import ChatOpenAI\n",
    "from langchain_core.prompts import ChatPromptTemplate\n",
    "from langchain.output_parsers import PydanticOutputParser\n",
    "from langchain.chains import LLMChain\n",
    "import numpy as np\n",
    "import pandas as pd\n",
    "from io import StringIO\n",
    "import spacy\n",
    "from bs4 import BeautifulSoup\n",
    "import time\n",
    "import json"
   ]
  },
  {
   "cell_type": "code",
   "execution_count": 3,
   "metadata": {},
   "outputs": [],
   "source": [
    "FMP_API_KEY = os.getenv(\"FMP_API_KEY\")\n",
    "OPENAI_API_KEY = os.getenv(\"OPENAI_API_KEY\")"
   ]
  },
  {
   "cell_type": "code",
   "execution_count": 4,
   "metadata": {},
   "outputs": [],
   "source": [
    "class SecInsightsInput(BaseModel):\n",
    "    ticker: Annotated[str, \"The stock ticker symbol (e.g., AAPL, MSFT).\"]\n",
    "    document_type: Annotated[str, \"The document type can either be 'Form 10K' or 'Form 10Q'.\"]\n",
    "    year: Annotated[str, \"The year if 'Form 10K' is chosen (e.g., 2023,2001) or else it is the specific quarter of the year if 'Form 10Q' is chosen (e.g., 2015 Q2, 2020 Q3).\"]\n"
   ]
  },
  {
   "cell_type": "code",
   "execution_count": 5,
   "metadata": {},
   "outputs": [],
   "source": [
    "# system_message = \"\"\"Your task is to identify and fill the following entities from the user's prompt:\n",
    "\n",
    "# 1. **ticker**: The abbreviation of the company's name.\n",
    "# 2. **document_type**: 'Form 10K' (for annual financial details),'Form 10Q' (for quarterly financial details) etc.\n",
    "# 3. **year**: \n",
    "#    - If 'Form 10K' is chosen, the year should be in the format 'YYYY' (e.g., 2021, 2019).\n",
    "#    - If 'Form 10Q' is chosen, the year should be in the format 'YYYY QX' (e.g., 2023 Q3, 2022 Q2).\n",
    "\n",
    "# User prompts may be explicit or implicit and may not specify all required entities. Use context to infer missing details.\n",
    "\n",
    "# If a user prompt is complex, you may break it into simpler, atomic prompts and provide separate outputs for each.\n",
    "\n",
    "# ### Examples:\n",
    "# 1. **Prompt**: \"Please provide the report on recent developments at Apple.\"\n",
    "#    **Output**: \n",
    "#    - ('ticker': 'AAPL', 'document_type': 'Form 10K', 'year': '2023')\n",
    "#    - ('ticker': 'AAPL', 'document_type': 'Form 10Q', 'year': '2023 Q3')\n",
    "\n",
    "# 2. **Prompt**: \"Please provide the report on third quarter for Apple for the years 2021 and 2022.\"\n",
    "#    **Output**: \n",
    "#    - ('ticker': 'AAPL', 'document_type': 'Form 10Q', 'year': '2021 Q3')\n",
    "#    - ('ticker': 'AAPL', 'document_type': 'Form 10Q', 'year': '2022 Q3')\n",
    "\n",
    "# Return 'TERMINATE' when the task is completed.\n",
    "\n",
    "# \"\"\""
   ]
  },
  {
   "cell_type": "code",
   "execution_count": 6,
   "metadata": {},
   "outputs": [],
   "source": [
    "system_message = \"\"\"\n",
    "                Your task is to identify and fill the following entities from the user's prompt:\n",
    "\n",
    "                1. **ticker**: The abbreviation of the company's name.\n",
    "                2. **document_type**: 'Form 10K' (for annual financial details), 'Form 10Q' (for quarterly financial details), etc.\n",
    "                3. **year**: \n",
    "                   - If 'Form 10K' is chosen, the year should be in the format 'YYYY' (e.g., 2021, 2019).\n",
    "                   - If 'Form 10Q' is chosen, the year should be in the format 'YYYY QX' (e.g., 2023 Q3, 2022 Q2).\n",
    "\n",
    "                User prompts may be explicit or implicit and may not specify all required entities. Use context to infer missing details.\n",
    "\n",
    "                If a user prompt is complex, you may break it into simpler, atomic prompts and provide separate outputs for each.\n",
    "             \n",
    "                Make a note that there is no fourth quarter Q4, companies file for Form 10k instead of filing Form 10Q. So you can only choose Q1, Q2 or Q3.\n",
    "\n",
    "                ### Guidelines for Handling Qualitative Financial Questions:\n",
    "\n",
    "                1. **Map to Relevant Documents**: Use the most relevant financial documents (annual or quarterly reports) that are likely to contain information on market trends, growth prospects, or other qualitative aspects.\n",
    "\n",
    "                2. **Use Representative Entities**: When the user question is about a sector or general trends, use representative entities such as sector ETFs (e.g., XLK for technology) to provide the context.\n",
    "\n",
    "                3. **Infer Contextual Details**: Use the context provided in the user's question to infer missing details and make reasonable assumptions about the tickers, document types and years.\n",
    "\n",
    "                4. **Use top companies tickers**: If you are stuck which company's ticker to choose then use one or more top performing company's ticker in the respective field.\n",
    "             \n",
    "                5. **Use recent years**: If you are stuck with which year to choose then choose the latest year or years or latest quarter based on the context of the user prompt.\n",
    "\n",
    "                ### Examples:\n",
    "                1. **Prompt**: \"Please provide the report on recent developments at Apple.\"\n",
    "                   **Output**: \n",
    "                    ```json\n",
    "                    [\n",
    "                     {'ticker': 'AAPL', 'document_type': 'Form 10K', 'year': '2023'},\n",
    "                     {'ticker': 'AAPL', 'document_type': 'Form 10Q', 'year': '2023 Q3'}\n",
    "                    ]\n",
    "                    ```\n",
    "\n",
    "                2. **Prompt**: \"Please provide the report on third quarter for Apple for the years 2021 and 2022.\"\n",
    "                   **Output**: \n",
    "                    ```json\n",
    "                    [\n",
    "                     {'ticker': 'AAPL', 'document_type': 'Form 10Q', 'year': '2021 Q3'},\n",
    "                     {'ticker': 'AAPL', 'document_type': 'Form 10Q', 'year': '2022 Q3'}\n",
    "                    ]\n",
    "                    ```\n",
    "\n",
    "                3. **Prompt**: \"What are the prevailing market trends in the technology sector?\"\n",
    "                   **Output**: \n",
    "                    ```json\n",
    "                    [\n",
    "                     {'ticker': 'XLK', 'document_type': 'Form 10K', 'year': '2023'},  \n",
    "                     {'ticker': 'XLK', 'document_type': 'Form 10Q', 'year': '2023 Q3'} \n",
    "                    ]\n",
    "                    ```\n",
    "\n",
    "                4. **Prompt**: \"What are the growth prospects of Tesla in the next five years?\"\n",
    "                   **Output**: \n",
    "                    ```json\n",
    "                    [\n",
    "                     {'ticker': 'TSLA', 'document_type': 'Form 10K', 'year': '2023'},  \n",
    "                     {'ticker': 'TSLA', 'document_type': 'Form 10Q', 'year': '2023 Q3'}  \n",
    "                    ]\n",
    "                    ```\n",
    "\n",
    "                Return 'TERMINATE' when the task is completed.\n",
    "                \"\"\""
   ]
  },
  {
   "cell_type": "code",
   "execution_count": 7,
   "metadata": {},
   "outputs": [],
   "source": [
    "# Define the assistant agent\n",
    "assistant = ConversableAgent(\n",
    "    name=\"Assistant\",\n",
    "    system_message=system_message,\n",
    "    is_termination_msg=lambda msg: msg.get(\"content\") is not None and \"TERMINATE\" in msg[\"content\"],\n",
    "    max_consecutive_auto_reply=5,\n",
    "    llm_config={\"config_list\": [{\"model\": \"gpt-3.5-turbo-1106\", \"api_key\": OPENAI_API_KEY}]},\n",
    "    # human_input_mode=\"NEVER\",\n",
    ")\n",
    "\n",
    "# Define the user proxy agent\n",
    "user_proxy = ConversableAgent(\n",
    "    name=\"User\",\n",
    "    llm_config=False,\n",
    "    is_termination_msg=lambda msg: msg.get(\"content\") is not None and \"TERMINATE\" in msg[\"content\"],\n",
    "    human_input_mode=\"NEVER\",\n",
    ")\n"
   ]
  },
  {
   "cell_type": "code",
   "execution_count": 8,
   "metadata": {},
   "outputs": [
    {
     "name": "stdout",
     "output_type": "stream",
     "text": [
      "\u001b[33mUser\u001b[0m (to Assistant):\n",
      "\n",
      "What impact do blockchain and cryptocurrencies have on traditional financial markets?\n",
      "\n",
      "--------------------------------------------------------------------------------\n",
      "\u001b[31m\n",
      ">>>>>>>> USING AUTO REPLY...\u001b[0m\n",
      "\u001b[33mAssistant\u001b[0m (to User):\n",
      "\n",
      "To address the impact of blockchain and cryptocurrencies on traditional financial markets, we can use representative entities such as sector ETFs and recent years to provide relevant qualitative information. Here's the output based on this approach:\n",
      "\n",
      "```json\n",
      "[\n",
      " {'ticker': 'XLF', 'document_type': 'Form 10K', 'year': '2023'},  \n",
      " {'ticker': 'XLF', 'document_type': 'Form 10Q', 'year': '2023 Q3'}  \n",
      "]\n",
      "```\n",
      "\n",
      "--------------------------------------------------------------------------------\n",
      "\u001b[33mUser\u001b[0m (to Assistant):\n",
      "\n",
      "\n",
      "\n",
      "--------------------------------------------------------------------------------\n",
      "\u001b[31m\n",
      ">>>>>>>> USING AUTO REPLY...\u001b[0m\n",
      "\u001b[33mAssistant\u001b[0m (to User):\n",
      "\n",
      "```json\n",
      "'TERMINATE'\n",
      "```\n",
      "\n",
      "--------------------------------------------------------------------------------\n"
     ]
    }
   ],
   "source": [
    "chat_result = user_proxy.initiate_chat(\n",
    "    assistant,\n",
    "    message=\"What impact do blockchain and cryptocurrencies have on traditional financial markets?\"\n",
    ")"
   ]
  },
  {
   "cell_type": "code",
   "execution_count": null,
   "metadata": {},
   "outputs": [],
   "source": []
  },
  {
   "cell_type": "code",
   "execution_count": 9,
   "metadata": {},
   "outputs": [
    {
     "name": "stdout",
     "output_type": "stream",
     "text": [
      "\u001b[33mUser\u001b[0m (to Assistant):\n",
      "\n",
      "Please provide the report on first quarter for Apple for the year 2003\n",
      "\n",
      "--------------------------------------------------------------------------------\n",
      "\u001b[31m\n",
      ">>>>>>>> USING AUTO REPLY...\u001b[0m\n",
      "\u001b[33mAssistant\u001b[0m (to User):\n",
      "\n",
      "```json\n",
      "{'ticker': 'AAPL', 'document_type': 'Form 10Q', 'year': '2003 Q1'}\n",
      "```\n",
      "\n",
      "--------------------------------------------------------------------------------\n",
      "\u001b[33mUser\u001b[0m (to Assistant):\n",
      "\n",
      "\n",
      "\n",
      "--------------------------------------------------------------------------------\n",
      "\u001b[31m\n",
      ">>>>>>>> USING AUTO REPLY...\u001b[0m\n",
      "\u001b[33mAssistant\u001b[0m (to User):\n",
      "\n",
      "TERMINATE\n",
      "\n",
      "--------------------------------------------------------------------------------\n"
     ]
    }
   ],
   "source": [
    "chat_result = user_proxy.initiate_chat(\n",
    "    assistant,\n",
    "    message=\"Please provide the report on first quarter for Apple for the year 2003\"\n",
    ")"
   ]
  },
  {
   "cell_type": "code",
   "execution_count": 10,
   "metadata": {},
   "outputs": [
    {
     "name": "stdout",
     "output_type": "stream",
     "text": [
      "\u001b[33mUser\u001b[0m (to Assistant):\n",
      "\n",
      "Please provide the report on performance of Apple and Microsoft for the years 2020 t0 2022\n",
      "\n",
      "--------------------------------------------------------------------------------\n",
      "\u001b[31m\n",
      ">>>>>>>> USING AUTO REPLY...\u001b[0m\n",
      "\u001b[33mAssistant\u001b[0m (to User):\n",
      "\n",
      "```json\n",
      "[\n",
      "  {'ticker': 'AAPL', 'document_type': 'Form 10K', 'year': '2020'},\n",
      "  {'ticker': 'AAPL', 'document_type': 'Form 10K', 'year': '2021'},\n",
      "  {'ticker': 'AAPL', 'document_type': 'Form 10K', 'year': '2022'},\n",
      "  {'ticker': 'MSFT', 'document_type': 'Form 10K', 'year': '2020'},\n",
      "  {'ticker': 'MSFT', 'document_type': 'Form 10K', 'year': '2021'},\n",
      "  {'ticker': 'MSFT', 'document_type': 'Form 10K', 'year': '2022'}\n",
      "]\n",
      "```\n",
      "\n",
      "--------------------------------------------------------------------------------\n",
      "\u001b[33mUser\u001b[0m (to Assistant):\n",
      "\n",
      "\n",
      "\n",
      "--------------------------------------------------------------------------------\n",
      "\u001b[31m\n",
      ">>>>>>>> USING AUTO REPLY...\u001b[0m\n",
      "\u001b[33mAssistant\u001b[0m (to User):\n",
      "\n",
      "TERMINATE\n",
      "\n",
      "--------------------------------------------------------------------------------\n"
     ]
    }
   ],
   "source": [
    "chat_result = user_proxy.initiate_chat(\n",
    "    assistant,\n",
    "    message=\"Please provide the report on performance of Apple and Microsoft for the years 2020 t0 2022\"\n",
    ")"
   ]
  },
  {
   "cell_type": "code",
   "execution_count": null,
   "metadata": {},
   "outputs": [],
   "source": []
  }
 ],
 "metadata": {
  "kernelspec": {
   "display_name": "myenv",
   "language": "python",
   "name": "python3"
  },
  "language_info": {
   "codemirror_mode": {
    "name": "ipython",
    "version": 3
   },
   "file_extension": ".py",
   "mimetype": "text/x-python",
   "name": "python",
   "nbconvert_exporter": "python",
   "pygments_lexer": "ipython3",
   "version": "3.10.14"
  }
 },
 "nbformat": 4,
 "nbformat_minor": 2
}
