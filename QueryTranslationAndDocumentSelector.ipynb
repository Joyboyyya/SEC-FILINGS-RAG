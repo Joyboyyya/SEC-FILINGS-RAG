{
 "cells": [
  {
   "cell_type": "code",
   "execution_count": 2,
   "metadata": {},
   "outputs": [
    {
     "data": {
      "text/plain": [
       "True"
      ]
     },
     "execution_count": 2,
     "metadata": {},
     "output_type": "execute_result"
    }
   ],
   "source": [
    "import os\n",
    "import requests\n",
    "from pydantic import BaseModel, ValidationError\n",
    "from typing import Annotated, Literal, Optional\n",
    "from datetime import datetime\n",
    "from autogen import ConversableAgent, register_function\n",
    "from dotenv import load_dotenv\n",
    "from transformers import AutoTokenizer, AutoModel\n",
    "import torch\n",
    "from sklearn.metrics.pairwise import cosine_similarity\n",
    "from langchain_community.embeddings import HuggingFaceEmbeddings\n",
    "\n",
    "load_dotenv()"
   ]
  },
  {
   "cell_type": "code",
   "execution_count": 3,
   "metadata": {},
   "outputs": [],
   "source": [
    "from langchain_openai import ChatOpenAI\n",
    "from langchain_core.prompts import ChatPromptTemplate\n",
    "from langchain.output_parsers import PydanticOutputParser\n",
    "from langchain.chains import LLMChain\n",
    "import numpy as np\n",
    "import pandas as pd\n",
    "from io import StringIO\n",
    "import spacy\n",
    "from bs4 import BeautifulSoup\n",
    "import time\n",
    "import json\n",
    "import re\n",
    "from typing import List, Dict, Annotated"
   ]
  },
  {
   "cell_type": "code",
   "execution_count": 4,
   "metadata": {},
   "outputs": [
    {
     "data": {
      "text/plain": [
       "'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'"
      ]
     },
     "execution_count": 4,
     "metadata": {},
     "output_type": "execute_result"
    }
   ],
   "source": [
    "FMP_API_KEY = os.getenv(\"FMP_API_KEY\")\n",
    "OPENAI_API_KEY = os.getenv(\"OPENAI_API_KEY\")\n",
    "os.getenv('LANGCHAIN_TRACING_V2')\n",
    "os.getenv('LANGCHAIN_ENDPOINT')\n",
    "os.getenv('LANGCHAIN_API_KEY')"
   ]
  },
  {
   "cell_type": "code",
   "execution_count": 5,
   "metadata": {},
   "outputs": [],
   "source": [
    "os.environ['LANGCHAIN_TRACING_V2'] = 'true'\n",
    "os.environ['LANGCHAIN_ENDPOINT'] = 'https://api.smith.langchain.com'\n",
    "os.environ['LANGCHAIN_API_KEY'] = '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'"
   ]
  },
  {
   "cell_type": "code",
   "execution_count": 6,
   "metadata": {},
   "outputs": [],
   "source": [
    "def sec_insights_documents_selector(input: Annotated[str, \"Qualitative data input prompt\"]) -> List[Dict[str, str]]:\n",
    "\n",
    "    llm = ChatOpenAI(\n",
    "        model=\"gpt-4\",\n",
    "        temperature=0.3\n",
    "    )\n",
    "    \n",
    "    prompt = ChatPromptTemplate.from_messages(\n",
    "        [\n",
    "            (\"system\", '''\n",
    "                Your task is to identify and fill the following entities from the user's prompt:\n",
    "\n",
    "                1. **ticker**: The abbreviation of the company's name.\n",
    "                2. **document_type**: 'Form 10K' (for annual financial details), 'Form 10Q' (for quarterly financial details), etc.\n",
    "                3. **year**: \n",
    "                   - If 'Form 10K' is chosen, the year should be in the format 'YYYY' (e.g., 2021, 2019).\n",
    "                   - If 'Form 10Q' is chosen, the year should be in the format 'YYYY QX' (e.g., 2023 Q3, 2022 Q2).\n",
    "\n",
    "                User prompts may be explicit or implicit and may not specify all required entities. Use context to infer missing details.\n",
    "\n",
    "                If a user prompt is complex, you may break it into simpler, atomic prompts and provide separate outputs for each.\n",
    "             \n",
    "                Make a note that there is no fourth quarter Q4, companies file for Form 10K instead of filing Form 10Q. So you can only choose Q1, Q2 or Q3.\n",
    "\n",
    "                ### Guidelines for Handling Qualitative Financial Questions:\n",
    "\n",
    "                1. **Map to Relevant Documents**: Use the most relevant financial documents (annual or quarterly reports) that are likely to contain information on market trends, growth prospects, or other qualitative aspects.\n",
    "\n",
    "                2. **Use Representative Entities**: When the user question is about a sector or general trends, use representative entities such as sector ETFs (e.g., XLK for technology) to provide the context.\n",
    "\n",
    "                3. **Infer Contextual Details**: Use the context provided in the user's question to infer missing details and make reasonable assumptions about the tickers, document types and years.\n",
    "\n",
    "                4. **Use top companies tickers**: If you are stuck which company's ticker to choose then use one or more top performing company's ticker in the respective field.\n",
    "             \n",
    "                5. **Use recent years**: If you are stuck with which year to choose then choose the latest year or years or latest quarter based on the context of the user prompt.\n",
    "\n",
    "                ### Examples:\n",
    "                1. **Prompt**: 'Please provide the report on recent developments at Apple.'\n",
    "                   **Output**: \n",
    "                     ticker: AAPL\n",
    "                     document_type: Form 10K\n",
    "                     year: 2023\n",
    "                     \n",
    "                     ticker: AAPL\n",
    "                     document_type: Form 10Q\n",
    "                     year: 2023 Q3\n",
    "\n",
    "                2. **Prompt**: 'Please provide the report on third quarter for Apple for the years 2021 and 2022.'\n",
    "                   **Output**: \n",
    "                     ticker: AAPL\n",
    "                     document_type: Form 10Q\n",
    "                     year: 2021 Q3\n",
    "                     \n",
    "                     ticker: AAPL\n",
    "                     document_type: Form 10Q\n",
    "                     year: 2022 Q3\n",
    "\n",
    "                3. **Prompt**: 'What are the prevailing market trends in the technology sector?'\n",
    "                   **Output**: \n",
    "                     ticker: XLK\n",
    "                     document_type: Form 10K\n",
    "                     year: 2023\n",
    "                     \n",
    "                     ticker: XLK\n",
    "                     document_type: Form 10Q\n",
    "                     year: 2023 Q3\n",
    "\n",
    "                4. **Prompt**: 'What are the growth prospects of Tesla in the next five years?'\n",
    "                   **Output**: \n",
    "                     ticker: TSLA\n",
    "                     document_type: Form 10K\n",
    "                     year: 2023\n",
    "                     \n",
    "                     ticker: TSLA\n",
    "                     document_type: Form 10Q\n",
    "                     year: 2023 Q3\n",
    "\n",
    "                Return 'TERMINATE' when the task is completed.\n",
    "            '''),\n",
    "            (\"user\", \"{input}\")\n",
    "        ]\n",
    "    )\n",
    "    \n",
    "    chain = prompt | llm\n",
    "    \n",
    "    output = chain.invoke({\"input\": input})\n",
    "\n",
    "    try:\n",
    "        documents = output.content.split('\\n')\n",
    "        result = []\n",
    "        current_doc = {}\n",
    "\n",
    "        for line in documents:\n",
    "            if 'ticker:' in line:\n",
    "                if current_doc:\n",
    "                    result.append(current_doc)\n",
    "                    current_doc = {}\n",
    "                current_doc['ticker'] = line.split('ticker:')[1].strip()\n",
    "            elif 'document_type:' in line:\n",
    "                current_doc['document_type'] = line.split('document_type:')[1].strip()\n",
    "            elif 'year:' in line:\n",
    "                current_doc['year'] = line.split('year:')[1].strip()\n",
    "        \n",
    "        if current_doc:  # Add the last document\n",
    "            result.append(current_doc)\n",
    "\n",
    "        return result\n",
    "\n",
    "    except Exception as e:\n",
    "        raise ValueError(f\"Failed to parse output: {output.content}. Error: {e}\")"
   ]
  },
  {
   "cell_type": "markdown",
   "metadata": {},
   "source": [
    "# MultiQuery and RagFusion"
   ]
  },
  {
   "cell_type": "code",
   "execution_count": 17,
   "metadata": {},
   "outputs": [],
   "source": [
    "from langchain.prompts import ChatPromptTemplate\n",
    "from langchain_core.output_parsers import StrOutputParser\n",
    "from langchain_openai import ChatOpenAI\n",
    "\n",
    "# Multi Query: Different Perspectives\n",
    "template = \"\"\"You are an AI language model assistant. Your task is to generate five \n",
    "different versions of the given user question to retrieve relevant documents from a vector \n",
    "database. By generating multiple perspectives on the user question, your goal is to help\n",
    "the user overcome some of the limitations of the distance-based similarity search. \n",
    "Provide these alternative questions separated by newlines. Original question: {question}\"\"\"\n",
    "prompt_perspectives = ChatPromptTemplate.from_template(template)\n",
    "\n",
    "\n",
    "\n",
    "\n",
    "generate_queries = (\n",
    "prompt_perspectives \n",
    "| ChatOpenAI(temperature=0) \n",
    "| StrOutputParser() \n",
    "| (lambda x: x.split(\"\\n\"))\n",
    ")\n",
    "\n",
    "# def generate_queries(prompt):\n",
    "#     # Step 1: Generate responses using ChatOpenAI with the given prompt\n",
    "#     response = ChatOpenAI(temperature=0)(prompt)\n",
    "    \n",
    "#     # Step 2: Parse the output to a string\n",
    "#     parsed_output = StrOutputParser()(response)\n",
    "    \n",
    "#     # Step 3: Split the output by newline characters\n",
    "#     queries = parsed_output.split(\"\\n\")\n",
    "    \n",
    "#     return queries\n",
    "\n",
    "\n"
   ]
  },
  {
   "cell_type": "code",
   "execution_count": null,
   "metadata": {},
   "outputs": [],
   "source": [
    "# # Define the pipeline using LangChain expression language\n",
    "# pipeline = generate_queries | (lambda queries: [sec_insights_documents_selector(query) for query in queries])\n",
    "\n",
    "# # Function to run the entire pipeline\n",
    "# def run_pipeline(user_input: str) -> List[Dict[str, str]]:\n",
    "#     result_documents = pipeline.invoke({\"question\": user_input})\n",
    "#     # Flatten the list of lists into a single list\n",
    "#     return [doc for sublist in result_documents for doc in sublist]\n",
    "\n",
    "# # Example usage\n",
    "# user_input = \"What are the biggest discussed risks for Amazon.com Inc. (AMZN)?\"\n",
    "# result_documents = run_pipeline(user_input)\n",
    "\n",
    "# # Output the results\n",
    "# for doc in result_documents:\n",
    "#     print(doc)"
   ]
  },
  {
   "cell_type": "code",
   "execution_count": 20,
   "metadata": {},
   "outputs": [
    {
     "name": "stdout",
     "output_type": "stream",
     "text": [
      "Query: 1. What are the most prominent risks associated with Amazon.com Inc. (AMZN) according to discussions?\n",
      "{'ticker': 'AMZN', 'document_type': 'Form 10K', 'year': '2023'}\n",
      "{'ticker': 'AMZN', 'document_type': 'Form 10Q', 'year': '2023 Q3'}\n",
      "---\n",
      "Query: 2. Can you list the major risks that have been widely debated in relation to Amazon.com Inc. (AMZN)?\n",
      "{'ticker': 'AMZN', 'document_type': 'Form 10K', 'year': '2023'}\n",
      "{'ticker': 'AMZN', 'document_type': 'Form 10Q', 'year': '2023 Q3'}\n",
      "---\n",
      "Query: 3. What are the primary concerns and risks that have garnered significant attention regarding Amazon.com Inc. (AMZN)?\n",
      "{'ticker': 'AMZN', 'document_type': 'Form 10K', 'year': '2023'}\n",
      "{'ticker': 'AMZN', 'document_type': 'Form 10Q', 'year': '2023 Q3'}\n",
      "---\n",
      "Query: 4. Which risks have been extensively discussed in the context of Amazon.com Inc. (AMZN) and are considered significant?\n",
      "{'ticker': 'AMZN', 'document_type': 'Form 10K', 'year': '2023'}\n",
      "{'ticker': 'AMZN', 'document_type': 'Form 10Q', 'year': '2023 Q3'}\n",
      "---\n",
      "Query: 5. What are the key risks that have been the focus of discussions surrounding Amazon.com Inc. (AMZN)?\n",
      "{'ticker': 'AMZN', 'document_type': 'Form 10K', 'year': '2023'}\n",
      "{'ticker': 'AMZN', 'document_type': 'Form 10Q', 'year': '2023 Q3'}\n",
      "---\n"
     ]
    }
   ],
   "source": [
    "# Define the pipeline using LangChain expression language\n",
    "pipeline = generate_queries | (lambda queries: [{\"query\": query, \"documents\": sec_insights_documents_selector(query)} for query in queries])\n",
    "\n",
    "# Function to run the entire pipeline\n",
    "def run_pipeline(user_input: str) -> List[Dict[str, List[Dict[str, str]]]]:\n",
    "    result_documents = pipeline.invoke({\"question\": user_input})\n",
    "    return result_documents\n",
    "\n",
    "# Example usage\n",
    "user_input = \"What are the biggest discussed risks for Amazon.com Inc. (AMZN)?\"\n",
    "result_documents = run_pipeline(user_input)\n",
    "\n",
    "# Output the results\n",
    "for result in result_documents:\n",
    "    print(f\"Query: {result['query']}\")\n",
    "    for doc in result['documents']:\n",
    "        print(doc)\n",
    "    print(\"---\"*30)"
   ]
  },
  {
   "cell_type": "code",
   "execution_count": 27,
   "metadata": {},
   "outputs": [
    {
     "name": "stdout",
     "output_type": "stream",
     "text": [
      "Query: 1. What are the specific details regarding the corporate governance structure of Amazon, focusing on the key executive officers and board of directors?\n",
      "{'ticker': 'AMZN', 'document_type': 'Form 10K', 'year': '2023'}\n",
      "{'ticker': 'AMZN', 'document_type': 'Form 10Q', 'year': '2023 Q3'}\n",
      "------------------------------------------------------------------------------------------\n",
      "Query: 2. Can you elaborate on the roles and responsibilities of the key executive officers and board of directors within Amazon's corporate governance framework?\n",
      "{'ticker': 'AMZN', 'document_type': 'Form 10K', 'year': '2023'}\n",
      "{'ticker': 'AMZN', 'document_type': 'Form 10Q', 'year': '2023 Q3'}\n",
      "------------------------------------------------------------------------------------------\n",
      "Query: 3. How is the corporate governance of Amazon structured, and what are the specific duties assigned to the key executive officers and board members?\n",
      "{'ticker': 'AMZN', 'document_type': 'Form 10K', 'year': '2023'}\n",
      "{'ticker': 'AMZN', 'document_type': 'Form 10Q', 'year': '2023 Q3'}\n",
      "------------------------------------------------------------------------------------------\n",
      "Query: 4. In what ways does Amazon's corporate governance framework outline the roles and responsibilities of its key executive officers and board of directors?\n",
      "{'ticker': 'AMZN', 'document_type': 'Form 10K', 'year': '2023'}\n",
      "{'ticker': 'AMZN', 'document_type': 'Form 10Q', 'year': '2023 Q3'}\n",
      "------------------------------------------------------------------------------------------\n",
      "Query: 5. Could you provide an in-depth overview of Amazon's corporate governance, highlighting the key roles and responsibilities of its executive officers and board members?\n",
      "{'ticker': 'AMZN', 'document_type': 'Form 10K', 'year': '2023'}\n",
      "{'ticker': 'AMZN', 'document_type': 'Form 10Q', 'year': '2023 Q3'}\n",
      "------------------------------------------------------------------------------------------\n"
     ]
    }
   ],
   "source": [
    "user_input = \"Provide detailed information on the corporate governance of Amazon, including the roles and responsibilities of key executive officers and the board of directors\\\n",
    "    for Amazon.com Inc. (AMZN)?\"\n",
    "result_documents = run_pipeline(user_input)\n",
    "\n",
    "# Output the results\n",
    "for result in result_documents:\n",
    "    print(f\"Query: {result['query']}\")\n",
    "    for doc in result['documents']:\n",
    "        print(doc)\n",
    "    print(\"---\"*30)"
   ]
  },
  {
   "cell_type": "code",
   "execution_count": 28,
   "metadata": {},
   "outputs": [
    {
     "name": "stdout",
     "output_type": "stream",
     "text": [
      "Query: 1. Can you provide a comprehensive breakdown of Amazon's revenue streams for the last three fiscal years, including segments like North America, International, and AWS? Additionally, could you compare the year-over-year growth for each segment?\n",
      "{'ticker': 'AMZN', 'document_type': 'Form 10K', 'year': '2020'}\n",
      "{'ticker': 'AMZN', 'document_type': 'Form 10K', 'year': '2021'}\n",
      "{'ticker': 'AMZN', 'document_type': 'Form 10K', 'year': '2022'}\n",
      "{'ticker': 'AMZN', 'document_type': 'Form 10Q', 'year': '2023 Q3'}\n",
      "------------------------------------------------------------------------------------------\n",
      "Query: 2. How has Amazon's revenue evolved across different segments like North America, International, and AWS in the past three fiscal years? Can you also analyze the year-over-year growth rates for each segment?\n",
      "{'ticker': 'AMZN', 'document_type': 'Form 10K', 'year': '2021'}\n",
      "{'ticker': 'AMZN', 'document_type': 'Form 10K', 'year': '2020'}\n",
      "{'ticker': 'AMZN', 'document_type': 'Form 10K', 'year': '2019'}\n",
      "------------------------------------------------------------------------------------------\n",
      "Query: 3. I'm interested in understanding the revenue distribution of Amazon over the last three fiscal years, specifically in segments like North America, International, and AWS. Could you also include a comparison of year-over-year growth for each segment?\n",
      "{'ticker': 'AMZN', 'document_type': 'Form 10K', 'year': '2021'}\n",
      "{'ticker': 'AMZN', 'document_type': 'Form 10K', 'year': '2022'}\n",
      "{'ticker': 'AMZN', 'document_type': 'Form 10K', 'year': '2023'}\n",
      "{'ticker': 'AMZN', 'document_type': 'Form 10Q', 'year': '2023 Q3'}\n",
      "------------------------------------------------------------------------------------------\n",
      "Query: 4. Could you delve into the details of Amazon's revenue streams over the past three fiscal years, focusing on segments such as North America, International, and AWS? Additionally, I would like to see a comparison of year-over-year growth rates for each segment.\n",
      "{'ticker': 'AMZN', 'document_type': 'Form 10K', 'year': '2021'}\n",
      "{'ticker': 'AMZN', 'document_type': 'Form 10K', 'year': '2022'}\n",
      "{'ticker': 'AMZN', 'document_type': 'Form 10K', 'year': '2023'}\n",
      "------------------------------------------------------------------------------------------\n",
      "Query: 5. How has Amazon's revenue been segmented in terms of North America, International, and AWS over the last three fiscal years? Can you provide a detailed analysis of the year-over-year growth for each segment as well?\n",
      "{'ticker': 'AMZN', 'document_type': 'Form 10K', 'year': '2021'}\n",
      "{'ticker': 'AMZN', 'document_type': 'Form 10K', 'year': '2022'}\n",
      "{'ticker': 'AMZN', 'document_type': 'Form 10K', 'year': '2023'}\n",
      "------------------------------------------------------------------------------------------\n"
     ]
    }
   ],
   "source": [
    "user_input = \"Generate a detailed analysis of Amazon's revenue streams over the past three fiscal years. Break down the revenue by segments such as North America, International, and AWS. Also, provide a year-over-year growth comparison for each segment.\"\n",
    "result_documents = run_pipeline(user_input)\n",
    "\n",
    "# Output the results\n",
    "for result in result_documents:\n",
    "    print(f\"Query: {result['query']}\")\n",
    "    for doc in result['documents']:\n",
    "        print(doc)\n",
    "    print(\"---\"*30)"
   ]
  },
  {
   "cell_type": "code",
   "execution_count": 29,
   "metadata": {},
   "outputs": [
    {
     "name": "stdout",
     "output_type": "stream",
     "text": [
      "Query: 1. Can you provide a summary of Amazon's operating expenses in the past two quarters, focusing on key categories like cost of sales, fulfillment, technology and content, marketing, general and administrative, and other operating expenses? Please highlight any notable changes or trends.\n",
      "{'ticker': 'AMZN', 'document_type': 'Form 10Q', 'year': '2023 Q2'}\n",
      "{'ticker': 'AMZN', 'document_type': 'Form 10Q', 'year': '2023 Q3'}\n",
      "------------------------------------------------------------------------------------------\n",
      "Query: 2. What are the operating expenses of Amazon for the last two quarters, specifically looking at cost of sales, fulfillment, technology and content, marketing, general and administrative, and other operating expenses? Are there any significant changes or trends worth mentioning?\n",
      "{'ticker': 'AMZN', 'document_type': 'Form 10Q', 'year': '2023 Q2'}\n",
      "{'ticker': 'AMZN', 'document_type': 'Form 10Q', 'year': '2023 Q3'}\n",
      "------------------------------------------------------------------------------------------\n",
      "Query: 3. How have Amazon's operating expenses evolved in the last two quarters, particularly in terms of cost of sales, fulfillment, technology and content, marketing, general and administrative, and other operating expenses? Could you point out any important changes or trends?\n",
      "{'ticker': 'AMZN', 'document_type': 'Form 10Q', 'year': '2023 Q2'}\n",
      "{'ticker': 'AMZN', 'document_type': 'Form 10Q', 'year': '2023 Q3'}\n",
      "------------------------------------------------------------------------------------------\n",
      "Query: 4. Could you summarize Amazon's operating expenses over the past two quarters, with a focus on key components like cost of sales, fulfillment, technology and content, marketing, general and administrative, and other operating expenses? Please highlight any significant changes or trends that have occurred.\n",
      "{'ticker': 'AMZN', 'document_type': 'Form 10Q', 'year': '2023 Q2'}\n",
      "{'ticker': 'AMZN', 'document_type': 'Form 10Q', 'year': '2023 Q3'}\n",
      "------------------------------------------------------------------------------------------\n",
      "Query: 5. What is the breakdown of Amazon's operating expenses for the last two quarters, specifically in terms of cost of sales, fulfillment, technology and content, marketing, general and administrative, and other operating expenses? Are there any notable changes or trends that stand out?\n",
      "{'ticker': 'AMZN', 'document_type': 'Form 10Q', 'year': '2023 Q2'}\n",
      "{'ticker': 'AMZN', 'document_type': 'Form 10Q', 'year': '2023 Q3'}\n",
      "------------------------------------------------------------------------------------------\n"
     ]
    }
   ],
   "source": [
    "user_input = \"Summarize the operating expenses for Amazon over the last two quarters, highlighting key components such as cost of sales, fulfillment, technology and content, marketing, general and administrative, and other operating expenses. Include any significant changes or trends.\"\n",
    "result_documents = run_pipeline(user_input)\n",
    "\n",
    "# Output the results\n",
    "for result in result_documents:\n",
    "    print(f\"Query: {result['query']}\")\n",
    "    for doc in result['documents']:\n",
    "        print(doc)\n",
    "    print(\"---\"*30)"
   ]
  },
  {
   "cell_type": "code",
   "execution_count": 30,
   "metadata": {},
   "outputs": [
    {
     "name": "stdout",
     "output_type": "stream",
     "text": [
      "Query: 1. Can you summarize Amazon's cash flow statements for the latest fiscal year and quarter, specifically looking at operating, investing, and financing activities?\n",
      "{'ticker': 'AMZN', 'document_type': 'Form 10K', 'year': '2023'}\n",
      "{'ticker': 'AMZN', 'document_type': 'Form 10Q', 'year': '2023 Q3'}\n",
      "------------------------------------------------------------------------------------------\n",
      "Query: 2. What are the key highlights of Amazon's cash flow statements in the recent fiscal year and quarter, particularly in terms of operating, investing, and financing activities?\n",
      "{'ticker': 'AMZN', 'document_type': 'Form 10K', 'year': '2023'}\n",
      "{'ticker': 'AMZN', 'document_type': 'Form 10Q', 'year': '2023 Q3'}\n",
      "------------------------------------------------------------------------------------------\n",
      "Query: 3. How have Amazon's cash flows from operating, investing, and financing activities evolved in the most recent fiscal year and quarter?\n",
      "{'ticker': 'AMZN', 'document_type': 'Form 10K', 'year': '2023'}\n",
      "{'ticker': 'AMZN', 'document_type': 'Form 10Q', 'year': '2023 Q3'}\n",
      "------------------------------------------------------------------------------------------\n",
      "Query: 4. Could you provide insights into the cash flow trends of Amazon, focusing on operating, investing, and financing activities for the recent fiscal year and quarter?\n",
      "{'ticker': 'AMZN', 'document_type': 'Form 10K', 'year': '2023'}\n",
      "{'ticker': 'AMZN', 'document_type': 'Form 10Q', 'year': '2023 Q3'}\n",
      "------------------------------------------------------------------------------------------\n",
      "Query: 5. What notable changes or trends can be observed in Amazon's cash flow statements for the latest fiscal year and quarter, particularly in operating, investing, and financing activities?\n",
      "{'ticker': 'AMZN', 'document_type': 'Form 10K', 'year': '2023'}\n",
      "{'ticker': 'AMZN', 'document_type': 'Form 10Q', 'year': '2023 Q3'}\n",
      "------------------------------------------------------------------------------------------\n"
     ]
    }
   ],
   "source": [
    "user_input = \"Provide an overview of Amazon's cash flow statements for the recent fiscal year and the most recent quarter. Focus on cash flows from operating activities, investing activities, and financing activities, and explain any major shifts or patterns observed.\"\n",
    "result_documents = run_pipeline(user_input)\n",
    "\n",
    "# Output the results\n",
    "for result in result_documents:\n",
    "    print(f\"Query: {result['query']}\")\n",
    "    for doc in result['documents']:\n",
    "        print(doc)\n",
    "    print(\"---\"*30)"
   ]
  },
  {
   "cell_type": "code",
   "execution_count": 31,
   "metadata": {},
   "outputs": [
    {
     "name": "stdout",
     "output_type": "stream",
     "text": [
      "Query: 1. What are the key risk factors highlighted in Amazon's latest Form 10-K, and how might they influence the company's financial performance and operations?\n",
      "{'ticker': 'AMZN', 'document_type': 'Form 10K', 'year': '2023'}\n",
      "------------------------------------------------------------------------------------------\n",
      "Query: 2. Can you list and elaborate on the top five risk factors outlined in Amazon's most recent Form 10-K, and analyze their potential effects on the company's financial performance and operations?\n",
      "{'ticker': 'AMZN', 'document_type': 'Form 10K', 'year': '2023'}\n",
      "------------------------------------------------------------------------------------------\n",
      "Query: 3. What are the significant risk factors identified in Amazon's most recent Form 10-K, and how could they affect the company's financial performance and operations?\n",
      "{'ticker': 'AMZN', 'document_type': 'Form 10K', 'year': '2023'}\n",
      "------------------------------------------------------------------------------------------\n",
      "Query: 4. Could you outline the primary risk factors disclosed in Amazon's most recent Form 10-K and discuss their potential impact on the company's financial performance and operations?\n",
      "{'ticker': 'AMZN', 'document_type': 'Form 10K', 'year': '2023'}\n",
      "------------------------------------------------------------------------------------------\n",
      "Query: 5. What are the major risk factors mentioned in Amazon's most recent Form 10-K, and how might they influence the company's financial performance and operations?\n",
      "{'ticker': 'AMZN', 'document_type': 'Form 10K', 'year': '2023'}\n",
      "------------------------------------------------------------------------------------------\n"
     ]
    }
   ],
   "source": [
    "user_input = \"Identify and explain the top five risk factors mentioned in Amazon's most recent Form 10-K. Discuss how these risks could potentially impact the company's financial performance and operations.\"\n",
    "result_documents = run_pipeline(user_input)\n",
    "\n",
    "# Output the results\n",
    "for result in result_documents:\n",
    "    print(f\"Query: {result['query']}\")\n",
    "    for doc in result['documents']:\n",
    "        print(doc)\n",
    "    print(\"---\"*30)"
   ]
  },
  {
   "cell_type": "code",
   "execution_count": 32,
   "metadata": {},
   "outputs": [
    {
     "name": "stdout",
     "output_type": "stream",
     "text": [
      "Query: 1. Can you provide an analysis of the strengths and weaknesses of NVDA and AMD from the last two years?\n",
      "{'ticker': 'NVDA', 'document_type': 'Form 10K', 'year': '2022'}\n",
      "{'ticker': 'NVDA', 'document_type': 'Form 10Q', 'year': '2022 Q3'}\n",
      "{'ticker': 'AMD', 'document_type': 'Form 10K', 'year': '2022'}\n",
      "{'ticker': 'AMD', 'document_type': 'Form 10Q', 'year': '2022 Q3'}\n",
      "{'ticker': 'NVDA', 'document_type': 'Form 10K', 'year': '2021'}\n",
      "{'ticker': 'NVDA', 'document_type': 'Form 10Q', 'year': '2021 Q3'}\n",
      "{'ticker': 'AMD', 'document_type': 'Form 10K', 'year': '2021'}\n",
      "{'ticker': 'AMD', 'document_type': 'Form 10Q', 'year': '2021 Q3'}\n",
      "------------------------------------------------------------------------------------------\n",
      "Query: 2. How have NVDA and AMD performed in terms of strengths and weaknesses in the past two years?\n",
      "{'ticker': 'NVDA', 'document_type': 'Form 10K', 'year': '2021'}\n",
      "{'ticker': 'NVDA', 'document_type': 'Form 10K', 'year': '2022'}\n",
      "{'ticker': 'NVDA', 'document_type': 'Form 10Q', 'year': '2021 Q3'}\n",
      "{'ticker': 'NVDA', 'document_type': 'Form 10Q', 'year': '2022 Q3'}\n",
      "{'ticker': 'AMD', 'document_type': 'Form 10K', 'year': '2021'}\n",
      "{'ticker': 'AMD', 'document_type': 'Form 10K', 'year': '2022'}\n",
      "{'ticker': 'AMD', 'document_type': 'Form 10Q', 'year': '2021 Q3'}\n",
      "{'ticker': 'AMD', 'document_type': 'Form 10Q', 'year': '2022 Q3'}\n",
      "------------------------------------------------------------------------------------------\n",
      "Query: 3. What are the key strengths and weaknesses of NVDA and AMD that have been observed over the last two years?\n",
      "{'ticker': 'NVDA', 'document_type': 'Form 10K', 'year': '2022'}\n",
      "{'ticker': 'NVDA', 'document_type': 'Form 10Q', 'year': '2022 Q3'}\n",
      "{'ticker': 'AMD', 'document_type': 'Form 10K', 'year': '2022'}\n",
      "{'ticker': 'AMD', 'document_type': 'Form 10Q', 'year': '2022 Q3'}\n",
      "{'ticker': 'NVDA', 'document_type': 'Form 10K', 'year': '2021'}\n",
      "{'ticker': 'NVDA', 'document_type': 'Form 10Q', 'year': '2021 Q3'}\n",
      "{'ticker': 'AMD', 'document_type': 'Form 10K', 'year': '2021'}\n",
      "{'ticker': 'AMD', 'document_type': 'Form 10Q', 'year': '2021 Q3'}\n",
      "------------------------------------------------------------------------------------------\n",
      "Query: 4. Could you outline the strengths and weaknesses of NVDA and AMD during the past two years?\n",
      "{'ticker': 'NVDA', 'document_type': 'Form 10K', 'year': '2021'}\n",
      "{'ticker': 'NVDA', 'document_type': 'Form 10K', 'year': '2022'}\n",
      "{'ticker': 'NVDA', 'document_type': 'Form 10Q', 'year': '2021 Q1'}\n",
      "{'ticker': 'NVDA', 'document_type': 'Form 10Q', 'year': '2021 Q2'}\n",
      "{'ticker': 'NVDA', 'document_type': 'Form 10Q', 'year': '2021 Q3'}\n",
      "{'ticker': 'NVDA', 'document_type': 'Form 10Q', 'year': '2022 Q1'}\n",
      "{'ticker': 'NVDA', 'document_type': 'Form 10Q', 'year': '2022 Q2'}\n",
      "{'ticker': 'NVDA', 'document_type': 'Form 10Q', 'year': '2022 Q3'}\n",
      "{'ticker': 'AMD', 'document_type': 'Form 10K', 'year': '2021'}\n",
      "{'ticker': 'AMD', 'document_type': 'Form 10K', 'year': '2022'}\n",
      "{'ticker': 'AMD', 'document_type': 'Form 10Q', 'year': '2021 Q1'}\n",
      "{'ticker': 'AMD', 'document_type': 'Form 10Q', 'year': '2021 Q2'}\n",
      "{'ticker': 'AMD', 'document_type': 'Form 10Q', 'year': '2021 Q3'}\n",
      "{'ticker': 'AMD', 'document_type': 'Form 10Q', 'year': '2022 Q1'}\n",
      "{'ticker': 'AMD', 'document_type': 'Form 10Q', 'year': '2022 Q2'}\n",
      "{'ticker': 'AMD', 'document_type': 'Form 10Q', 'year': '2022 Q3'}\n",
      "------------------------------------------------------------------------------------------\n",
      "Query: 5. In what ways have NVDA and AMD shown strengths and weaknesses over the past two years?\n",
      "{'ticker': 'NVDA', 'document_type': 'Form 10K', 'year': '2022'}\n",
      "{'ticker': 'NVDA', 'document_type': 'Form 10Q', 'year': '2022 Q3'}\n",
      "{'ticker': 'AMD', 'document_type': 'Form 10K', 'year': '2022'}\n",
      "{'ticker': 'AMD', 'document_type': 'Form 10Q', 'year': '2022 Q3'}\n",
      "{'ticker': 'NVDA', 'document_type': 'Form 10K', 'year': '2021'}\n",
      "{'ticker': 'NVDA', 'document_type': 'Form 10Q', 'year': '2021 Q3'}\n",
      "{'ticker': 'AMD', 'document_type': 'Form 10K', 'year': '2021'}\n",
      "{'ticker': 'AMD', 'document_type': 'Form 10Q', 'year': '2021 Q3'}\n",
      "------------------------------------------------------------------------------------------\n"
     ]
    }
   ],
   "source": [
    "user_input = \"What are the strengths and weakness of NVDA and AMD over the past two years?\"\n",
    "result_documents = run_pipeline(user_input)\n",
    "\n",
    "# Output the results\n",
    "for result in result_documents:\n",
    "    print(f\"Query: {result['query']}\")\n",
    "    for doc in result['documents']:\n",
    "        print(doc)\n",
    "    print(\"---\"*30)"
   ]
  },
  {
   "cell_type": "code",
   "execution_count": 33,
   "metadata": {},
   "outputs": [],
   "source": [
    "from langchain.prompts import ChatPromptTemplate\n",
    "\n",
    "# RAG-Fusion: Related\n",
    "template = \"\"\"You are a helpful assistant that generates multiple search queries based on a single input query. \\n\n",
    "Generate multiple search queries related to: {question} \\n\n",
    "Output (4 queries):\"\"\"\n",
    "prompt_rag_fusion = ChatPromptTemplate.from_template(template)\n",
    "\n",
    "generate_queries = (\n",
    "prompt_rag_fusion \n",
    "| ChatOpenAI(temperature=0) \n",
    "| StrOutputParser() \n",
    "| (lambda x: x.split(\"\\n\"))\n",
    ")"
   ]
  },
  {
   "cell_type": "code",
   "execution_count": 34,
   "metadata": {},
   "outputs": [
    {
     "name": "stdout",
     "output_type": "stream",
     "text": [
      "Query: 1. What are the biggest risks to Amazon's e-commerce dominance?\n",
      "{'ticker': 'AMZN', 'document_type': 'Form 10K', 'year': '2023'}\n",
      "{'ticker': 'AMZN', 'document_type': 'Form 10Q', 'year': '2023 Q3'}\n",
      "------------------------------------------------------------------------------------------\n",
      "Query: 2. How does Amazon's reliance on third-party sellers pose a risk to its business?\n",
      "{'ticker': 'AMZN', 'document_type': 'Form 10K', 'year': '2023'}\n",
      "{'ticker': 'AMZN', 'document_type': 'Form 10Q', 'year': '2023 Q3'}\n",
      "------------------------------------------------------------------------------------------\n",
      "Query: 3. What are the potential risks of Amazon's expansion into new markets, such as healthcare and grocery?\n",
      "{'ticker': 'AMZN', 'document_type': 'Form 10K', 'year': '2023'}\n",
      "{'ticker': 'AMZN', 'document_type': 'Form 10Q', 'year': '2023 Q3'}\n",
      "------------------------------------------------------------------------------------------\n",
      "Query: 4. How does regulatory scrutiny and antitrust concerns pose a risk to Amazon's future growth?\n",
      "{'ticker': 'AMZN', 'document_type': 'Form 10K', 'year': '2023'}\n",
      "{'ticker': 'AMZN', 'document_type': 'Form 10Q', 'year': '2023 Q3'}\n",
      "------------------------------------------------------------------------------------------\n"
     ]
    }
   ],
   "source": [
    "# Define the pipeline using LangChain expression language\n",
    "pipeline = generate_queries | (lambda queries: [{\"query\": query, \"documents\": sec_insights_documents_selector(query)} for query in queries])\n",
    "\n",
    "# Function to run the entire pipeline\n",
    "def run_pipeline(user_input: str) -> List[Dict[str, List[Dict[str, str]]]]:\n",
    "    result_documents = pipeline.invoke({\"question\": user_input})\n",
    "    return result_documents\n",
    "\n",
    "# Example usage\n",
    "user_input = \"What are the biggest discussed risks for Amazon.com Inc. (AMZN)?\"\n",
    "result_documents = run_pipeline(user_input)\n",
    "\n",
    "# Output the results\n",
    "for result in result_documents:\n",
    "    print(f\"Query: {result['query']}\")\n",
    "    for doc in result['documents']:\n",
    "        print(doc)\n",
    "    print(\"---\"*30)"
   ]
  },
  {
   "cell_type": "markdown",
   "metadata": {},
   "source": [
    "# Decomposition"
   ]
  },
  {
   "cell_type": "code",
   "execution_count": 35,
   "metadata": {},
   "outputs": [],
   "source": [
    "from langchain.prompts import ChatPromptTemplate\n",
    "\n",
    "# Decomposition\n",
    "template = \"\"\"You are a helpful assistant that generates multiple sub-questions related to an input question. \\n\n",
    "The goal is to break down the input into a set of sub-problems / sub-questions that can be answers in isolation. \\n\n",
    "Generate multiple search queries related to: {question} \\n\n",
    "Output (3 queries):\"\"\"\n",
    "prompt_decomposition = ChatPromptTemplate.from_template(template)"
   ]
  },
  {
   "cell_type": "code",
   "execution_count": 36,
   "metadata": {},
   "outputs": [
    {
     "name": "stdout",
     "output_type": "stream",
     "text": [
      "Query: 1. What are the biggest cybersecurity risks for Amazon.com Inc. (AMZN)?\n",
      "{'ticker': 'AMZN', 'document_type': 'Form 10K', 'year': '2023'}\n",
      "{'ticker': 'AMZN', 'document_type': 'Form 10Q', 'year': '2023 Q3'}\n",
      "------------------------------------------------------------------------------------------\n",
      "Query: 2. What are the biggest regulatory risks for Amazon.com Inc. (AMZN)?\n",
      "{'ticker': 'AMZN', 'document_type': 'Form 10K', 'year': '2023'}\n",
      "{'ticker': 'AMZN', 'document_type': 'Form 10Q', 'year': '2023 Q3'}\n",
      "------------------------------------------------------------------------------------------\n",
      "Query: 3. What are the biggest competition risks for Amazon.com Inc. (AMZN)?\n",
      "{'ticker': 'AMZN', 'document_type': 'Form 10K', 'year': '2023'}\n",
      "{'ticker': 'AMZN', 'document_type': 'Form 10Q', 'year': '2023 Q3'}\n",
      "------------------------------------------------------------------------------------------\n",
      "Query: 4. What are the biggest supply chain risks for Amazon.com Inc. (AMZN)?\n",
      "{'ticker': 'AMZN', 'document_type': 'Form 10K', 'year': '2023'}\n",
      "{'ticker': 'AMZN', 'document_type': 'Form 10Q', 'year': '2023 Q3'}\n",
      "------------------------------------------------------------------------------------------\n"
     ]
    }
   ],
   "source": [
    "generate_queries_decomposition = (\n",
    "    prompt_decomposition \n",
    "    | ChatOpenAI(temperature=0) \n",
    "    | StrOutputParser() \n",
    "    | (lambda x: x.split(\"\\n\"))\n",
    ")\n",
    "\n",
    "# Define the pipeline using LangChain expression language\n",
    "pipeline = generate_queries | (lambda queries: [{\"query\": query, \"documents\": sec_insights_documents_selector(query)} for query in queries])\n",
    "\n",
    "# Function to run the entire pipeline\n",
    "def run_pipeline(user_input: str) -> List[Dict[str, List[Dict[str, str]]]]:\n",
    "    result_documents = pipeline.invoke({\"question\": user_input})\n",
    "    return result_documents\n",
    "\n",
    "# Example usage\n",
    "user_input = \"What are the biggest discussed risks for Amazon.com Inc. (AMZN)?\"\n",
    "result_documents = run_pipeline(user_input)\n",
    "\n",
    "# Output the results\n",
    "for result in result_documents:\n",
    "    print(f\"Query: {result['query']}\")\n",
    "    for doc in result['documents']:\n",
    "        print(doc)\n",
    "    print(\"---\"*30)"
   ]
  },
  {
   "cell_type": "code",
   "execution_count": 37,
   "metadata": {},
   "outputs": [
    {
     "name": "stdout",
     "output_type": "stream",
     "text": [
      "Query: 1. \"Amazon corporate governance structure\"\n",
      "{'ticker': 'AMZN', 'document_type': 'Form 10K', 'year': '2023'}\n",
      "{'ticker': 'AMZN', 'document_type': 'Form 10Q', 'year': '2023 Q3'}\n",
      "------------------------------------------------------------------------------------------\n",
      "Query: 2. \"Amazon executive officers roles and responsibilities\"\n",
      "{'ticker': 'AMZN', 'document_type': 'Form 10K', 'year': '2023'}\n",
      "{'ticker': 'AMZN', 'document_type': 'Form 10Q', 'year': '2023 Q3'}\n",
      "------------------------------------------------------------------------------------------\n",
      "Query: 3. \"Amazon board of directors members\"\n",
      "{'ticker': 'AMZN', 'document_type': 'Form 10K', 'year': '2023'}\n",
      "------------------------------------------------------------------------------------------\n",
      "Query: 4. \"Amazon corporate governance policies and practices\"\n",
      "{'ticker': 'AMZN', 'document_type': 'Form 10K', 'year': '2023'}\n",
      "{'ticker': 'AMZN', 'document_type': 'Form 10Q', 'year': '2023 Q3'}\n",
      "------------------------------------------------------------------------------------------\n"
     ]
    }
   ],
   "source": [
    "user_input = \"Provide detailed information on the corporate governance of Amazon, including the roles and responsibilities of key executive officers and the board of directors\\\n",
    "    for Amazon.com Inc. (AMZN)?\"\n",
    "result_documents = run_pipeline(user_input)\n",
    "\n",
    "# Output the results\n",
    "for result in result_documents:\n",
    "    print(f\"Query: {result['query']}\")\n",
    "    for doc in result['documents']:\n",
    "        print(doc)\n",
    "    print(\"---\"*30)"
   ]
  },
  {
   "cell_type": "code",
   "execution_count": 38,
   "metadata": {},
   "outputs": [
    {
     "name": "stdout",
     "output_type": "stream",
     "text": [
      "Query: 1. Amazon revenue breakdown by segment (North America, International, AWS) for fiscal year 2020\n",
      "{'ticker': 'AMZN', 'document_type': 'Form 10K', 'year': '2020'}\n",
      "------------------------------------------------------------------------------------------\n",
      "Query: 2. Year-over-year growth comparison of Amazon's revenue segments (North America, International, AWS) for fiscal years 2018, 2019, and 2020\n",
      "{'ticker': 'AMZN', 'document_type': 'Form 10K', 'year': '2018'}\n",
      "{'ticker': 'AMZN', 'document_type': 'Form 10K', 'year': '2019'}\n",
      "{'ticker': 'AMZN', 'document_type': 'Form 10K', 'year': '2020'}\n",
      "------------------------------------------------------------------------------------------\n",
      "Query: 3. Detailed analysis of Amazon's revenue streams in North America for the past three fiscal years\n",
      "{'ticker': 'AMZN', 'document_type': 'Form 10K', 'year': '2021'}\n",
      "{'ticker': 'AMZN', 'document_type': 'Form 10K', 'year': '2020'}\n",
      "{'ticker': 'AMZN', 'document_type': 'Form 10K', 'year': '2019'}\n",
      "------------------------------------------------------------------------------------------\n",
      "Query: 4. Comparison of revenue growth in Amazon's International segment over the past three fiscal years\n",
      "{'ticker': 'AMZN', 'document_type': 'Form 10K', 'year': '2021'}\n",
      "{'ticker': 'AMZN', 'document_type': 'Form 10K', 'year': '2020'}\n",
      "{'ticker': 'AMZN', 'document_type': 'Form 10K', 'year': '2019'}\n",
      "------------------------------------------------------------------------------------------\n"
     ]
    }
   ],
   "source": [
    "user_input = \"Generate a detailed analysis of Amazon's revenue streams over the past three fiscal years. Break down the revenue by segments such as North America, International, and AWS. Also, provide a year-over-year growth comparison for each segment.\"\n",
    "result_documents = run_pipeline(user_input)\n",
    "\n",
    "# Output the results\n",
    "for result in result_documents:\n",
    "    print(f\"Query: {result['query']}\")\n",
    "    for doc in result['documents']:\n",
    "        print(doc)\n",
    "    print(\"---\"*30)"
   ]
  },
  {
   "cell_type": "code",
   "execution_count": 39,
   "metadata": {},
   "outputs": [
    {
     "name": "stdout",
     "output_type": "stream",
     "text": [
      "Query: 1. NVDA stock performance analysis over the past two years\n",
      "{'ticker': 'NVDA', 'document_type': 'Form 10K', 'year': '2022'}\n",
      "{'ticker': 'NVDA', 'document_type': 'Form 10K', 'year': '2021'}\n",
      "{'ticker': 'NVDA', 'document_type': 'Form 10Q', 'year': '2022 Q3'}\n",
      "{'ticker': 'NVDA', 'document_type': 'Form 10Q', 'year': '2022 Q2'}\n",
      "{'ticker': 'NVDA', 'document_type': 'Form 10Q', 'year': '2022 Q1'}\n",
      "{'ticker': 'NVDA', 'document_type': 'Form 10Q', 'year': '2021 Q3'}\n",
      "{'ticker': 'NVDA', 'document_type': 'Form 10Q', 'year': '2021 Q2'}\n",
      "{'ticker': 'NVDA', 'document_type': 'Form 10Q', 'year': '2021 Q1'}\n",
      "------------------------------------------------------------------------------------------\n",
      "Query: 2. AMD financial performance comparison with NVDA in the last two years\n",
      "{'ticker': 'AMD', 'document_type': 'Form 10K', 'year': '2022'}\n",
      "{'ticker': 'AMD', 'document_type': 'Form 10Q', 'year': '2022 Q3'}\n",
      "{'ticker': 'NVDA', 'document_type': 'Form 10K', 'year': '2022'}\n",
      "{'ticker': 'NVDA', 'document_type': 'Form 10Q', 'year': '2022 Q3'}\n",
      "{'ticker': 'AMD', 'document_type': 'Form 10K', 'year': '2021'}\n",
      "{'ticker': 'AMD', 'document_type': 'Form 10Q', 'year': '2021 Q3'}\n",
      "{'ticker': 'NVDA', 'document_type': 'Form 10K', 'year': '2021'}\n",
      "{'ticker': 'NVDA', 'document_type': 'Form 10Q', 'year': '2021 Q3'}\n",
      "------------------------------------------------------------------------------------------\n",
      "Query: 3. Strengths and weaknesses of NVDA products in the past two years\n",
      "{'ticker': 'NVDA', 'document_type': 'Form 10K', 'year': '2022'}\n",
      "{'ticker': 'NVDA', 'document_type': 'Form 10K', 'year': '2021'}\n",
      "{'ticker': 'NVDA', 'document_type': 'Form 10Q', 'year': '2022 Q3'}\n",
      "{'ticker': 'NVDA', 'document_type': 'Form 10Q', 'year': '2022 Q2'}\n",
      "{'ticker': 'NVDA', 'document_type': 'Form 10Q', 'year': '2022 Q1'}\n",
      "{'ticker': 'NVDA', 'document_type': 'Form 10Q', 'year': '2021 Q3'}\n",
      "{'ticker': 'NVDA', 'document_type': 'Form 10Q', 'year': '2021 Q2'}\n",
      "{'ticker': 'NVDA', 'document_type': 'Form 10Q', 'year': '2021 Q1'}\n",
      "------------------------------------------------------------------------------------------\n",
      "Query: 4. AMD market share growth compared to NVDA in the last two years\n",
      "{'ticker': 'AMD', 'document_type': 'Form 10K', 'year': '2022'}\n",
      "{'ticker': 'AMD', 'document_type': 'Form 10Q', 'year': '2022 Q3'}\n",
      "{'ticker': 'NVDA', 'document_type': 'Form 10K', 'year': '2022'}\n",
      "{'ticker': 'NVDA', 'document_type': 'Form 10Q', 'year': '2022 Q3'}\n",
      "{'ticker': 'AMD', 'document_type': 'Form 10K', 'year': '2021'}\n",
      "{'ticker': 'AMD', 'document_type': 'Form 10Q', 'year': '2021 Q3'}\n",
      "{'ticker': 'NVDA', 'document_type': 'Form 10K', 'year': '2021'}\n",
      "{'ticker': 'NVDA', 'document_type': 'Form 10Q', 'year': '2021 Q3'}\n",
      "------------------------------------------------------------------------------------------\n"
     ]
    }
   ],
   "source": [
    "user_input = \"What are the strengths and weakness of NVDA and AMD over the past two years?\"\n",
    "result_documents = run_pipeline(user_input)\n",
    "\n",
    "# Output the results\n",
    "for result in result_documents:\n",
    "    print(f\"Query: {result['query']}\")\n",
    "    for doc in result['documents']:\n",
    "        print(doc)\n",
    "    print(\"---\"*30)"
   ]
  },
  {
   "cell_type": "markdown",
   "metadata": {},
   "source": [
    "# StepBack "
   ]
  },
  {
   "cell_type": "code",
   "execution_count": 18,
   "metadata": {},
   "outputs": [],
   "source": [
    "prompt_step_back = ChatPromptTemplate.from_messages(\n",
    "    [\n",
    "        (\"system\", \n",
    "         \"\"\"You are an expert in world knowledge. Your task is to paraphrase a specific question into a more generic and broader question, making it easier to answer. Here are a few examples:\"\"\"\n",
    "        ),\n",
    "        # Few-shot examples\n",
    "        (\"user\", \n",
    "            \"Could the members of The Police perform lawful arrests?\"\n",
    "        ),\n",
    "        (\"assistant\", \n",
    "            \"What can the members of The Police do?\"\n",
    "        ),\n",
    "        (\"user\", \n",
    "            \"Jan Sindel was born in what country?\"\n",
    "        ),\n",
    "        (\"assistant\", \n",
    "            \"What is Jan Sindel’s personal history?\"\n",
    "        ),\n",
    "        # New question\n",
    "        (\"user\", \"{question}\"),\n",
    "        (\"assistant\", \"\")\n",
    "    ]\n",
    ")\n"
   ]
  },
  {
   "cell_type": "code",
   "execution_count": 19,
   "metadata": {},
   "outputs": [],
   "source": [
    "from langchain.prompts import ChatPromptTemplate\n",
    "from langchain_core.output_parsers import StrOutputParser\n",
    "from langchain_openai import ChatOpenAI\n",
    "\n",
    "generate_queries = (\n",
    "prompt_step_back \n",
    "| ChatOpenAI(temperature=0) \n",
    "| StrOutputParser() \n",
    "| (lambda x: x.split(\"\\n\"))\n",
    ")\n"
   ]
  },
  {
   "cell_type": "code",
   "execution_count": 20,
   "metadata": {},
   "outputs": [
    {
     "name": "stdout",
     "output_type": "stream",
     "text": [
      "Query: What are the major risks associated with investing in Amazon.com Inc. (AMZN)?\n",
      "{'ticker': 'AMZN', 'document_type': 'Form 10K', 'year': '2023'}\n",
      "{'ticker': 'AMZN', 'document_type': 'Form 10Q', 'year': '2023 Q3'}\n",
      "------------------------------------------------------------------------------------------\n"
     ]
    }
   ],
   "source": [
    "# Define the pipeline using LangChain expression language\n",
    "pipeline = generate_queries | (lambda queries: [{\"query\": query, \"documents\": sec_insights_documents_selector(query)} for query in queries])\n",
    "\n",
    "# Function to run the entire pipeline\n",
    "def run_pipeline(user_input: str) -> List[Dict[str, List[Dict[str, str]]]]:\n",
    "    result_documents = pipeline.invoke({\"question\": user_input})\n",
    "    return result_documents\n",
    "\n",
    "# Example usage\n",
    "user_input = \"What are the biggest discussed risks for Amazon.com Inc. (AMZN)?\"\n",
    "result_documents = run_pipeline(user_input)\n",
    "\n",
    "# Output the results\n",
    "for result in result_documents:\n",
    "    print(f\"Query: {result['query']}\")\n",
    "    for doc in result['documents']:\n",
    "        print(doc)\n",
    "    print(\"---\"*30)"
   ]
  },
  {
   "cell_type": "code",
   "execution_count": 21,
   "metadata": {},
   "outputs": [
    {
     "name": "stdout",
     "output_type": "stream",
     "text": [
      "Query: What are the recent trends in Amazon's operating expenses and key components?\n",
      "{'ticker': 'AMZN', 'document_type': 'Form 10K', 'year': '2023'}\n",
      "{'ticker': 'AMZN', 'document_type': 'Form 10Q', 'year': '2023 Q3'}\n",
      "------------------------------------------------------------------------------------------\n"
     ]
    }
   ],
   "source": [
    "user_input = \"Summarize the operating expenses for Amazon over the last two quarters, highlighting key components such as cost of sales, fulfillment, technology and content, marketing, general and administrative, and other operating expenses. Include any significant changes or trends.\"\n",
    "result_documents = run_pipeline(user_input)\n",
    "\n",
    "# Output the results\n",
    "for result in result_documents:\n",
    "    print(f\"Query: {result['query']}\")\n",
    "    for doc in result['documents']:\n",
    "        print(doc)\n",
    "    print(\"---\"*30)"
   ]
  },
  {
   "cell_type": "markdown",
   "metadata": {},
   "source": [
    "# HyDE"
   ]
  },
  {
   "cell_type": "code",
   "execution_count": 25,
   "metadata": {},
   "outputs": [
    {
     "data": {
      "text/plain": [
       "\"One of the biggest discussed risks for Amazon.com Inc. (AMZN) is regulatory scrutiny and antitrust concerns. As one of the largest e-commerce companies in the world, Amazon has faced increasing scrutiny from regulators and lawmakers regarding its market dominance and potential anti-competitive practices. This includes concerns over Amazon's control over online retail, cloud computing services, and its impact on small businesses. Additionally, Amazon's data practices and privacy policies have also come under scrutiny, with concerns over the company's collection and use of customer data. These regulatory risks could potentially lead to fines, legal battles, and restrictions on Amazon's business practices, which could impact the company's financial performance and reputation.\""
      ]
     },
     "execution_count": 25,
     "metadata": {},
     "output_type": "execute_result"
    }
   ],
   "source": [
    "from langchain.prompts import ChatPromptTemplate\n",
    "\n",
    "# HyDE document genration\n",
    "template = \"\"\"Please write a scientific paper passage to answer the question\n",
    "Question: {question}\n",
    "Passage:\"\"\"\n",
    "prompt_hyde = ChatPromptTemplate.from_template(template)\n",
    "\n",
    "from langchain_core.output_parsers import StrOutputParser\n",
    "from langchain_openai import ChatOpenAI\n",
    "\n",
    "generate_queries = (\n",
    "    prompt_hyde | ChatOpenAI(temperature=0) | StrOutputParser() \n",
    ")\n",
    "\n",
    "# Run\n",
    "question = \"What are the biggest discussed risks for Amazon.com Inc. (AMZN)?\"\n",
    "generate_queries.invoke({\"question\":question})\n",
    "\n",
    "#need retriever to proceed further.."
   ]
  }
 ],
 "metadata": {
  "kernelspec": {
   "display_name": "myenv",
   "language": "python",
   "name": "python3"
  },
  "language_info": {
   "codemirror_mode": {
    "name": "ipython",
    "version": 3
   },
   "file_extension": ".py",
   "mimetype": "text/x-python",
   "name": "python",
   "nbconvert_exporter": "python",
   "pygments_lexer": "ipython3",
   "version": "3.10.14"
  }
 },
 "nbformat": 4,
 "nbformat_minor": 2
}
